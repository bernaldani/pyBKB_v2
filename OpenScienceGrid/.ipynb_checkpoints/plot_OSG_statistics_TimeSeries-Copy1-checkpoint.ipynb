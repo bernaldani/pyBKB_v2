{
 "cells": [
  {
   "cell_type": "markdown",
   "metadata": {
    "collapsed": true
   },
   "source": [
    "# Time Series HRRR Statistics from OSG"
   ]
  },
  {
   "cell_type": "code",
   "execution_count": 2,
   "metadata": {
    "collapsed": false
   },
   "outputs": [],
   "source": [
    "%matplotlib inline\n",
    "import h5py\n",
    "import matplotlib.pyplot as plt\n",
    "import multiprocessing\n",
    "import numpy as np\n",
    "from collections import OrderedDict\n",
    "\n",
    "import sys\n",
    "sys.path.append('/uufs/chpc.utah.edu/common/home/u0553130/pyBKB_v2')\n",
    "from BB_downloads.HRRR_S3 import *\n",
    "from BB_wx_calcs.wind import wind_uv_to_spd\n",
    "from BB_basemap.draw_maps import draw_CONUS_HRRR_map\n",
    "from BB_MesoWest.MesoWest_STNinfo import get_MW_location_dict\n",
    "from BB_MesoWest.MesoWest_timeseries import get_mesowest_ts\n",
    "from BB_MesoWest.MesoWest_percentiles import get_mesowest_percentiles\n",
    "from BB_data.grid_manager import pluck_point_new"
   ]
  },
  {
   "cell_type": "code",
   "execution_count": 84,
   "metadata": {
    "collapsed": true
   },
   "outputs": [],
   "source": [
    "from matplotlib.dates import DateFormatter\n",
    "formatter = DateFormatter('%b')\n",
    "\n",
    "import matplotlib as mpl \n",
    "mpl.rcParams['figure.figsize'] = [6.5, 3.5]\n",
    "mpl.rcParams['figure.titlesize'] = 12\n",
    "mpl.rcParams['figure.titleweight'] = 'bold'\n",
    "mpl.rcParams['xtick.labelsize'] = 8\n",
    "mpl.rcParams['ytick.labelsize'] = 8\n",
    "mpl.rcParams['axes.labelsize'] = 8\n",
    "mpl.rcParams['axes.titlesize'] = 10\n",
    "mpl.rcParams['lines.linewidth'] = 1.8\n",
    "mpl.rcParams['grid.linewidth'] = .25\n",
    "mpl.rcParams['figure.subplot.wspace'] = 0.05\n",
    "mpl.rcParams['figure.subplot.hspace'] = 0.05\n",
    "mpl.rcParams['legend.fontsize'] = 7\n",
    "mpl.rcParams['legend.framealpha'] = .75\n",
    "mpl.rcParams['legend.loc'] = 'best'\n",
    "mpl.rcParams['savefig.bbox'] = 'tight'\n",
    "    \n",
    "mpl.rcParams['savefig.dpi'] = 600    # print\n",
    "#mpl.rcParams['savefig.dpi'] = 300    # print\n",
    "#mpl.rcParams['savefig.dpi'] = 72     # web"
   ]
  },
  {
   "cell_type": "code",
   "execution_count": 4,
   "metadata": {
    "collapsed": true
   },
   "outputs": [],
   "source": [
    "m = draw_CONUS_HRRR_map()"
   ]
  },
  {
   "cell_type": "markdown",
   "metadata": {},
   "source": [
    "### Get lat/lon grid from file for plotting"
   ]
  },
  {
   "cell_type": "code",
   "execution_count": 5,
   "metadata": {
    "collapsed": true
   },
   "outputs": [],
   "source": [
    "DIR = '/uufs/chpc.utah.edu/common/home/horel-group2/blaylock/HRRR_OSG/'\n",
    "latlon_file = h5py.File(DIR+'OSG_HRRR_latlon.h5', 'r')\n",
    "lat = latlon_file['latitude'].value\n",
    "lon = latlon_file['longitude'].value"
   ]
  },
  {
   "cell_type": "markdown",
   "metadata": {},
   "source": [
    "### Get a point from the grid (multiprocessor)"
   ]
  },
  {
   "cell_type": "code",
   "execution_count": 37,
   "metadata": {
    "collapsed": true
   },
   "outputs": [],
   "source": [
    "def get_point_MP(inputs):\n",
    "    \"\"\"\n",
    "    Function for MultiProcessing:\n",
    "    Return the value from a point in the HDF5 file array\n",
    "    \"\"\"\n",
    "    FILE, STAT, ROW, COL = inputs\n",
    "    try:\n",
    "        with h5py.File(FILE, 'r') as f:\n",
    "            return f[STAT][ROW][COL]\n",
    "    except:\n",
    "        #print \"COULD NOT GET\", FILE\n",
    "        return np.nan\n",
    "\n",
    "def get_point_COUNTS_MP(inputs):\n",
    "    \"\"\"\n",
    "    Function for MultiProcessing:\n",
    "    Return the value from a point in the HDF5 file array\n",
    "    \"\"\"\n",
    "    FILE = inputs\n",
    "    try:\n",
    "        with h5py.File(FILE, 'r') as f:\n",
    "            return f['count'].value\n",
    "    except:\n",
    "        #print \"COULD NOT GET\", FILE\n",
    "        return np.nan"
   ]
  },
  {
   "cell_type": "code",
   "execution_count": 31,
   "metadata": {
    "collapsed": false
   },
   "outputs": [
    {
     "name": "stdout",
     "output_type": "stream",
     "text": [
      "0:00:00.398410\n"
     ]
    }
   ],
   "source": [
    "# Generate the Counts from the HRRR OSG data\n",
    "args = [DIR+'OSG_HRRR_%s_m%02d_d%02d_h%02d_f00.h5' % (variable, month, day, 18) for month in months for day in range(1, days[month-1]+1)]\n",
    "timer = datetime.now()\n",
    "COUNTS = map(get_point_COUNTS_MP, args)\n",
    "p.close()\n",
    "print datetime.now()-timer"
   ]
  },
  {
   "cell_type": "code",
   "execution_count": null,
   "metadata": {
    "collapsed": true
   },
   "outputs": [],
   "source": []
  },
  {
   "cell_type": "markdown",
   "metadata": {},
   "source": [
    "-------"
   ]
  },
  {
   "cell_type": "markdown",
   "metadata": {},
   "source": [
    "# Time Series"
   ]
  },
  {
   "cell_type": "markdown",
   "metadata": {},
   "source": [
    "### Input Arguments\n",
    "statistic can be from the list:  \n",
    "`mean, p00, p01, p02, p03, p04, p05, p10, p15, p25, p33, p50, p66, p75, p90, p95, p96, p97, p98, p99, p100`"
   ]
  },
  {
   "cell_type": "code",
   "execution_count": 90,
   "metadata": {
    "collapsed": false
   },
   "outputs": [],
   "source": [
    "statistics = ['p00', 'p05', 'p25', 'p50', 'p75', 'p95', 'p100']\n",
    "#statistics = ['p05', 'p50', 'p95']\n",
    "var = 'UVGRD:10 m'\n",
    "stn = 'WBB'\n",
    "fxx = 0\n",
    "\n",
    "hours = range(24)\n",
    "hours = [18]\n",
    "\n",
    "# Range to get MesoWest and HRRR values (eDATE is exclusive)\n",
    "sDATE = datetime(2017, 1, 1)\n",
    "eDATE = datetime(2018, 1, 1)\n",
    "\n",
    "plot_HRRR = False\n",
    "plot_MW = False\n",
    "plot_POLYWOG = False"
   ]
  },
  {
   "cell_type": "markdown",
   "metadata": {},
   "source": [
    "##### Additional Setup"
   ]
  },
  {
   "cell_type": "code",
   "execution_count": 51,
   "metadata": {
    "collapsed": false
   },
   "outputs": [],
   "source": [
    "variable = var.replace(':', '_').replace(' ', '_')\n",
    "DIR = '/uufs/chpc.utah.edu/common/home/horel-group2/blaylock/HRRR_OSG/hourly30/%s/' % (variable)\n",
    "\n",
    "if var == 'TMP:2 m':\n",
    "    MWvar = 'air_temp'\n",
    "    label = '2 m Temperature (C)'\n",
    "elif var == 'DPT:2 m':\n",
    "    MWvar = 'dew_point_temperature'\n",
    "    label = '2 m Dew Point Temperature (C)'\n",
    "elif var == 'UVGRD:10 m':\n",
    "    MWvar = 'wind_speed'\n",
    "    label = r'10 m Wind Speed (m s$\\mathregular{^{-1}}$)'\n",
    "elif var == 'UVGRD:80 m':\n",
    "    MWvar = 'wind_speed'\n",
    "    label = r'80 m Wind Speed (m s$\\mathregular{^{-1}}$)'\n",
    "else:\n",
    "    MWvar = ''\n",
    "    print \"NO MATCHING VAR AND MESOWEST VAR\"\n",
    "\n",
    "if (eDATE-sDATE).days < 365:\n",
    "    months = np.arange(sDATE.month,eDATE.month+1)\n",
    "else:\n",
    "    months = np.arange(1,13)\n",
    "\n",
    "days = [31, 29, 31, 30, 31, 30, 31, 31, 30, 31, 30, 31]\n",
    "\n",
    "# Dates (with leap year)\n",
    "DAYS = days[months[0]-1:months[-1]]\n",
    "HOURS = np.sum(DAYS)*24 # number of days times 24\n",
    "DATES = np.array([datetime(2016, sDATE.month, sDATE.day) + timedelta(hours = h) for h in range(HOURS)])\n",
    "DATES = DATES[::24/len(hours)] # in case we don't request all 24 hours\n",
    "\n",
    "\n",
    "# Plot Window (convert needs to be a leap year, so use 2016)\n",
    "if (eDATE-sDATE).days >=365:\n",
    "    sPLOT = datetime(2016, sDATE.month, sDATE.day, sDATE.hour)\n",
    "    ePLOT = datetime(2017, eDATE.month, eDATE.day, eDATE.hour)\n",
    "else:\n",
    "    sPLOT = datetime(2016, sDATE.month, sDATE.day, sDATE.hour)\n",
    "    ePLOT = datetime(2016, eDATE.month, eDATE.day, eDATE.hour)"
   ]
  },
  {
   "cell_type": "markdown",
   "metadata": {},
   "source": [
    "### Get a HRRR and MesoWest time series for a point"
   ]
  },
  {
   "cell_type": "code",
   "execution_count": 52,
   "metadata": {
    "collapsed": false
   },
   "outputs": [],
   "source": [
    "# MesoWest Station Info\n",
    "LD = get_MW_location_dict(stn)\n",
    "MWlat = LD[stn]['latitude']\n",
    "MWlon = LD[stn]['longitude']\n",
    "\n",
    "# Get MewsoWest Time Series\n",
    "if plot_MW:\n",
    "    # Get MesoWest Time Series\n",
    "    a = get_mesowest_ts(stn, sDATE, eDATE, variables=MWvar,)\n",
    "\n",
    "    # Convert datetime to a leap year date so we can easily plot them with percentiles, sharing the axis.\n",
    "    MW_DATES = [datetime(2016, d.month, d.day, d.hour, d.minute) for d in a['DATETIME']]\n",
    "\n",
    "# Get HRRR Time Series for analysis (f00)\n",
    "if plot_HRRR:\n",
    "    if var == 'UVGRD:10 m':\n",
    "        \"\"\"\n",
    "        HRRR_date, U = point_hrrr_time_series(sDATE, eDATE,\n",
    "                                              variable='UGRD:10 m',\n",
    "                                              lat=MWlat, lon=MWlon,\n",
    "                                              verbose=False)\n",
    "        HRRR_date, V = point_hrrr_time_series(sDATE, eDATE,\n",
    "                                              variable='UGRD:10 m',\n",
    "                                              lat=MWlat, lon=MWlon,\n",
    "                                              verbose=False)\n",
    "        HRRR_val = wind_uv_to_spd(U, V)\n",
    "        \"\"\"\n",
    "        HRRR_date, HRRR_val = point_hrrr_time_series(sDATE, eDATE,\n",
    "                                                     variable='WIND:10 m',\n",
    "                                                     lat=MWlat, lon=MWlon,\n",
    "                                                     verbose=False)\n",
    "\n",
    "    else:\n",
    "        HRRR_date, HRRR_val = point_hrrr_time_series(sDATE, eDATE,\n",
    "                                                     variable='TMP:2 m',\n",
    "                                                     lat=MWlat, lon=MWlon,\n",
    "                                                     verbose=False)\n",
    "        HRRR_val = HRRR_val-273.15\n",
    "\n",
    "    HRRR_DATES = [datetime(2016, d.month, d.day, d.hour, d.minute) for d in HRRR_date]"
   ]
  },
  {
   "cell_type": "markdown",
   "metadata": {},
   "source": [
    "### Get HRRR Percentile Data"
   ]
  },
  {
   "cell_type": "code",
   "execution_count": 53,
   "metadata": {
    "collapsed": false,
    "scrolled": true
   },
   "outputs": [
    {
     "name": "stdout",
     "output_type": "stream",
     "text": [
      "Station: WBB\n",
      "Grid Point: (array([644]), array([498]))\n",
      "Variable: TMP:2 m and air_temp\n",
      "Statistic: ['p00', 'p05', 'p25', 'p50', 'p75', 'p95', 'p100']\n",
      "p00 Timer:0:00:07.694761\n",
      "p05 Timer:0:00:04.429891\n",
      "p25 Timer:0:00:04.235305\n",
      "p50 Timer:0:00:04.414058\n",
      "p75 Timer:0:00:04.099389\n",
      "p95 Timer:0:00:04.157026\n",
      "p100 Timer:0:00:02.663676\n"
     ]
    }
   ],
   "source": [
    "# Get Time Series Data for each requested Statistic\n",
    "# HTS is the HRRR-statistic Time Series\n",
    "\n",
    "# Pluck point\n",
    "point = pluck_point_new(MWlat, MWlon, lat, lon)\n",
    "\n",
    "print \"Station:\", stn\n",
    "print \"Grid Point:\", point\n",
    "print \"Variable:\", var, 'and', MWvar\n",
    "print \"Statistic:\", statistics\n",
    "\n",
    "HTS = OrderedDict()\n",
    "for i, stat in enumerate(statistics):\n",
    "    # Multiprocessing :)\n",
    "    args = [[DIR+'OSG_HRRR_%s_m%02d_d%02d_h%02d_f00.h5' % \\\n",
    "            (variable, month, day, hour), stat, point[0][0], point[1][0]] \\\n",
    "            for month in months for day in range(1,days[month-1]+1) for hour in hours]\n",
    "    timer = datetime.now()\n",
    "    num_proc = multiprocessing.cpu_count()\n",
    "    p = multiprocessing.Pool(num_proc)\n",
    "    HTS[stat] = np.array(p.map(get_point_MP, args))\n",
    "    p.close()\n",
    "    if var == 'TMP:2 m':\n",
    "        HTS[stat] = HTS[stat]-273.15\n",
    "        ylabel = '2 m Temperature (C)'\n",
    "    elif var == 'DPT:2 m':\n",
    "        HTS[stat] = HTS[stat]-273.15\n",
    "        ylabel = '2 m Dew Point (C)'\n",
    "    elif var == 'UVGRD:10 m':\n",
    "        ylabel = r'10 m Wind Speed (m s$\\mathregular{^{-1}}$)'\n",
    "    elif var == 'UVGRD:80 m':\n",
    "        ylabel = r'80 m Wind Speed (m s$\\mathregular{^{-1}}$)'\n",
    "    elif var == 'REFC:entire':\n",
    "        ylabel = 'Simulated Composite Reflecivity (dBZ)'\n",
    "    elif var == 'HGT:500':\n",
    "        ylabel = 'Geopotential Height (m)'\n",
    "    print \"%s Timer:%s\" % (stat, datetime.now()-timer)"
   ]
  },
  {
   "cell_type": "markdown",
   "metadata": {},
   "source": [
    "### Plot all Percentiles Requested"
   ]
  },
  {
   "cell_type": "code",
   "execution_count": null,
   "metadata": {
    "collapsed": false,
    "scrolled": true
   },
   "outputs": [],
   "source": [
    "for i, stat in enumerate(HTS.keys()):  \n",
    "    plt.plot(DATES, HTS[stat], label=stat)\n",
    "\n",
    "plt.title('Station: %s\\nVariable: %s\\nHours:%s' % (stn, var, hours))\n",
    "plt.ylabel(ylabel)\n",
    "\n",
    "plt.gca().xaxis.set_major_formatter(formatter)\n",
    "\n",
    "if plot_MW:\n",
    "    plt.plot(MW_DATES, a[MWvar], label='MesoWest', color='k', lw=0.4)\n",
    "\n",
    "plt.xlim([sPLOT, ePLOT])\n",
    "plt.legend()\n",
    "plt.grid()"
   ]
  },
  {
   "cell_type": "code",
   "execution_count": null,
   "metadata": {
    "collapsed": false
   },
   "outputs": [],
   "source": []
  },
  {
   "cell_type": "markdown",
   "metadata": {},
   "source": [
    "### Fill Between 5-50 and 50-95 Percentiles"
   ]
  },
  {
   "cell_type": "code",
   "execution_count": null,
   "metadata": {
    "collapsed": false
   },
   "outputs": [],
   "source": [
    "plt.fill_between(DATES, HTS['p05'], HTS['p50'], facecolor='lightgrey',linewidth=0, label='p05-p50')\n",
    "plt.fill_between(DATES, HTS['p50'], HTS['p95'], facecolor='grey', linewidth=0, label='p50-p95')\n",
    "\n",
    "plt.title('Station: %s\\nVariable: %s\\nHours:%s' % (stn, var, hours))\n",
    "plt.ylabel(ylabel)\n",
    "\n",
    "plt.gca().xaxis.set_major_formatter(formatter)\n",
    "\n",
    "if plot_MW:\n",
    "    plt.plot(MW_DATES, a[MWvar], label='MesoWest', color='k', lw=0.7)\n",
    "\n",
    "if plot_HRRR:\n",
    "    plt.plot(HRRR_DATES, HRRR_val, color='r', label='HRRR f00')\n",
    "\n",
    "plt.xlim([sPLOT, ePLOT])\n",
    "plt.legend()\n",
    "plt.grid()"
   ]
  },
  {
   "cell_type": "code",
   "execution_count": null,
   "metadata": {
    "collapsed": false,
    "scrolled": false
   },
   "outputs": [],
   "source": [
    "plt.fill_between(DATES, HTS['p25'], HTS['p75'], facecolor='grey', linewidth=0, label='p25-p75')\n",
    "plt.fill_between(DATES, HTS['p75'], HTS['p95'], facecolor='lightgrey', linewidth=0, label='p05-p95')\n",
    "plt.fill_between(DATES, HTS['p05'], HTS['p25'], facecolor='lightgrey', linewidth=0)\n",
    "plt.plot(DATES, HTS['p50'], color='w', lw=.5, label='p50')\n",
    "plt.plot(DATES, HTS['p100'], color='k', lw=.5, label='max, min')\n",
    "plt.plot(DATES, HTS['p00'], color='k', lw=.5)\n",
    "plt.title('Station: %s\\nVariable: %s\\nHours:%s' % (stn, var, hours))\n",
    "plt.ylabel(ylabel)\n",
    "\n",
    "plt.gca().xaxis.set_major_formatter(formatter)\n",
    "\n",
    "if plot_MW:\n",
    "    plt.plot(MW_DATES, a[MWvar], label='MesoWest', color='k', lw=0.7)\n",
    "\n",
    "if plot_HRRR:\n",
    "    plt.plot(HRRR_DATES, HRRR_val, color='r', label='HRRR f00')\n",
    "\n",
    "plt.xlim([sPLOT, ePLOT])\n",
    "plt.legend()\n",
    "plt.grid()\n",
    "\n",
    "plt.savefig('./figs/TS_%s_%s-%s_%s' % (stn, sDATE.strftime('%Y%m%d'), eDATE.strftime('%Y%m%d'), var.replace(':','')))"
   ]
  },
  {
   "cell_type": "markdown",
   "metadata": {
    "collapsed": true
   },
   "source": [
    "### Fill between 5, 25, 50, 75, 95 Percentile. Max and Min."
   ]
  },
  {
   "cell_type": "code",
   "execution_count": null,
   "metadata": {
    "collapsed": false,
    "scrolled": true
   },
   "outputs": [],
   "source": [
    "plt.fill_between(DATES, HTS['p25'], HTS['p75'], facecolor='grey', linewidth=0, label='p25-p75')\n",
    "plt.fill_between(DATES, HTS['p75'], HTS['p95'], facecolor='lightgrey', linewidth=0, label='p05-p95')\n",
    "plt.fill_between(DATES, HTS['p05'], HTS['p25'], facecolor='lightgrey', linewidth=0)\n",
    "plt.plot(DATES, HTS['p50'], color='w', lw=.5, label='p50')\n",
    "plt.plot(DATES, HTS['p100'], color='k', lw=.5, label='max, min')\n",
    "plt.plot(DATES, HTS['p00'], color='k', lw=.5)\n",
    "\n",
    "plt.title('Station: %s\\nVariable: %s\\nHours:%s' % (stn, var, hours))\n",
    "plt.ylabel(ylabel)\n",
    "\n",
    "plt.gca().xaxis.set_major_formatter(formatter)\n",
    "\n",
    "if plot_MW:\n",
    "    plt.plot(MW_DATES, a[MWvar], label='MesoWest', color='red', lw=3)\n",
    "\n",
    "if plot_HRRR:\n",
    "    plt.plot(HRRR_DATES, HRRR_val, color='orange', label='HRRR f00', lw=3.5)\n",
    "\n",
    "plt.xlim([sPLOT, ePLOT])\n",
    "plt.legend()\n",
    "plt.grid()\n",
    "\n",
    "plt.savefig('./figs/TS_%s_%s-%s' % (stn, sDATE.strftime('%Y%m%d'), eDATE.strftime('%Y%m%d')))"
   ]
  },
  {
   "cell_type": "markdown",
   "metadata": {},
   "source": [
    "### Percentiles with Pollywogs"
   ]
  },
  {
   "cell_type": "code",
   "execution_count": null,
   "metadata": {
    "collapsed": false
   },
   "outputs": [],
   "source": [
    "if plot_POLYWOG:\n",
    "    # Start and End POLYwog plots\n",
    "    sPOLY = datetime(2017, 10, 8)\n",
    "    ePOLY = datetime(2017, 10, 10)\n",
    "\n",
    "    # Station\n",
    "    LD = get_MW_location_dict(stn)\n",
    "\n",
    "    # Pollywog hours: a list of hours you want a pollywog to spawn\n",
    "    pHours = range(0, 24, 3)\n",
    "\n",
    "    # Head hours: a list of hours you want to plot a pollywog head (analysis value (f00))\n",
    "    hHours = range(0, 24, 1)\n",
    "\n",
    "    # Variable names for HRRR\n",
    "    if var.split(':')[0] == 'UVGRD':\n",
    "        HR_var = 'WIND:10 m'\n",
    "    else:\n",
    "        HR_var = var\n",
    "\n",
    "    #=====================================================================\n",
    "\n",
    "    # Create hourly range\n",
    "    polyHOURS = (ePOLY-sPOLY).days * 24 + (ePOLY-sPOLY).seconds/3600\n",
    "    polyDATES = np.array([sPOLY + timedelta(hours=x) for x in range(0, polyHOURS)])\n",
    "\n",
    "    # Cycle pollywogs through these colors.\n",
    "    colors = ['red', 'royalblue', 'green', 'darkorange'] * 50\n",
    "\n",
    "    color_count = 0"
   ]
  },
  {
   "cell_type": "code",
   "execution_count": null,
   "metadata": {
    "collapsed": false,
    "scrolled": true
   },
   "outputs": [],
   "source": [
    "if plot_POLYWOG:\n",
    "    # Plot percentile shading\n",
    "    plt.fill_between(DATES, HTS['p25'], HTS['p75'], facecolor='grey', linewidth=0, label='p25-p75')\n",
    "    plt.fill_between(DATES, HTS['p75'], HTS['p95'], facecolor='lightgrey', linewidth=0, label='p05-p95')\n",
    "    plt.fill_between(DATES, HTS['p05'], HTS['p25'], facecolor='lightgrey', linewidth=0)\n",
    "    plt.plot(DATES, HTS['p50'], color='k', lw=.5, label='min, p50, max')\n",
    "    plt.plot(DATES, HTS['p100'], color='k', lw=.5)\n",
    "    plt.plot(DATES, HTS['p00'], color='k', lw=.5)\n",
    "\n",
    "    plt.title('Station: %s\\nVariable: %s\\nHours:%s' % (stn, var, hours))\n",
    "    plt.ylabel(ylabel)\n",
    "    plt.grid()\n",
    "    plt.gca().xaxis.set_major_formatter(formatter)\n",
    "\n",
    "    if plot_MW:\n",
    "        plt.plot(MW_DATES, a[MWvar], label='MesoWest', color='k', lw=3, ls='--')\n",
    "\n",
    "    plt.xlim([sPLOT, ePLOT])\n",
    "    if var.split(':')[0] == 'UVGRD':\n",
    "        plt.ylim(ymin=0)\n",
    "    plt.legend()\n",
    "    plt.grid()\n",
    "\n",
    "    # Plot each pollywog head and tail\n",
    "    for D in polyDATES:\n",
    "        if D.hour in pHours:\n",
    "            # Get full pollywog for each hour requested\n",
    "            P = get_hrrr_pollywog_multi(D, HR_var, LD, verbose=False); print 'Got pollywog', D\n",
    "\n",
    "            # Convert units if necessary\n",
    "            if MWvar == 'air_temp':\n",
    "                P_value = P[stn]-273.15\n",
    "            if MWvar == 'sea_level_pressure':\n",
    "                P_value = P[stn]/100\n",
    "            else:\n",
    "                P_value = P[stn]\n",
    "\n",
    "            # Convert dates to leap year\n",
    "            P['DATETIME'] = [datetime(2016, DD.month, DD.day, DD.hour) for DD in P['DATETIME']]\n",
    "\n",
    "            # Plot the HRRR pollywog\n",
    "            # Head\n",
    "            plt.scatter(P['DATETIME'][0], P_value[0], c=colors[color_count], s=130, lw=0, zorder=2)\n",
    "            # Tail\n",
    "            plt.plot(P['DATETIME'], P_value, c=colors[color_count], lw=3, zorder=2)\n",
    "            color_count += 1\n",
    "\n",
    "        if D.hour in hHours:\n",
    "            # Plot the HRRR data point grey. Have to redownload P just in case it doesn't exist already\n",
    "            P = get_hrrr_pollywog_multi(D, HR_var, LD, forecast_limit=0, verbose=False); print \"got head\", D\n",
    "\n",
    "            # Convert dates to leap year\n",
    "            P['DATETIME'] = [datetime(2016, DD.month, DD.day, DD.hour) for DD in P['DATETIME']]\n",
    "\n",
    "            # Convert units if necessary\n",
    "            if MWvar == 'air_temp':\n",
    "                P_value = P[stn]-273.15\n",
    "            if MWvar == 'sea_level_pressure':\n",
    "                P_value = P[stn]/100\n",
    "            else:\n",
    "                P_value = P[stn]\n",
    "            plt.scatter(P['DATETIME'][0], P_value[0], c=[.2, .2, .2], s=50, lw=0, zorder=3)\n",
    "    plt.grid()\n",
    "    plt.savefig('./figs/POLYWOG_%s_%s-%s' % (stn, sDATE.strftime('%Y%m%d'), eDATE.strftime('%Y%m%d')))"
   ]
  },
  {
   "cell_type": "markdown",
   "metadata": {
    "collapsed": true
   },
   "source": [
    "# MesoWest Percentiles"
   ]
  },
  {
   "cell_type": "code",
   "execution_count": 54,
   "metadata": {
    "collapsed": false
   },
   "outputs": [
    {
     "name": "stdout",
     "output_type": "stream",
     "text": [
      "MesoWest Station: WBB \t Variable: air_temp\n",
      "Max Years: 20 \t Max Count: 9288\n",
      "Min Years: 20 \t Min Count: 1802\n",
      "\n",
      "HRRR Grid: WBB\n",
      "Max Count: 90\n",
      "Min Count: 30\n"
     ]
    }
   ],
   "source": [
    "stn = 'WBB'\n",
    "\n",
    "MW_per = get_mesowest_percentiles(stn, variable=MWvar)\n",
    "print 'MesoWest Station: %s \\t Variable: %s' % (stn, MWvar)\n",
    "print 'Max Years: %s \\t Max Count: %s' % (MW_per['years'].max(), MW_per['counts'].max()) \n",
    "print 'Min Years: %s \\t Min Count: %s' % (MW_per['years'].min(), MW_per['counts'].min())\n",
    "\n",
    "HR_per = get_mesowest_percentiles(stn, variable=MWvar, psource='PERCENTILES_HRRR')\n",
    "print '\\nHRRR Grid: %s' % stn\n",
    "print 'Max Count: %s' % (HR_per['counts'].max()) \n",
    "print 'Min Count: %s' % (HR_per['counts'].min())\n"
   ]
  },
  {
   "cell_type": "markdown",
   "metadata": {},
   "source": [
    "### MesoWest Over HRRR Percentiles"
   ]
  },
  {
   "cell_type": "code",
   "execution_count": 89,
   "metadata": {
    "collapsed": false
   },
   "outputs": [
    {
     "data": {
      "image/png": "[encoded data removed]",
      "text/plain": [
       "<matplotlib.figure.Figure at 0x2b11cd4435d0>"
      ]
     },
     "metadata": {},
     "output_type": "display_data"
    }
   ],
   "source": [
    "hour_of_day = 18\n",
    "\n",
    "# Plot MesoWest Percentiles\n",
    "plt.plot(MW_per['DATETIME'][hour_of_day::24],\n",
    "         MW_per['p95'][hour_of_day::24],\n",
    "         color='k',\n",
    "         linestyle='--',\n",
    "         label='Obs. p95')\n",
    "plt.plot(MW_per['DATETIME'][hour_of_day::24],\n",
    "         MW_per['p05'][hour_of_day::24],\n",
    "         color='k',\n",
    "         linestyle='--',\n",
    "         label='Obs. p05')\n",
    "plt.plot(MW_per['DATETIME'][hour_of_day::24],\n",
    "         MW_per['p50'][hour_of_day::24],\n",
    "         color='k',\n",
    "         linestyle='--',\n",
    "         label='Obs. p50')\n",
    "\n",
    "# Plot HRRR Percentiles\n",
    "plt.fill_between(HR_per['DATETIME'][hour_of_day::24],\n",
    "                 HTS['p95'], HTS['p05'],\n",
    "                 facecolor=[.8, .8, .8],\n",
    "                 linewidth=0,\n",
    "                 label='HRRR p05-p95')\n",
    "plt.fill_between(HR_per['DATETIME'][hour_of_day::24],\n",
    "                 HTS['p75'], HTS['p25'],\n",
    "                 facecolor=[.5, .5, .5],\n",
    "                 linewidth=0,\n",
    "                 label='HRRR p25-p75')\n",
    "plt.plot(HR_per['DATETIME'][hour_of_day::24],\n",
    "         HTS['p50'],\n",
    "         color=[.8, .8, .8],\n",
    "         lw=1,\n",
    "         label='HRRR p50',\n",
    "         zorder=1)\n",
    "\n",
    "\n",
    "# Cosmetics\n",
    "#legend = plt.gca().legend(frameon=True, framealpha=.5)\n",
    "#legend.get_frame().set_linewidth(0)\n",
    "\n",
    "plt.ylabel(label)\n",
    "plt.title(stn, fontweight='bold')\n",
    "plt.title('Hour of Day: %s:00 UTC' % hour_of_day, loc='left')\n",
    "plt.title('Years of observed data: %.f' % (MW_per['years'][hour_of_day::24].mean()), loc='right')\n",
    "plt.grid()\n",
    "\n",
    "plt.xlim([MW_per['DATETIME'][0], MW_per['DATETIME'][-1]])\n",
    "plt.gca().xaxis.set_major_formatter(formatter)\n",
    "plt.savefig('./figs/TS_%s_%s_p05p50p95_h%02d_realMW' % (stn, var.replace(':', '').replace(' ', ''), hour_of_day))"
   ]
  },
  {
   "cell_type": "code",
   "execution_count": 56,
   "metadata": {
    "collapsed": false
   },
   "outputs": [
    {
     "data": {
      "text/plain": [
       "[<matplotlib.lines.Line2D at 0x2b11cc658190>]"
      ]
     },
     "execution_count": 56,
     "metadata": {},
     "output_type": "execute_result"
    },
    {
     "data": {
      "image/png": "[encoded data removed]",
      "text/plain": [
       "<matplotlib.figure.Figure at 0x2b11bd9cb8d0>"
      ]
     },
     "metadata": {},
     "output_type": "display_data"
    }
   ],
   "source": [
    "plt.plot(HR_per['DATETIME'][18::24], HR_per['counts'][18::24])\n",
    "plt.plot(HR_per['DATETIME'][18::24], COUNTS, linestyle='--')"
   ]
  },
  {
   "cell_type": "code",
   "execution_count": 47,
   "metadata": {
    "collapsed": false
   },
   "outputs": [
    {
     "data": {
      "text/plain": [
       "366"
      ]
     },
     "execution_count": 47,
     "metadata": {},
     "output_type": "execute_result"
    }
   ],
   "source": []
  },
  {
   "cell_type": "code",
   "execution_count": null,
   "metadata": {
    "collapsed": false
   },
   "outputs": [],
   "source": []
  },
  {
   "cell_type": "code",
   "execution_count": null,
   "metadata": {
    "collapsed": false
   },
   "outputs": [],
   "source": []
  },
  {
   "cell_type": "code",
   "execution_count": null,
   "metadata": {
    "collapsed": true
   },
   "outputs": [],
   "source": []
  }
 ],
 "metadata": {
  "kernelspec": {
   "display_name": "Python 2",
   "language": "python",
   "name": "python2"
  },
  "language_info": {
   "codemirror_mode": {
    "name": "ipython",
    "version": 2
   },
   "file_extension": ".py",
   "mimetype": "text/x-python",
   "name": "python",
   "nbconvert_exporter": "python",
   "pygments_lexer": "ipython2",
   "version": "2.7.11"
  }
 },
 "nbformat": 4,
 "nbformat_minor": 0
}
