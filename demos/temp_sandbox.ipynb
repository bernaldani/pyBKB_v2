{
 "cells": [
  {
   "cell_type": "code",
   "execution_count": 1,
   "metadata": {
    "collapsed": false
   },
   "outputs": [],
   "source": [
    "%matplotlib inline\n",
    "\n",
    "from datetime import datetime, timedelta\n",
    "import matplotlib.pyplot as plt\n",
    "\n",
    "import sys\n",
    "sys.path.append('/uufs/chpc.utah.edu/sys/pkg/python/2.7.3_rhel6/lib/python2.7/site-packages/')\n",
    "sys.path.append('/uufs/chpc.utah.edu/common/home/u0553130/pyBKB_v2')\n",
    "from BB_downloads.HRRR_S3 import *"
   ]
  },
  {
   "cell_type": "code",
   "execution_count": 2,
   "metadata": {
    "collapsed": false
   },
   "outputs": [
    {
     "name": "stdout",
     "output_type": "stream",
     "text": [
      " >> Dowloading tempfile: ./temp_hrrrak_2018010100_f00_TMP.grib2\n",
      "Oh, good, you requested a date that should be on Pando.\n",
      "GRIB2 File: https://pando-rgw01.chpc.utah.edu/hrrrak/sfc/20180101/hrrrak.t00z.wrfsfcf00.grib2\n",
      " .idx File: https://pando-rgw01.chpc.utah.edu/hrrrak/sfc/20180101/hrrrak.t00z.wrfsfcf00.grib2.idx\n",
      "\n",
      " >> Matched a variable:  59:25244684:d=2018010100:TMP:2 m above ground:anl\n",
      "\n",
      " >> Byte Range: 25244684 25932695\n"
     ]
    }
   ],
   "source": [
    "H = get_hrrr_variable(datetime(2018, 1, 1), 'TMP:2 m', model='hrrrak')"
   ]
  },
  {
   "cell_type": "code",
   "execution_count": 3,
   "metadata": {
    "collapsed": false
   },
   "outputs": [
    {
     "name": "stdout",
     "output_type": "stream",
     "text": [
      " >> Requested Center lat: 64.837\t lon: -147.716\n",
      " >>     Plucked HRRR lat: 64.8241777947\t lon: -147.708704991\n",
      " >>     Plucked from   x: 503\t   y: 947\n",
      " >> Plucked value: 259.178\n"
     ]
    },
    {
     "data": {
      "text/plain": [
       "[datetime.datetime(2018, 1, 1, 0, 0), 259.17819]"
      ]
     },
     "execution_count": 3,
     "metadata": {},
     "output_type": "execute_result"
    }
   ],
   "source": [
    "pluck_hrrr_point(H, lat=64.837, lon=-147.716)"
   ]
  },
  {
   "cell_type": "code",
   "execution_count": 4,
   "metadata": {
    "collapsed": false
   },
   "outputs": [
    {
     "name": "stdout",
     "output_type": "stream",
     "text": [
      " >> Requested Center lat: 64.837\t lon: -147.716\n",
      " >>     Plucked HRRR lat: 64.8241777947\t lon: -147.708704991\n",
      " >>     Plucked from   x: 503\t   y: 947\n",
      " >> Size of subset: 18 x 18 grid points\n"
     ]
    }
   ],
   "source": [
    "BOX = hrrr_subset(H, lat=64.837, lon=-147.716)"
   ]
  },
  {
   "cell_type": "code",
   "execution_count": 5,
   "metadata": {
    "collapsed": false
   },
   "outputs": [
    {
     "data": {
      "text/plain": [
       "array([ 255.99069214,  256.87506714,  257.74069214,  263.65944214,\n",
       "        264.05319214,  264.67819214])"
      ]
     },
     "execution_count": 5,
     "metadata": {},
     "output_type": "execute_result"
    }
   ],
   "source": [
    "np.percentile(BOX['value'], [1, 5, 10, 90, 95, 99])"
   ]
  },
  {
   "cell_type": "code",
   "execution_count": 6,
   "metadata": {
    "collapsed": false
   },
   "outputs": [
    {
     "name": "stdout",
     "output_type": "stream",
     "text": [
      " >> Half_box is set to 5. Your box will be 30-km2.\n",
      " >> Requested Center lat: 64.837\t lon: -147.716\n",
      " >>     Plucked HRRR lat: 64.8241777947\t lon: -147.708704991\n",
      " >>     Plucked from   x: 503\t   y: 947\n",
      " >> Size of subset: 10 x 10 grid points\n"
     ]
    }
   ],
   "source": [
    "aa = hrrr_area_stats(H, lat=64.837, lon=-147.716)"
   ]
  },
  {
   "cell_type": "code",
   "execution_count": 7,
   "metadata": {
    "collapsed": false
   },
   "outputs": [
    {
     "name": "stdout",
     "output_type": "stream",
     "text": [
      "Time Series F01: Finished with multiprocessing in 0:00:05.860942 on 22 processors.\n"
     ]
    }
   ],
   "source": [
    "ts = point_hrrr_time_series(datetime(2018, 4, 26, 9), datetime(2018, 4, 26, 18),\n",
    "                            lat=64.837, lon=-147.716,\n",
    "                            fxx=1,\n",
    "                            model='hrrr',\n",
    "                            field='sfc',\n",
    "                            verbose=False)"
   ]
  },
  {
   "cell_type": "code",
   "execution_count": 8,
   "metadata": {
    "collapsed": false
   },
   "outputs": [
    {
     "name": "stdout",
     "output_type": "stream",
     "text": [
      "2018-04-26 09:00:00"
     ]
    },
    {
     "ename": "IndexError",
     "evalue": "tuple index out of range",
     "output_type": "error",
     "traceback": [
      "\u001b[0;31m-------------------------------------------------------------------\u001b[0m",
      "\u001b[0;31mIndexError\u001b[0m                        Traceback (most recent call last)",
      "\u001b[0;32m<ipython-input-8-c59ea6d8b183>\u001b[0m in \u001b[0;36m<module>\u001b[0;34m()\u001b[0m\n\u001b[1;32m      1\u001b[0m \u001b[0;32mfor\u001b[0m \u001b[0mi\u001b[0m\u001b[0;34m,\u001b[0m \u001b[0mdate\u001b[0m \u001b[0;32min\u001b[0m \u001b[0menumerate\u001b[0m\u001b[0;34m(\u001b[0m\u001b[0mts\u001b[0m\u001b[0;34m[\u001b[0m\u001b[0;36m0\u001b[0m\u001b[0;34m]\u001b[0m\u001b[0;34m)\u001b[0m\u001b[0;34m:\u001b[0m\u001b[0;34m\u001b[0m\u001b[0m\n\u001b[0;32m----> 2\u001b[0;31m     \u001b[0;32mprint\u001b[0m \u001b[0mdate\u001b[0m\u001b[0;34m,\u001b[0m \u001b[0mts\u001b[0m\u001b[0;34m[\u001b[0m\u001b[0;36m2\u001b[0m\u001b[0;34m]\u001b[0m\u001b[0;34m[\u001b[0m\u001b[0mi\u001b[0m\u001b[0;34m]\u001b[0m\u001b[0;34m\u001b[0m\u001b[0m\n\u001b[0m",
      "\u001b[0;31mIndexError\u001b[0m: tuple index out of range"
     ]
    }
   ],
   "source": [
    "for i, date in enumerate(ts[0]):\n",
    "    print date, ts[2][i]"
   ]
  },
  {
   "cell_type": "code",
   "execution_count": 13,
   "metadata": {
    "collapsed": false
   },
   "outputs": [
    {
     "name": "stdout",
     "output_type": "stream",
     "text": [
      "LocDic Time Series F00: Finished multiprocessing in 0:00:01.987779 on 22 processors\n"
     ]
    },
    {
     "data": {
      "text/plain": [
       "{'DATETIME': array([datetime.datetime(2018, 1, 1, 0, 0),\n",
       "        datetime.datetime(2018, 1, 1, 1, 0),\n",
       "        datetime.datetime(2018, 1, 1, 2, 0),\n",
       "        datetime.datetime(2018, 1, 1, 3, 0),\n",
       "        datetime.datetime(2018, 1, 1, 4, 0),\n",
       "        datetime.datetime(2018, 1, 1, 5, 0),\n",
       "        datetime.datetime(2018, 1, 1, 6, 0),\n",
       "        datetime.datetime(2018, 1, 1, 7, 0),\n",
       "        datetime.datetime(2018, 1, 1, 8, 0),\n",
       "        datetime.datetime(2018, 1, 1, 9, 0),\n",
       "        datetime.datetime(2018, 1, 1, 10, 0),\n",
       "        datetime.datetime(2018, 1, 1, 11, 0)], dtype=object),\n",
       " 'test': {'box center value': array([ 280.38262939,  273.3404541 ,  270.34371948,  267.89608765,\n",
       "          266.746521  ,  266.01873779,  264.93933105,  264.36358643,\n",
       "          264.31628418,  264.13531494,  269.8604126 ,  271.2041626 ], dtype=float32),\n",
       "  'max': array([ 282.13262939,  278.2154541 ,  276.65621948,  275.14608765,\n",
       "          275.059021  ,  274.89373779,  274.56433105,  274.80108643,\n",
       "          275.06628418,  275.32281494,  275.4229126 ,  275.4541626 ], dtype=float32),\n",
       "  'mean': array([ 278.37335205,  274.3789978 ,  272.28903198,  270.97869873,\n",
       "          270.26998901,  269.76721191,  268.99157715,  268.89526367,\n",
       "          268.87164307,  268.81713867,  269.00708008,  269.00350952], dtype=float32),\n",
       "  'min': array([ 269.13262939,  266.7154541 ,  265.09371948,  264.52108765,\n",
       "          263.934021  ,  263.45623779,  263.06433105,  262.86358643,\n",
       "          262.44128418,  262.26031494,  261.9854126 ,  261.6416626 ], dtype=float32),\n",
       "  'p1': array([ 271.69012939,  269.8392041 ,  268.27996948,  267.45796265,\n",
       "          265.871521  ,  265.07998779,  263.56370605,  263.29983643,\n",
       "          263.50315918,  263.13468994,  262.9816626 ,  262.8841626 ]),\n",
       "  'p10': array([ 275.56387939,  272.0904541 ,  269.96871948,  268.76483765,\n",
       "          267.621521  ,  266.83123779,  265.93933105,  265.67608643,\n",
       "          265.75378418,  265.37906494,  265.2979126 ,  265.2041626 ]),\n",
       "  'p5': array([ 273.69512939,  271.3404541 ,  269.40621948,  268.26796265,\n",
       "          267.184021  ,  266.20311279,  264.99870605,  264.92296143,\n",
       "          264.74753418,  264.25718994,  264.5479126 ,  264.3291626 ]),\n",
       "  'p90': array([ 280.63262939,  276.4717041 ,  274.59371948,  273.20858765,\n",
       "          272.877771  ,  272.58748779,  272.18933105,  272.48858643,\n",
       "          272.57253418,  272.88531494,  273.3604126 ,  273.3979126 ]),\n",
       "  'p95': array([ 280.88575439,  277.3404541 ,  275.28121948,  273.70858765,\n",
       "          273.624646  ,  273.26873779,  272.87995605,  272.99171143,\n",
       "          273.13190918,  273.32593994,  273.7416626 ,  273.9541626 ]),\n",
       "  'p99': array([ 281.88262939,  277.9029541 ,  275.78121948,  274.64608765,\n",
       "          274.498396  ,  274.27061279,  273.81495605,  273.98983643,\n",
       "          274.37878418,  274.26343994,  274.7979126 ,  274.8929126 ]),\n",
       "  'valid': array([datetime.datetime(2018, 1, 1, 0, 0),\n",
       "         datetime.datetime(2018, 1, 1, 1, 0),\n",
       "         datetime.datetime(2018, 1, 1, 2, 0),\n",
       "         datetime.datetime(2018, 1, 1, 3, 0),\n",
       "         datetime.datetime(2018, 1, 1, 4, 0),\n",
       "         datetime.datetime(2018, 1, 1, 5, 0),\n",
       "         datetime.datetime(2018, 1, 1, 6, 0),\n",
       "         datetime.datetime(2018, 1, 1, 7, 0),\n",
       "         datetime.datetime(2018, 1, 1, 8, 0),\n",
       "         datetime.datetime(2018, 1, 1, 9, 0),\n",
       "         datetime.datetime(2018, 1, 1, 10, 0),\n",
       "         datetime.datetime(2018, 1, 1, 11, 0)], dtype=object)},\n",
       " 'test2': {'box center value': array([ 272.69512939,  272.8404541 ,  272.03121948,  271.58358765,\n",
       "          271.871521  ,  271.64373779,  271.56433105,  271.55108643,\n",
       "          271.81628418,  272.26031494,  269.6729126 ,  271.1416626 ], dtype=float32),\n",
       "  'max': array([ 276.50762939,  276.7779541 ,  276.21871948,  276.08358765,\n",
       "          276.121521  ,  275.95623779,  275.81433105,  275.92608643,\n",
       "          276.12878418,  276.01031494,  275.5479126 ,  275.5166626 ], dtype=float32),\n",
       "  'mean': array([ 272.45462036,  271.41885376,  270.18826294,  269.63543701,\n",
       "          269.51608276,  269.38909912,  269.25      ,  269.03994751,\n",
       "          269.20678711,  269.52386475,  268.73739624,  268.63427734], dtype=float32),\n",
       "  'min': array([ 268.00762939,  264.5904541 ,  263.71871948,  262.89608765,\n",
       "          263.496521  ,  263.14373779,  262.81433105,  262.23858643,\n",
       "          262.06628418,  262.44781494,  261.8604126 ,  261.4541626 ], dtype=float32),\n",
       "  'p1': array([ 268.88137939,  266.3367041 ,  265.08621948,  264.51171265,\n",
       "          263.808396  ,  263.82936279,  263.81245605,  263.11108643,\n",
       "          263.06253418,  263.51031494,  262.9229126 ,  262.3247876 ]),\n",
       "  'p10': array([ 270.07012939,  268.0904541 ,  267.02496948,  266.38983765,\n",
       "          265.990271  ,  265.76873779,  265.87683105,  265.16983643,\n",
       "          265.06003418,  265.56656494,  264.6729126 ,  264.4479126 ]),\n",
       "  'p5': array([ 269.56700439,  267.5279541 ,  266.34059448,  265.83358765,\n",
       "          265.243396  ,  264.95623779,  264.80808105,  264.30108643,\n",
       "          264.18815918,  264.32281494,  263.8572876 ,  263.6947876 ]),\n",
       "  'p90': array([ 274.75762939,  274.5967041 ,  273.28121948,  272.70858765,\n",
       "          272.684021  ,  272.64373779,  272.50808105,  272.48858643,\n",
       "          272.94128418,  273.19781494,  272.2979126 ,  272.4541626 ]),\n",
       "  'p95': array([ 275.26075439,  275.0310791 ,  274.03121948,  273.45858765,\n",
       "          273.371521  ,  273.26873779,  273.31745605,  273.24483643,\n",
       "          273.63190918,  273.76343994,  272.9854126 ,  272.8322876 ]),\n",
       "  'p99': array([ 276.00887939,  276.0292041 ,  274.97184448,  274.27358765,\n",
       "          274.247771  ,  274.02061279,  274.00183105,  274.11358643,\n",
       "          274.37940918,  274.82343994,  273.8016626 ,  273.7666626 ]),\n",
       "  'valid': array([datetime.datetime(2018, 1, 1, 0, 0),\n",
       "         datetime.datetime(2018, 1, 1, 1, 0),\n",
       "         datetime.datetime(2018, 1, 1, 2, 0),\n",
       "         datetime.datetime(2018, 1, 1, 3, 0),\n",
       "         datetime.datetime(2018, 1, 1, 4, 0),\n",
       "         datetime.datetime(2018, 1, 1, 5, 0),\n",
       "         datetime.datetime(2018, 1, 1, 6, 0),\n",
       "         datetime.datetime(2018, 1, 1, 7, 0),\n",
       "         datetime.datetime(2018, 1, 1, 8, 0),\n",
       "         datetime.datetime(2018, 1, 1, 9, 0),\n",
       "         datetime.datetime(2018, 1, 1, 10, 0),\n",
       "         datetime.datetime(2018, 1, 1, 11, 0)], dtype=object)}}"
      ]
     },
     "execution_count": 13,
     "metadata": {},
     "output_type": "execute_result"
    }
   ],
   "source": [
    "sDATE = datetime(2018, 1, 1)\n",
    "eDATE = datetime(2018, 1, 1, 12)\n",
    "location_dic = {'test':{'latitude':40,'longitude':-115},\n",
    "                'test2':{'latitude':42,'longitude':-116}}\n",
    "point_hrrr_time_series_multi(sDATE, eDATE, location_dic,\n",
    "                                 variable='TMP:2 m',\n",
    "                                 fxx=0, model='hrrr', field='sfc',\n",
    "                                 area_stats=10,\n",
    "                                 reduce_CPUs=2,\n",
    "                                 verbose=False)\n"
   ]
  },
  {
   "cell_type": "code",
   "execution_count": null,
   "metadata": {
    "collapsed": true
   },
   "outputs": [],
   "source": []
  }
 ],
 "metadata": {
  "kernelspec": {
   "display_name": "Python 2",
   "language": "python",
   "name": "python2"
  },
  "language_info": {
   "codemirror_mode": {
    "name": "ipython",
    "version": 2
   },
   "file_extension": ".py",
   "mimetype": "text/x-python",
   "name": "python",
   "nbconvert_exporter": "python",
   "pygments_lexer": "ipython2",
   "version": "2.7.11"
  }
 },
 "nbformat": 4,
 "nbformat_minor": 0
}
