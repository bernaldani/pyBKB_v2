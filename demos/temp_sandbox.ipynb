{
 "cells": [
  {
   "cell_type": "code",
   "execution_count": 30,
   "metadata": {
    "collapsed": true
   },
   "outputs": [],
   "source": [
    "import numpy as np"
   ]
  },
  {
   "cell_type": "code",
   "execution_count": 146,
   "metadata": {
    "collapsed": true
   },
   "outputs": [],
   "source": [
    "plotcode = 'TMP_2-m_Fill,TMP_2-m_Contour_-12c9c10,CAPE_surface_Fill,TMP_500-mb_Fill,HGT_500-mb_Contour,Wind_10-m_Barbs,dBZ_entire_Fill'"
   ]
  },
  {
   "cell_type": "code",
   "execution_count": 147,
   "metadata": {
    "collapsed": false
   },
   "outputs": [],
   "source": [
    "a = plotcode.split(',')"
   ]
  },
  {
   "cell_type": "code",
   "execution_count": 148,
   "metadata": {
    "collapsed": false
   },
   "outputs": [
    {
     "name": "stdout",
     "output_type": "stream",
     "text": [
      "['TMP', '2-m', 'Fill']\n",
      "['TMP', '2-m', 'Contour', '-12c9c10']\n",
      "['CAPE', 'surface', 'Fill']\n",
      "['TMP', '500-mb', 'Fill']\n",
      "['HGT', '500-mb', 'Contour']\n",
      "['Wind', '10-m', 'Barbs']\n",
      "['dBZ', 'entire', 'Fill']\n"
     ]
    }
   ],
   "source": [
    "for i in a:\n",
    "    print i.split('_')"
   ]
  },
  {
   "cell_type": "code",
   "execution_count": 149,
   "metadata": {
    "collapsed": false
   },
   "outputs": [],
   "source": [
    "unique_vars = np.unique([i.split('_')[0] for i in a])"
   ]
  },
  {
   "cell_type": "code",
   "execution_count": 150,
   "metadata": {
    "collapsed": false
   },
   "outputs": [
    {
     "name": "stdout",
     "output_type": "stream",
     "text": [
      "CAPE\n",
      "['surface']\n",
      "surface\n",
      "['Fill']\n",
      "HGT\n",
      "['500-mb']\n",
      "500-mb\n",
      "['Contour' 'Fill']\n",
      "TMP\n",
      "['2-m' '500-mb']\n",
      "2-m\n",
      "['Contour' 'Fill']\n",
      "500-mb\n",
      "['Contour' 'Fill']\n",
      "Wind\n",
      "['10-m']\n",
      "10-m\n",
      "['Barbs']\n",
      "dBZ\n",
      "['entire']\n",
      "entire\n",
      "['Fill']\n",
      "TMP\n",
      "{'500-mb': {'Quiver': False, 'p95': False, 'p05p95': False, 'Barbs': False, 'Shade': False, 'Convergence': False, 'Vorticity': False, 'Contour': True, 'Fill': True}, '2-m': {'Quiver': False, 'p95': False, 'p05p95': False, 'Barbs': False, 'Shade': False, 'Convergence': False, 'Vorticity': False, 'Contour': True, 'Fill': True}}\n",
      "CAPE\n",
      "{'surface': {'Quiver': False, 'p95': False, 'p05p95': False, 'Barbs': False, 'Shade': False, 'Convergence': False, 'Vorticity': False, 'Fill': True}}\n",
      "HGT\n",
      "{'500-mb': {'Quiver': False, 'p95': False, 'p05p95': False, 'Barbs': False, 'Shade': False, 'Convergence': False, 'Vorticity': False, 'Contour': True, 'Fill': True}}\n",
      "dBZ\n",
      "{'entire': {'Quiver': False, 'p95': False, 'p05p95': False, 'Barbs': False, 'Shade': False, 'Convergence': False, 'Vorticity': False, 'Fill': True}}\n",
      "Wind\n",
      "{'10-m': {'Quiver': False, 'p95': False, 'p05p95': False, 'Barbs': True, 'Shade': False, 'Convergence': False, 'Vorticity': False, 'Fill': False}}\n"
     ]
    }
   ],
   "source": [
    "unique_vars = np.unique([i.split('_')[0] for i in a])\n",
    "for U in unique_vars:\n",
    "    PLOTCODES[U]={}\n",
    "    var_codes = [i for i in a if i.split('_')[0]==U]\n",
    "    unique_levels = np.unique([i.split('_')[1] for i in var_codes])\n",
    "    print U\n",
    "    print unique_levels\n",
    "    \n",
    "    for L in unique_levels:\n",
    "        PLOTCODES[U][L] = {}\n",
    "        plot_codes = [i for i in a if i.split('_')[1]==L]\n",
    "        unique_plot = np.unique([i.split('_')[2] for i in plot_codes])\n",
    "        print L\n",
    "        print unique_plot\n",
    "        \n",
    "        PLOTCODES[U][L]['Fill']=False\n",
    "        PLOTCODES[U][L]['Shade']=False\n",
    "        PLOTCODES[U][L]['Barbs']=False\n",
    "        PLOTCODES[U][L]['Quiver']=False\n",
    "        PLOTCODES[U][L]['p95']=False\n",
    "        PLOTCODES[U][L]['p05p95']=False\n",
    "        PLOTCODES[U][L]['Convergence']=False\n",
    "        PLOTCODES[U][L]['Vorticity']=False\n",
    "        for P in unique_plot:\n",
    "\n",
    "            if P == 'Contour':\n",
    "                try:\n",
    "                    contours = [i.split('_')[3] for i in a if i.split('_')[2]==P][0].split('c')\n",
    "                    PLOTCODES[U][L][P]=[int(i) for i in contours]\n",
    "                except:\n",
    "                    PLOTCODES[U][L][P]=True\n",
    "            else:\n",
    "                PLOTCODES[U][L][P]=True\n",
    "\n",
    "for i in PLOTCODES:\n",
    "    print i\n",
    "    print PLOTCODES[i]"
   ]
  },
  {
   "cell_type": "code",
   "execution_count": 151,
   "metadata": {
    "collapsed": false
   },
   "outputs": [
    {
     "data": {
      "text/plain": [
       "True"
      ]
     },
     "execution_count": 151,
     "metadata": {},
     "output_type": "execute_result"
    }
   ],
   "source": [
    "'Wind' in PLOTCODES"
   ]
  },
  {
   "cell_type": "code",
   "execution_count": 152,
   "metadata": {
    "collapsed": false
   },
   "outputs": [],
   "source": [
    "OTHER = [i for i in PLOTCODES.keys() if i not in ['DPT', 'Wind', 'Gust', 'dBZ', 'RH', 'HGT', 'MSLP','REDFLAG']]"
   ]
  },
  {
   "cell_type": "code",
   "execution_count": 153,
   "metadata": {
    "collapsed": false
   },
   "outputs": [
    {
     "data": {
      "text/plain": [
       "['TMP', 'CAPE']"
      ]
     },
     "execution_count": 153,
     "metadata": {},
     "output_type": "execute_result"
    }
   ],
   "source": [
    "OTHER"
   ]
  },
  {
   "cell_type": "code",
   "execution_count": null,
   "metadata": {
    "collapsed": true
   },
   "outputs": [],
   "source": []
  }
 ],
 "metadata": {
  "kernelspec": {
   "display_name": "Python 2",
   "language": "python",
   "name": "python2"
  },
  "language_info": {
   "codemirror_mode": {
    "name": "ipython",
    "version": 2
   },
   "file_extension": ".py",
   "mimetype": "text/x-python",
   "name": "python",
   "nbconvert_exporter": "python",
   "pygments_lexer": "ipython2",
   "version": "2.7.11"
  }
 },
 "nbformat": 4,
 "nbformat_minor": 0
}
