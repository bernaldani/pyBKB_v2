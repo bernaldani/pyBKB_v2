{
 "cells": [
  {
   "cell_type": "markdown",
   "metadata": {},
   "source": [
    "# Chutes and Ladders\n",
    "Code from: http://jakevdp.github.io/blog/2017/12/18/simulating-chutes-and-ladders/"
   ]
  },
  {
   "cell_type": "code",
   "execution_count": 2,
   "metadata": {
    "collapsed": true
   },
   "outputs": [],
   "source": [
    "# Mapping of start : end spaces of chutes & ladders\n",
    "CHUTES_LADDERS = {1:38, 4:14, 9:31, 16:6, 21:42, 28:84, 36:44,\n",
    "                  47:26, 49:11, 51:67, 56:53, 62:19, 64:60,\n",
    "                  71:91, 80:100, 87:24, 93:73, 95:75, 98:78}"
   ]
  },
  {
   "cell_type": "code",
   "execution_count": 3,
   "metadata": {
    "collapsed": true
   },
   "outputs": [],
   "source": [
    "from random import Random\n",
    "\n",
    "def simulate_cl_game(rseed=None, max_roll=6):\n",
    "    \"\"\"\n",
    "    Simulate a full Chutes & Ladders game\n",
    "    and return the number of turns to finish\n",
    "    \"\"\"\n",
    "    rand = Random(rseed)\n",
    "    position = 0\n",
    "    turns = 0\n",
    "    while position < 100:\n",
    "        turns += 1\n",
    "        roll = rand.randint(1, max_roll)\n",
    "        \n",
    "        # if the roll takes us past square 100, we don't move\n",
    "        if position + roll > 100:\n",
    "            continue\n",
    "            \n",
    "        # otherwise, move the position according to the roll\n",
    "        position += roll\n",
    "        \n",
    "        # go up/down any chute/ladder\n",
    "        position = CHUTES_LADDERS.get(position, position)\n",
    "    return turns"
   ]
  },
  {
   "cell_type": "code",
   "execution_count": 6,
   "metadata": {
    "collapsed": false
   },
   "outputs": [
    {
     "data": {
      "text/plain": [
       "35"
      ]
     },
     "execution_count": 6,
     "metadata": {},
     "output_type": "execute_result"
    }
   ],
   "source": [
    "# turns to finish game\n",
    "simulate_cl_game()"
   ]
  },
  {
   "cell_type": "code",
   "execution_count": 8,
   "metadata": {
    "collapsed": false
   },
   "outputs": [],
   "source": [
    "# Jupyter notebook plotting setup & imports\n",
    "%matplotlib inline\n",
    "import matplotlib.pyplot as plt"
   ]
  },
  {
   "cell_type": "code",
   "execution_count": 9,
   "metadata": {
    "collapsed": false
   },
   "outputs": [
    {
     "data": {
      "image/png": "[encoded data removed]",
      "text/plain": [
       "<matplotlib.figure.Figure at 0x2afb745f5ed0>"
      ]
     },
     "metadata": {},
     "output_type": "display_data"
    }
   ],
   "source": [
    "sim_games = [simulate_cl_game() for i in range(10000)]\n",
    "\n",
    "plt.hist(sim_games, bins=range(200), normed=True)\n",
    "plt.xlabel('Number of Turns to win')\n",
    "plt.ylabel('Fraction of games')\n",
    "plt.title('Simulated Lengths of Chutes & Ladders Games');"
   ]
  },
  {
   "cell_type": "code",
   "execution_count": null,
   "metadata": {
    "collapsed": true
   },
   "outputs": [],
   "source": []
  }
 ],
 "metadata": {
  "kernelspec": {
   "display_name": "Python 2",
   "language": "python",
   "name": "python2"
  },
  "language_info": {
   "codemirror_mode": {
    "name": "ipython",
    "version": 2
   },
   "file_extension": ".py",
   "mimetype": "text/x-python",
   "name": "python",
   "nbconvert_exporter": "python",
   "pygments_lexer": "ipython2",
   "version": "2.7.11"
  }
 },
 "nbformat": 4,
 "nbformat_minor": 0
}
