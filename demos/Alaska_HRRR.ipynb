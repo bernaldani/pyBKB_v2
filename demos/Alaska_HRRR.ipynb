{
 "cells": [
  {
   "cell_type": "markdown",
   "metadata": {},
   "source": [
    "# Alaska HRRR"
   ]
  },
  {
   "cell_type": "code",
   "execution_count": null,
   "metadata": {
    "collapsed": false
   },
   "outputs": [],
   "source": [
    "%matplotlib inline\n",
    "\n",
    "from datetime import datetime, timedelta\n",
    "import matplotlib.pyplot as plt\n",
    "\n",
    "import sys\n",
    "# This is a direct link to the pygrib package\n",
    "sys.path.append('/uufs/chpc.utah.edu/sys/pkg/python/2.7.3_rhel6/lib/python2.7/site-packages/')\n",
    "\n",
    "# Import the function that downloads HRRR data from the Pando Archive or NOMADS\n",
    "sys.path.append('/uufs/chpc.utah.edu/common/home/u0553130/pyBKB_v2')\n",
    "from BB_downloads.HRRR_S3 import get_hrrr_variable\n",
    "\n",
    "# Imports a function to make a basic map of the full Alaska domain\n",
    "from BB_basemap.draw_maps import draw_ALASKA_cyl_map"
   ]
  },
  {
   "cell_type": "markdown",
   "metadata": {},
   "source": [
    "## 2-m temperature"
   ]
  },
  {
   "cell_type": "code",
   "execution_count": null,
   "metadata": {
    "collapsed": false
   },
   "outputs": [],
   "source": [
    "# Valid datetime and forecast lead time\n",
    "VALID_DATE = datetime(2018, 4, 26, 12)\n",
    "fxx = 0\n",
    "\n",
    "# Variable of interest. Look at the .idx file for idea of what other variables you can request. \n",
    "VAR = 'TMP:2 m'\n",
    "\n",
    "# -------------------------------------------\n",
    "# Convert VALID_DATE to the model run date\n",
    "RUN_DATE = VALID_DATE - timedelta(hours=fxx)"
   ]
  },
  {
   "cell_type": "code",
   "execution_count": null,
   "metadata": {
    "collapsed": false
   },
   "outputs": [],
   "source": [
    "A = get_hrrr_variable(RUN_DATE, VAR, model='hrrrak', fxx=fxx)"
   ]
  },
  {
   "cell_type": "markdown",
   "metadata": {},
   "source": [
    "----\n",
    "This is what is in the returned dictionary A"
   ]
  },
  {
   "cell_type": "code",
   "execution_count": null,
   "metadata": {
    "collapsed": false
   },
   "outputs": [],
   "source": [
    "print A.keys()\n",
    "print \"\"\n",
    "print \"Downloaded from: %s\" % A['URL']\n",
    "print \" Full .idx file: %s.idx\" % A['URL']\n",
    "print \"\"\n",
    "print 'Valid Date: %s F%02d' % (A['valid'].strftime('%H:%M UTC %d %B %Y'), fxx)\n",
    "print '  Run Date: %s' % A['anlys'].strftime('%H:%M UTC %d %B %Y')\n",
    "print \"\"\n",
    "print \"Grib Message: %s\" % A['msg']"
   ]
  },
  {
   "cell_type": "markdown",
   "metadata": {},
   "source": [
    "##### Plot the data"
   ]
  },
  {
   "cell_type": "code",
   "execution_count": null,
   "metadata": {
    "collapsed": false
   },
   "outputs": [],
   "source": [
    "plt.pcolormesh(A['lon'], A['lat'], A['value'],\n",
    "               cmap='Spectral_r')\n",
    "plt.colorbar()"
   ]
  },
  {
   "cell_type": "markdown",
   "metadata": {},
   "source": [
    "You can plot this on a basemap"
   ]
  },
  {
   "cell_type": "code",
   "execution_count": null,
   "metadata": {
    "collapsed": true
   },
   "outputs": [],
   "source": [
    "# This function draws the full HRRR alaska domain on a cylindrical projection. \n",
    "# But you can create any other map object.\n",
    "m = draw_ALASKA_cyl_map()"
   ]
  },
  {
   "cell_type": "code",
   "execution_count": null,
   "metadata": {
    "collapsed": false
   },
   "outputs": [],
   "source": [
    "m.drawstates()\n",
    "m.drawcoastlines()\n",
    "m.pcolormesh(A['lon'], A['lat'], A['value'],\n",
    "             cmap='Spectral_r',\n",
    "             latlon=True)\n",
    "m.colorbar()"
   ]
  },
  {
   "cell_type": "markdown",
   "metadata": {},
   "source": [
    "---\n",
    "## U and V winds, converted to Earth-Relative\n",
    "You can request the special `UVGRD:10 m` or `UVGRD:80 m` variable. This returns a dictionary of both U and V variables that have been converted from grid-relative to earth-relative winds. The wind speed is also returned."
   ]
  },
  {
   "cell_type": "code",
   "execution_count": null,
   "metadata": {
    "collapsed": false
   },
   "outputs": [],
   "source": [
    "A = get_hrrr_variable(RUN_DATE, 'UVGRD:10 m', model='hrrrak', fxx=fxx)"
   ]
  },
  {
   "cell_type": "code",
   "execution_count": null,
   "metadata": {
    "collapsed": false
   },
   "outputs": [],
   "source": [
    "# Look at what is inside:\n",
    "print A.keys()\n",
    "print \"\"\n",
    "print A['msgU']\n",
    "print A['msgV']"
   ]
  },
  {
   "cell_type": "code",
   "execution_count": null,
   "metadata": {
    "collapsed": false
   },
   "outputs": [],
   "source": [
    "plt.figure(figsize=[15,10])\n",
    "m.drawstates()\n",
    "m.drawcoastlines()\n",
    "\n",
    "m.pcolormesh(A['lon'], A['lat'], A['SPEED'], cmap='viridis', vmin=0, latlon=True)\n",
    "\n",
    "thin = 70\n",
    "\n",
    "m.barbs(A['lon'][::thin,::thin], A['lat'][::thin,::thin], A['UGRD'][::thin,::thin], A['VGRD'][::thin,::thin],\n",
    "        length=6,\n",
    "        latlon=True)\n",
    "\n",
    "plt.title('Run: %s F%02d' % (A['anlys'].strftime('%Y-%m-%d %H:%M'), fxx), loc='left')\n",
    "plt.title('HRRR-Alaska', loc='center', fontweight='semibold')\n",
    "plt.title('Valid: %s' % A['valid'].strftime('%Y-%m-%d %H:%M'), loc='Right')"
   ]
  },
  {
   "cell_type": "code",
   "execution_count": null,
   "metadata": {
    "collapsed": true
   },
   "outputs": [],
   "source": []
  },
  {
   "cell_type": "code",
   "execution_count": 13,
   "metadata": {
    "collapsed": false
   },
   "outputs": [
    {
     "name": "stdout",
     "output_type": "stream",
     "text": [
      "Dowloading tempfile: ./temp_hrrr_2018042612_f00_UVG.grib2\n",
      "/n---------------------------------------------------------------------------\n",
      "!! Hey! You are requesting a date that is not on the Pando archive yet.  !!\n",
      "!! That's ok, I'll redirect you to the NOMADS server. :)                 !!\n",
      "---------------------------------------------------------------------------\n",
      "\n",
      "GRIB2 File: http://nomads.ncep.noaa.gov/pub/data/nccf/com/hrrr/prod/hrrr.20180426/hrrr.t12z.wrfsfcf00.grib2\n",
      " .idx File: http://nomads.ncep.noaa.gov/pub/data/nccf/com/hrrr/prod/hrrr.20180426/hrrr.t12z.wrfsfcf00.grib2.idx\n",
      "\n",
      ">> Matched a variable:  59:41274867:d=2018042612:UGRD:10 m above ground:anl:\n",
      "\n",
      ">> Byte Range: 41274867 43788260\n",
      ">> Converting winds to earth-relative\n",
      "['SPEED', 'UGRD', 'VGRD']\n"
     ]
    }
   ],
   "source": [
    "H = get_hrrr_variable(RUN_DATE, 'UVGRD:10 m', value_only=True, removeFile=False)\n",
    "print H.keys()"
   ]
  },
  {
   "cell_type": "code",
   "execution_count": null,
   "metadata": {
    "collapsed": false
   },
   "outputs": [],
   "source": []
  }
 ],
 "metadata": {
  "kernelspec": {
   "display_name": "Python 2",
   "language": "python",
   "name": "python2"
  },
  "language_info": {
   "codemirror_mode": {
    "name": "ipython",
    "version": 2
   },
   "file_extension": ".py",
   "mimetype": "text/x-python",
   "name": "python",
   "nbconvert_exporter": "python",
   "pygments_lexer": "ipython2",
   "version": "2.7.11"
  }
 },
 "nbformat": 4,
 "nbformat_minor": 0
}
