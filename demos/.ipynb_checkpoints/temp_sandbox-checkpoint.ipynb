{
 "cells": [
  {
   "cell_type": "code",
   "execution_count": 30,
   "metadata": {
    "collapsed": true
   },
   "outputs": [],
   "source": [
    "import numpy as np"
   ]
  },
  {
   "cell_type": "code",
   "execution_count": 94,
   "metadata": {
    "collapsed": true
   },
   "outputs": [],
   "source": [
    "plotcode = 'TMP_2-m_Fill,TMP_2-m_Contour_-12c9c10,TMP_500-mb_Fill,HGT_500-mb_Contour,Wind_10-m_Barbs,dBZ_entire_Fill'"
   ]
  },
  {
   "cell_type": "code",
   "execution_count": 95,
   "metadata": {
    "collapsed": false
   },
   "outputs": [],
   "source": [
    "a = plotcode.split(',')"
   ]
  },
  {
   "cell_type": "code",
   "execution_count": 96,
   "metadata": {
    "collapsed": false
   },
   "outputs": [
    {
     "name": "stdout",
     "output_type": "stream",
     "text": [
      "['TMP', '2-m', 'Fill']\n",
      "['TMP', '2-m', 'Contour', '-12c9c10']\n",
      "['TMP', '500-mb', 'Fill']\n",
      "['HGT', '500-mb', 'Contour']\n",
      "['Wind', '10-m', 'Barbs']\n",
      "['dBZ', 'entire', 'Fill']\n"
     ]
    }
   ],
   "source": [
    "for i in a:\n",
    "    print i.split('_')"
   ]
  },
  {
   "cell_type": "code",
   "execution_count": 97,
   "metadata": {
    "collapsed": false
   },
   "outputs": [],
   "source": [
    "unique_vars = np.unique([i.split('_')[0] for i in a])"
   ]
  },
  {
   "cell_type": "code",
   "execution_count": 98,
   "metadata": {
    "collapsed": false
   },
   "outputs": [
    {
     "name": "stdout",
     "output_type": "stream",
     "text": [
      "HGT\n",
      "['500-mb']\n",
      "500-mb\n",
      "['Contour' 'Fill']\n"
     ]
    },
    {
     "ename": "IndexError",
     "evalue": "list index out of range",
     "output_type": "error",
     "traceback": [
      "\u001b[0;31m---------------------------------------------------------------------------\u001b[0m",
      "\u001b[0;31mIndexError\u001b[0m                                Traceback (most recent call last)",
      "\u001b[0;32m<ipython-input-98-963a648d7e02>\u001b[0m in \u001b[0;36m<module>\u001b[0;34m()\u001b[0m\n\u001b[1;32m     25\u001b[0m \u001b[0;34m\u001b[0m\u001b[0m\n\u001b[1;32m     26\u001b[0m             \u001b[0;32mif\u001b[0m \u001b[0mP\u001b[0m \u001b[0;34m==\u001b[0m \u001b[0;34m'Contour'\u001b[0m\u001b[0;34m:\u001b[0m\u001b[0;34m\u001b[0m\u001b[0m\n\u001b[0;32m---> 27\u001b[0;31m                 \u001b[0mcontours\u001b[0m \u001b[0;34m=\u001b[0m \u001b[0;34m[\u001b[0m\u001b[0mi\u001b[0m\u001b[0;34m.\u001b[0m\u001b[0msplit\u001b[0m\u001b[0;34m(\u001b[0m\u001b[0;34m'_'\u001b[0m\u001b[0;34m)\u001b[0m\u001b[0;34m[\u001b[0m\u001b[0;36m3\u001b[0m\u001b[0;34m]\u001b[0m \u001b[0;32mfor\u001b[0m \u001b[0mi\u001b[0m \u001b[0;32min\u001b[0m \u001b[0ma\u001b[0m \u001b[0;32mif\u001b[0m \u001b[0mi\u001b[0m\u001b[0;34m.\u001b[0m\u001b[0msplit\u001b[0m\u001b[0;34m(\u001b[0m\u001b[0;34m'_'\u001b[0m\u001b[0;34m)\u001b[0m\u001b[0;34m[\u001b[0m\u001b[0;36m2\u001b[0m\u001b[0;34m]\u001b[0m\u001b[0;34m==\u001b[0m\u001b[0mP\u001b[0m\u001b[0;34m]\u001b[0m\u001b[0;34m[\u001b[0m\u001b[0;36m0\u001b[0m\u001b[0;34m]\u001b[0m\u001b[0;34m.\u001b[0m\u001b[0msplit\u001b[0m\u001b[0;34m(\u001b[0m\u001b[0;34m'c'\u001b[0m\u001b[0;34m)\u001b[0m\u001b[0;34m\u001b[0m\u001b[0m\n\u001b[0m\u001b[1;32m     28\u001b[0m                 \u001b[0mPLOTCODES\u001b[0m\u001b[0;34m[\u001b[0m\u001b[0mU\u001b[0m\u001b[0;34m]\u001b[0m\u001b[0;34m[\u001b[0m\u001b[0mL\u001b[0m\u001b[0;34m]\u001b[0m\u001b[0;34m[\u001b[0m\u001b[0mP\u001b[0m\u001b[0;34m]\u001b[0m\u001b[0;34m=\u001b[0m\u001b[0;34m[\u001b[0m\u001b[0mint\u001b[0m\u001b[0;34m(\u001b[0m\u001b[0mi\u001b[0m\u001b[0;34m)\u001b[0m \u001b[0;32mfor\u001b[0m \u001b[0mi\u001b[0m \u001b[0;32min\u001b[0m \u001b[0mcontours\u001b[0m\u001b[0;34m]\u001b[0m\u001b[0;34m\u001b[0m\u001b[0m\n\u001b[1;32m     29\u001b[0m             \u001b[0;32melse\u001b[0m\u001b[0;34m:\u001b[0m\u001b[0;34m\u001b[0m\u001b[0m\n",
      "\u001b[0;31mIndexError\u001b[0m: list index out of range"
     ]
    }
   ],
   "source": [
    "unique_vars = np.unique([i.split('_')[0] for i in a])\n",
    "for U in unique_vars:\n",
    "    PLOTCODES[U]={}\n",
    "    var_codes = [i for i in a if i.split('_')[0]==U]\n",
    "    unique_levels = np.unique([i.split('_')[1] for i in var_codes])\n",
    "    print U\n",
    "    print unique_levels\n",
    "    \n",
    "    for L in unique_levels:\n",
    "        PLOTCODES[U][L] = {}\n",
    "        plot_codes = [i for i in a if i.split('_')[1]==L]\n",
    "        unique_plot = np.unique([i.split('_')[2] for i in plot_codes])\n",
    "        print L\n",
    "        print unique_plot\n",
    "        \n",
    "        PLOTCODES[U][L]['Fill']=False\n",
    "        PLOTCODES[U][L]['Shade']=False\n",
    "        PLOTCODES[U][L]['Barbs']=False\n",
    "        PLOTCODES[U][L]['Quiver']=False\n",
    "        PLOTCODES[U][L]['p95']=False\n",
    "        PLOTCODES[U][L]['p05p95']=False\n",
    "        PLOTCODES[U][L]['Convergence']=False\n",
    "        PLOTCODES[U][L]['Vorticity']=False\n",
    "        for P in unique_plot:\n",
    "\n",
    "            if P == 'Contour':\n",
    "                try:\n",
    "                    contours = [i.split('_')[3] for i in a if i.split('_')[2]==P][0].split('c')\n",
    "                    PLOTCODES[U][L][P]=[int(i) for i in contours]\n",
    "                else:\n",
    "                    PLOTCODES[U][L][P]=True\n",
    "            else:\n",
    "                PLOTCODES[U][L][P]=True\n",
    "\n",
    "print PLOTCODES"
   ]
  },
  {
   "cell_type": "code",
   "execution_count": 59,
   "metadata": {
    "collapsed": false
   },
   "outputs": [
    {
     "data": {
      "text/plain": [
       "{'TMP': {'2-m': {'Contour': True, 'Fill': True}, '500-mb': {'Fill': True}},\n",
       " 'Wind': {'10-m': {'Barbs': True}}}"
      ]
     },
     "execution_count": 59,
     "metadata": {},
     "output_type": "execute_result"
    }
   ],
   "source": [
    "PLOTCODES"
   ]
  },
  {
   "cell_type": "code",
   "execution_count": null,
   "metadata": {
    "collapsed": false
   },
   "outputs": [],
   "source": []
  }
 ],
 "metadata": {
  "kernelspec": {
   "display_name": "Python 2",
   "language": "python",
   "name": "python2"
  },
  "language_info": {
   "codemirror_mode": {
    "name": "ipython",
    "version": 2
   },
   "file_extension": ".py",
   "mimetype": "text/x-python",
   "name": "python",
   "nbconvert_exporter": "python",
   "pygments_lexer": "ipython2",
   "version": "2.7.11"
  }
 },
 "nbformat": 4,
 "nbformat_minor": 0
}
