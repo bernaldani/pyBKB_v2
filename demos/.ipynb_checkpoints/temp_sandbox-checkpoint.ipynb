{
 "cells": [
  {
   "cell_type": "code",
   "execution_count": 1,
   "metadata": {
    "collapsed": false
   },
   "outputs": [],
   "source": [
    "%matplotlib inline\n",
    "from datetime import datetime, timedelta\n",
    "import matplotlib.pyplot as plt\n",
    "\n",
    "import sys\n",
    "sys.path.append('/uufs/chpc.utah.edu/common/home/u0553130/pyBKB_v2/')\n",
    "from BB_downloads.HRRR_S3 import *"
   ]
  },
  {
   "cell_type": "code",
   "execution_count": 2,
   "metadata": {
    "collapsed": false
   },
   "outputs": [],
   "source": [
    "sDATE = datetime(2017, 10, 8)\n",
    "eDATE = datetime(2017, 10, 10)\n",
    "VAR = 'TMP:2 m'\n",
    "\n",
    "location_dic = {'test':{'latitude':38.735086 , 'longitude':-122.837058}}"
   ]
  },
  {
   "cell_type": "code",
   "execution_count": null,
   "metadata": {
    "collapsed": false
   },
   "outputs": [
    {
     "name": "stdout",
     "output_type": "stream",
     "text": [
      " _______________________________________________________________\n",
      " _______________________________________________________________\n",
      " _______________________________________________________________\n",
      " !!   Run Date Requested : 2017-12-27 18:00:00 F00\n",
      " _______________________________________________________________\n",
      " !!   Run Date Requested : 2017-12-02 13:00:00 F00\n",
      " _______________________________________________________________\n",
      " _______________________________________________________________\n",
      " !! Valid Date Requested : 2017-12-27 18:00:00\n",
      " _______________________________________________________________\n",
      " _______________________________________________________________\n",
      " !! Valid Date Requested : 2017-12-02 13:00:00\n",
      " !!   Run Date Requested : 2017-10-21 10:00:00 F00\n",
      "\n",
      "------------------------------------! !!   Run Date Requested : 2017-10-08 20:00:00 F00\n",
      " !!   Run Date Requested : 2017-11-28 07:00:00 F00\n",
      " !!     Current UTC time : 2018-04-27 16:18:52.812397\n",
      " !!   Run Date Requested : 2017-11-24 02:00:00 F00\n",
      " _______________________________________________________________\n",
      " !!   Run Date Requested : 2017-12-10 22:00:00 F00\n",
      " !! Valid Date Requested : 2017-10-21 10:00:00\n",
      "\n",
      " !!     Current UTC time : 2018-04-27 16:18:52.816054\n",
      " !!   Run Date Requested : 2017-10-25 16:00:00 F00\n",
      " !! ------------------------------------------------------------\n",
      " !! Valid Date Requested : 2017-10-08 20:00:00\n",
      " !> ERROR in pluck_hrrr_point(): 1:2 metre temperature:K (instant):lambert:heightAboveGround:level 2 m:fcst time 0 hrs:from 201801050400 38.735086 -122.837058\n",
      " !!     Current UTC time : 2018-04-27 16:18:52.816869\n",
      " !!   Run Date Requested : 2017-11-15 17:00:00 F00\n",
      " !! Valid Date Requested : 2017-12-10 22:00:00\n",
      " !! Valid Date Requested : 2017-11-24 02:00:00\n",
      " !! Valid Date Requested : 2017-11-28 07:00:00\n",
      " !!     Current UTC time : 2018-04-27 16:18:52.818957\n",
      " !! Valid Date Requested : 2017-11-15 17:00:00\n",
      " !! Valid Date Requested : 2017-10-25 16:00:00\n",
      " !! ------------------------------------------------------------\n",
      "------------------------------------!\n",
      " !! ------------------------------------------------------------\n",
      " !! ERROR downloading GRIB2: https://pando-rgw01.chpc.utah.edu/hrrr/sfc/20171227/hrrr.t18z.wrfsfcf00.grib2\n",
      " !!     Current UTC time : 2018-04-27 16:18:52.820853\n",
      " !!     Current UTC time : 2018-04-27 16:18:52.821406\n",
      " !! Is the variable right? TMP:2 m\n",
      " !! ------------------------------------------------------------\n",
      " !!     Current UTC time : 2018-04-27 16:18:52.822697\n",
      "\n",
      " !! ERROR downloading GRIB2: https://pando-rgw01.chpc.utah.edu/hrrr/sfc/20171202/hrrr.t13z.wrfsfcf00.grib2\n",
      " !!     Current UTC time : 2018-04-27 16:18:52.821874\n",
      " !!     Current UTC time : 2018-04-27 16:18:52.824929\n",
      " _______________________________________________________________\n",
      " _______________________________________________________________\n",
      " !! ERROR downloading GRIB2: https://pando-rgw01.chpc.utah.edu/hrrr/sfc/20171021/hrrr.t10z.wrfsfcf00.grib2\n",
      " !! ------------------------------------------------------------\n",
      " !! ------------------------------------------------------------\n",
      " !! Does the .idx file exist? https://pando-rgw01.chpc.utah.edu/hrrr/sfc/20171227/hrrr.t18z.wrfsfcf00.grib2.idx\n",
      " !! ERROR downloading GRIB2: https://pando-rgw01.chpc.utah.edu/hrrr/sfc/20171210/hrrr.t22z.wrfsfcf00.grib2\n",
      " _______________________________________________________________\n",
      " !! ------------------------------------------------------------\n",
      " ---------------------------------------------------------------\n",
      " _______________________________________________________________\n",
      " !! Is the variable right? TMP:2 m\n",
      " !!   Run Date Requested : 2017-12-23 13:00:00 F00\n",
      " !! Is the variable right? TMP:2 m\n",
      " !! ERROR downloading GRIB2: https://pando-rgw01.chpc.utah.edu/hrrr/sfc/20171115/hrrr.t17z.wrfsfcf00.grib2\n",
      " !!   Run Date Requested : 2017-11-03 02:00:00 F00\n",
      " !! Does the .idx file exist? https://pando-rgw01.chpc.utah.edu/hrrr/sfc/20171202/hrrr.t13z.wrfsfcf00.grib2.idx\n",
      " !!   Run Date Requested : 2017-10-13 01:00:00 F00\n",
      " !! ------------------------------------------------------------\n",
      " !! ------------------------------------------------------------\n"
     ]
    },
    {
     "name": "stderr",
     "output_type": "stream",
     "text": [
      "/uufs/chpc.utah.edu/common/home/u0553130/pyBKB_v2/BB_downloads/HRRR_S3.py:363: RuntimeWarning: invalid value encountered in absolute\n",
      "  abslat = np.abs(H['lat']-lat)\n"
     ]
    },
    {
     "name": "stdout",
     "output_type": "stream",
     "text": [
      " !! ERROR downloading GRIB2: https://pando-rgw01.chpc.utah.edu/hrrr/sfc/20171025/hrrr.t16z.wrfsfcf00.grib2\n",
      " !! ERROR downloading GRIB2: https://pando-rgw01.chpc.utah.edu/hrrr/sfc/20171124/hrrr.t02z.wrfsfcf00.grib2\n",
      " !! Is the variable right? TMP:2 m\n",
      " !!   Run Date Requested : 2017-11-19 22:00:00 F00\n",
      " !! Valid Date Requested : 2017-12-23 13:00:00\n",
      " !! Is the variable right? TMP:2 m\n",
      " ---------------------------------------------------------------\n"
     ]
    },
    {
     "name": "stderr",
     "output_type": "stream",
     "text": [
      "/uufs/chpc.utah.edu/common/home/u0553130/pyBKB_v2/BB_downloads/HRRR_S3.py:364: RuntimeWarning: invalid value encountered in absolute\n",
      "  abslon = np.abs(H['lon']-lon)\n"
     ]
    },
    {
     "name": "stdout",
     "output_type": "stream",
     "text": [
      " !! Is the variable right? TMP:2 m\n",
      " !! Does the .idx file exist? https://pando-rgw01.chpc.utah.edu/hrrr/sfc/20171210/hrrr.t22z.wrfsfcf00.grib2.idx\n",
      " !! Valid Date Requested : 2017-11-19 22:00:00\n",
      " !! Valid Date Requested : 2017-11-03 02:00:00\n",
      " !! ERROR downloading GRIB2: https://pando-rgw01.chpc.utah.edu/hrrr/sfc/20171008/hrrr.t20z.wrfsfcf00.grib2\n",
      " !! Does the .idx file exist? https://pando-rgw01.chpc.utah.edu/hrrr/sfc/20171115/hrrr.t17z.wrfsfcf00.grib2.idx\n",
      " !! Is the variable right? TMP:2 m\n",
      " !! Valid Date Requested : 2017-10-13 01:00:00\n",
      " !! ERROR downloading GRIB2: https://pando-rgw01.chpc.utah.edu/hrrr/sfc/20171128/hrrr.t07z.wrfsfcf00.grib2\n",
      " _______________________________________________________________\n",
      " !!     Current UTC time : 2018-04-27 16:18:52.837195\n",
      " ---------------------------------------------------------------\n"
     ]
    },
    {
     "name": "stderr",
     "output_type": "stream",
     "text": [
      "/uufs/chpc.utah.edu/common/home/u0553130/pyBKB_v2/BB_downloads/HRRR_S3.py:363: RuntimeWarning: invalid value encountered in absolute\n",
      "  abslat = np.abs(H['lat']-lat)\n"
     ]
    },
    {
     "name": "stdout",
     "output_type": "stream",
     "text": [
      "\n",
      "------------------------------------! !! Is the variable right? TMP:2 m\n",
      " !! Does the .idx file exist? https://pando-rgw01.chpc.utah.edu/hrrr/sfc/20171025/hrrr.t16z.wrfsfcf00.grib2.idx\n",
      " !!     Current UTC time : 2018-04-27 16:18:52.838631\n",
      " !! Does the .idx file exist? https://pando-rgw01.chpc.utah.edu/hrrr/sfc/20171124/hrrr.t02z.wrfsfcf00.grib2.idx\n",
      " !!     Current UTC time : 2018-04-27 16:18:52.839036\n",
      " !! Is the variable right? TMP:2 m\n",
      " !! Does the .idx file exist? https://pando-rgw01.chpc.utah.edu/hrrr/sfc/20171128/hrrr.t07z.wrfsfcf00.grib2.idx\n",
      " !! Does the .idx file exist? https://pando-rgw01.chpc.utah.edu/hrrr/sfc/20171021/hrrr.t10z.wrfsfcf00.grib2.idx\n",
      " !!   Run Date Requested : 2017-11-11 12:00:00 F00\n",
      " !! ------------------------------------------------------------\n",
      " ---------------------------------------------------------------\n",
      " !! ------------------------------------------------------------\n",
      " ---------------------------------------------------------------\n"
     ]
    },
    {
     "name": "stderr",
     "output_type": "stream",
     "text": [
      "/uufs/chpc.utah.edu/common/home/u0553130/pyBKB_v2/BB_downloads/HRRR_S3.py:364: RuntimeWarning: invalid value encountered in absolute\n",
      "  abslon = np.abs(H['lon']-lon)\n"
     ]
    },
    {
     "name": "stdout",
     "output_type": "stream",
     "text": [
      " !! ------------------------------------------------------------\n",
      " ---------------------------------------------------------------\n",
      " ---------------------------------------------------------------\n",
      " !! Valid Date Requested : 2017-11-11 12:00:00\n",
      " !! ERROR downloading GRIB2: https://pando-rgw01.chpc.utah.edu/hrrr/sfc/20171223/hrrr.t13z.wrfsfcf00.grib2\n",
      "\n",
      "------------------------------------!\n"
     ]
    },
    {
     "name": "stderr",
     "output_type": "stream",
     "text": [
      "/uufs/chpc.utah.edu/common/home/u0553130/pyBKB_v2/BB_downloads/HRRR_S3.py:363: RuntimeWarning: invalid value encountered in absolute\n",
      "  abslat = np.abs(H['lat']-lat)\n"
     ]
    },
    {
     "name": "stdout",
     "output_type": "stream",
     "text": [
      " ---------------------------------------------------------------\n",
      " !> ERROR in pluck_hrrr_point(): nan 38.735086 -122.837058\n"
     ]
    },
    {
     "name": "stderr",
     "output_type": "stream",
     "text": [
      "/uufs/chpc.utah.edu/common/home/u0553130/pyBKB_v2/BB_downloads/HRRR_S3.py:363: RuntimeWarning: invalid value encountered in absolute\n",
      "  abslat = np.abs(H['lat']-lat)\n"
     ]
    },
    {
     "name": "stdout",
     "output_type": "stream",
     "text": [
      " !! ERROR downloading GRIB2: https://pando-rgw01.chpc.utah.edu/hrrr/sfc/20171119/hrrr.t22z.wrfsfcf00.grib2\n"
     ]
    },
    {
     "name": "stderr",
     "output_type": "stream",
     "text": [
      "/uufs/chpc.utah.edu/common/home/u0553130/pyBKB_v2/BB_downloads/HRRR_S3.py:363: RuntimeWarning: invalid value encountered in absolute\n",
      "  abslat = np.abs(H['lat']-lat)\n"
     ]
    },
    {
     "name": "stdout",
     "output_type": "stream",
     "text": [
      " !! Is the variable right? TMP:2 m\n",
      " !! Does the .idx file exist? https://pando-rgw01.chpc.utah.edu/hrrr/sfc/20171008/hrrr.t20z.wrfsfcf00.grib2.idx\n",
      "\n",
      " !! ERROR downloading GRIB2: https://pando-rgw01.chpc.utah.edu/hrrr/sfc/20171013/hrrr.t01z.wrfsfcf00.grib2\n"
     ]
    },
    {
     "name": "stderr",
     "output_type": "stream",
     "text": [
      "/uufs/chpc.utah.edu/common/home/u0553130/pyBKB_v2/BB_downloads/HRRR_S3.py:364: RuntimeWarning: invalid value encountered in absolute\n",
      "  abslon = np.abs(H['lon']-lon)\n"
     ]
    },
    {
     "name": "stdout",
     "output_type": "stream",
     "text": [
      "------------------------------------!\n",
      " !! Is the variable right? TMP:2 m\n",
      " !!     Current UTC time : 2018-04-27 16:18:52.842679\n",
      " ---------------------------------------------------------------\n",
      " !! Is the variable right? TMP:2 m\n"
     ]
    },
    {
     "name": "stderr",
     "output_type": "stream",
     "text": [
      "/uufs/chpc.utah.edu/common/home/u0553130/pyBKB_v2/BB_downloads/HRRR_S3.py:363: RuntimeWarning: invalid value encountered in absolute\n",
      "  abslat = np.abs(H['lat']-lat)\n",
      "/uufs/chpc.utah.edu/common/home/u0553130/pyBKB_v2/BB_downloads/HRRR_S3.py:364: RuntimeWarning: invalid value encountered in absolute\n",
      "  abslon = np.abs(H['lon']-lon)\n",
      "/uufs/chpc.utah.edu/common/home/u0553130/pyBKB_v2/BB_downloads/HRRR_S3.py:364: RuntimeWarning: invalid value encountered in absolute\n",
      "  abslon = np.abs(H['lon']-lon)\n"
     ]
    },
    {
     "name": "stdout",
     "output_type": "stream",
     "text": [
      " !! Does the .idx file exist? https://pando-rgw01.chpc.utah.edu/hrrr/sfc/20171013/hrrr.t01z.wrfsfcf00.grib2.idx\n",
      " !> ERROR in pluck_hrrr_point(): nan 38.735086 -122.837058\n",
      " !! Does the .idx file exist? https://pando-rgw01.chpc.utah.edu/hrrr/sfc/20171223/hrrr.t13z.wrfsfcf00.grib2.idx\n",
      " !! Does the .idx file exist? https://pando-rgw01.chpc.utah.edu/hrrr/sfc/20171119/hrrr.t22z.wrfsfcf00.grib2.idx\n",
      "\n",
      " !! ------------------------------------------------------------\n",
      "\n",
      "------------------------------------! !!     Current UTC time : 2018-04-27 16:18:52.851544\n",
      "\n",
      "------------------------------------!"
     ]
    },
    {
     "name": "stderr",
     "output_type": "stream",
     "text": [
      "/uufs/chpc.utah.edu/common/home/u0553130/pyBKB_v2/BB_downloads/HRRR_S3.py:363: RuntimeWarning: invalid value encountered in absolute\n",
      "  abslat = np.abs(H['lat']-lat)\n"
     ]
    },
    {
     "name": "stdout",
     "output_type": "stream",
     "text": [
      " !! ERROR downloading GRIB2: https://pando-rgw01.chpc.utah.edu/hrrr/sfc/20171103/hrrr.t02z.wrfsfcf00.grib2\n",
      " ---------------------------------------------------------------\n"
     ]
    },
    {
     "name": "stderr",
     "output_type": "stream",
     "text": [
      "/uufs/chpc.utah.edu/common/home/u0553130/pyBKB_v2/BB_downloads/HRRR_S3.py:364: RuntimeWarning: invalid value encountered in absolute\n",
      "  abslon = np.abs(H['lon']-lon)\n"
     ]
    },
    {
     "name": "stdout",
     "output_type": "stream",
     "text": [
      " ---------------------------------------------------------------\n"
     ]
    },
    {
     "name": "stderr",
     "output_type": "stream",
     "text": [
      "/uufs/chpc.utah.edu/common/home/u0553130/pyBKB_v2/BB_downloads/HRRR_S3.py:364: RuntimeWarning: invalid value encountered in absolute\n",
      "  abslon = np.abs(H['lon']-lon)\n"
     ]
    },
    {
     "name": "stdout",
     "output_type": "stream",
     "text": [
      " !! ------------------------------------------------------------\n",
      "\n",
      "------------------------------------!"
     ]
    },
    {
     "name": "stderr",
     "output_type": "stream",
     "text": [
      "/uufs/chpc.utah.edu/common/home/u0553130/pyBKB_v2/BB_downloads/HRRR_S3.py:363: RuntimeWarning: invalid value encountered in absolute\n",
      "  abslat = np.abs(H['lat']-lat)\n"
     ]
    },
    {
     "name": "stdout",
     "output_type": "stream",
     "text": [
      " ---------------------------------------------------------------\n",
      "\n",
      "------------------------------------!"
     ]
    },
    {
     "name": "stderr",
     "output_type": "stream",
     "text": [
      "/uufs/chpc.utah.edu/common/home/u0553130/pyBKB_v2/BB_downloads/HRRR_S3.py:364: RuntimeWarning: invalid value encountered in absolute\n",
      "  abslon = np.abs(H['lon']-lon)\n"
     ]
    },
    {
     "name": "stdout",
     "output_type": "stream",
     "text": [
      " !! Is the variable right? TMP:2 m\n",
      " !! ERROR downloading GRIB2: https://pando-rgw01.chpc.utah.edu/hrrr/sfc/20171111/hrrr.t12z.wrfsfcf00.grib2\n",
      "\n",
      "\n",
      "------------------------------------!\n",
      "\n",
      "------------------------------------! !! Is the variable right? TMP:2 m\n",
      "\n",
      " !! Does the .idx file exist? https://pando-rgw01.chpc.utah.edu/hrrr/sfc/20171103/hrrr.t02z.wrfsfcf00.grib2.idx\n",
      "\n"
     ]
    },
    {
     "name": "stderr",
     "output_type": "stream",
     "text": [
      "/uufs/chpc.utah.edu/common/home/u0553130/pyBKB_v2/BB_downloads/HRRR_S3.py:363: RuntimeWarning: invalid value encountered in absolute\n",
      "  abslat = np.abs(H['lat']-lat)\n"
     ]
    },
    {
     "name": "stdout",
     "output_type": "stream",
     "text": [
      " !> ERROR in pluck_hrrr_point(): nan 38.735086 -122.837058\n",
      " !> ERROR in pluck_hrrr_point(): nan 38.735086 -122.837058\n",
      "------------------------------------!\n",
      " !> ERROR in pluck_hrrr_point(): nan 38.735086 -122.837058\n",
      " ---------------------------------------------------------------\n"
     ]
    },
    {
     "name": "stderr",
     "output_type": "stream",
     "text": [
      "/uufs/chpc.utah.edu/common/home/u0553130/pyBKB_v2/BB_downloads/HRRR_S3.py:363: RuntimeWarning: invalid value encountered in absolute\n",
      "  abslat = np.abs(H['lat']-lat)\n"
     ]
    },
    {
     "name": "stdout",
     "output_type": "stream",
     "text": [
      " !> ERROR in pluck_hrrr_point(): nan 38.735086 -122.837058\n"
     ]
    },
    {
     "name": "stderr",
     "output_type": "stream",
     "text": [
      "/uufs/chpc.utah.edu/common/home/u0553130/pyBKB_v2/BB_downloads/HRRR_S3.py:363: RuntimeWarning: invalid value encountered in absolute\n",
      "  abslat = np.abs(H['lat']-lat)\n"
     ]
    },
    {
     "name": "stdout",
     "output_type": "stream",
     "text": [
      " !! Does the .idx file exist? https://pando-rgw01.chpc.utah.edu/hrrr/sfc/20171111/hrrr.t12z.wrfsfcf00.grib2.idx\n"
     ]
    },
    {
     "name": "stderr",
     "output_type": "stream",
     "text": [
      "/uufs/chpc.utah.edu/common/home/u0553130/pyBKB_v2/BB_downloads/HRRR_S3.py:364: RuntimeWarning: invalid value encountered in absolute\n",
      "  abslon = np.abs(H['lon']-lon)\n"
     ]
    },
    {
     "name": "stdout",
     "output_type": "stream",
     "text": [
      "\n",
      "------------------------------------!\n",
      "\n",
      "------------------------------------!\n",
      "------------------------------------!\n"
     ]
    },
    {
     "name": "stderr",
     "output_type": "stream",
     "text": [
      "/uufs/chpc.utah.edu/common/home/u0553130/pyBKB_v2/BB_downloads/HRRR_S3.py:364: RuntimeWarning: invalid value encountered in absolute\n",
      "  abslon = np.abs(H['lon']-lon)\n"
     ]
    },
    {
     "name": "stdout",
     "output_type": "stream",
     "text": [
      "\n",
      "------------------------------------!\n"
     ]
    },
    {
     "name": "stderr",
     "output_type": "stream",
     "text": [
      "/uufs/chpc.utah.edu/common/home/u0553130/pyBKB_v2/BB_downloads/HRRR_S3.py:364: RuntimeWarning: invalid value encountered in absolute\n",
      "  abslon = np.abs(H['lon']-lon)\n",
      "/uufs/chpc.utah.edu/common/home/u0553130/pyBKB_v2/BB_downloads/HRRR_S3.py:363: RuntimeWarning: invalid value encountered in absolute\n",
      "  abslat = np.abs(H['lat']-lat)\n"
     ]
    },
    {
     "name": "stdout",
     "output_type": "stream",
     "text": [
      "------------------------------------!\n",
      "\n"
     ]
    },
    {
     "name": "stderr",
     "output_type": "stream",
     "text": [
      "/uufs/chpc.utah.edu/common/home/u0553130/pyBKB_v2/BB_downloads/HRRR_S3.py:364: RuntimeWarning: invalid value encountered in absolute\n",
      "  abslon = np.abs(H['lon']-lon)\n"
     ]
    },
    {
     "name": "stdout",
     "output_type": "stream",
     "text": [
      " ---------------------------------------------------------------\n",
      "\n",
      "------------------------------------!"
     ]
    },
    {
     "name": "stderr",
     "output_type": "stream",
     "text": [
      "/uufs/chpc.utah.edu/common/home/u0553130/pyBKB_v2/BB_downloads/HRRR_S3.py:363: RuntimeWarning: invalid value encountered in absolute\n",
      "  abslat = np.abs(H['lat']-lat)\n"
     ]
    },
    {
     "name": "stdout",
     "output_type": "stream",
     "text": [
      "\n",
      "------------------------------------!"
     ]
    },
    {
     "name": "stderr",
     "output_type": "stream",
     "text": [
      "/uufs/chpc.utah.edu/common/home/u0553130/pyBKB_v2/BB_downloads/HRRR_S3.py:364: RuntimeWarning: invalid value encountered in absolute\n",
      "  abslon = np.abs(H['lon']-lon)\n"
     ]
    },
    {
     "name": "stdout",
     "output_type": "stream",
     "text": [
      "\n",
      "\n",
      "\n",
      "------------------------------------!\n",
      "\n",
      "\n",
      " !> ERROR in pluck_hrrr_point(): nan 38.735086 -122.837058\n",
      " !> ERROR in pluck_hrrr_point(): nan 38.735086 -122.837058\n",
      " !> ERROR in pluck_hrrr_point(): nan 38.735086 -122.837058\n",
      " !> ERROR in pluck_hrrr_point(): nan 38.735086 -122.837058\n",
      "------------------------------------!\n",
      "------------------------------------!\n",
      "\n",
      "------------------------------------!\n",
      "------------------------------------!\n",
      "\n",
      "\n",
      "\n",
      "\n",
      "\n",
      " !> ERROR in pluck_hrrr_point(): nan 38.735086 -122.837058\n",
      " !> ERROR in pluck_hrrr_point(): nan 38.735086 -122.837058\n",
      "------------------------------------!\n",
      "\n",
      "------------------------------------!"
     ]
    },
    {
     "name": "stderr",
     "output_type": "stream",
     "text": [
      "/uufs/chpc.utah.edu/common/home/u0553130/pyBKB_v2/BB_downloads/HRRR_S3.py:363: RuntimeWarning: invalid value encountered in absolute\n",
      "  abslat = np.abs(H['lat']-lat)\n"
     ]
    },
    {
     "name": "stdout",
     "output_type": "stream",
     "text": [
      "\n",
      "\n"
     ]
    },
    {
     "name": "stderr",
     "output_type": "stream",
     "text": [
      "/uufs/chpc.utah.edu/common/home/u0553130/pyBKB_v2/BB_downloads/HRRR_S3.py:364: RuntimeWarning: invalid value encountered in absolute\n",
      "  abslon = np.abs(H['lon']-lon)\n"
     ]
    },
    {
     "name": "stdout",
     "output_type": "stream",
     "text": [
      " !> ERROR in pluck_hrrr_point(): nan 38.735086 -122.837058\n",
      "\n",
      "------------------------------------!------------------------------------!\n",
      "------------------------------------!\n",
      "\n",
      "\n",
      "\n",
      " !> ERROR in pluck_hrrr_point(): nan 38.735086 -122.837058\n",
      "------------------------------------!\n",
      "\n",
      " _______________________________________________________________\n",
      " !!   Run Date Requested : 2017-12-19 08:00:00 F00\n",
      " !! Valid Date Requested : 2017-12-19 08:00:00\n",
      " !!     Current UTC time : 2018-04-27 16:18:52.975458\n",
      " !! ------------------------------------------------------------\n",
      " !! ERROR downloading GRIB2: https://pando-rgw01.chpc.utah.edu/hrrr/sfc/20171219/hrrr.t08z.wrfsfcf00.grib2\n",
      " !! Is the variable right? TMP:2 m\n",
      " !! Does the .idx file exist? https://pando-rgw01.chpc.utah.edu/hrrr/sfc/20171219/hrrr.t08z.wrfsfcf00.grib2.idx\n",
      " ---------------------------------------------------------------\n"
     ]
    },
    {
     "name": "stderr",
     "output_type": "stream",
     "text": [
      "/uufs/chpc.utah.edu/common/home/u0553130/pyBKB_v2/BB_downloads/HRRR_S3.py:363: RuntimeWarning: invalid value encountered in absolute\n",
      "  abslat = np.abs(H['lat']-lat)\n",
      "/uufs/chpc.utah.edu/common/home/u0553130/pyBKB_v2/BB_downloads/HRRR_S3.py:364: RuntimeWarning: invalid value encountered in absolute\n",
      "  abslon = np.abs(H['lon']-lon)\n"
     ]
    },
    {
     "name": "stdout",
     "output_type": "stream",
     "text": [
      "\n",
      "------------------------------------!\n",
      " !> ERROR in pluck_hrrr_point(): nan 38.735086 -122.837058\n",
      "------------------------------------!\n",
      "\n",
      " _______________________________________________________________\n",
      " !!   Run Date Requested : 2017-12-15 03:00:00 F00\n",
      " !! Valid Date Requested : 2017-12-15 03:00:00\n",
      " !!     Current UTC time : 2018-04-27 16:18:53.042001\n",
      " !! ------------------------------------------------------------\n",
      " !! ERROR downloading GRIB2: https://pando-rgw01.chpc.utah.edu/hrrr/sfc/20171215/hrrr.t03z.wrfsfcf00.grib2\n",
      " !! Is the variable right? TMP:2 m\n",
      " !! Does the .idx file exist? https://pando-rgw01.chpc.utah.edu/hrrr/sfc/20171215/hrrr.t03z.wrfsfcf00.grib2.idx\n",
      " ---------------------------------------------------------------\n"
     ]
    },
    {
     "name": "stderr",
     "output_type": "stream",
     "text": [
      "/uufs/chpc.utah.edu/common/home/u0553130/pyBKB_v2/BB_downloads/HRRR_S3.py:363: RuntimeWarning: invalid value encountered in absolute\n",
      "  abslat = np.abs(H['lat']-lat)\n",
      "/uufs/chpc.utah.edu/common/home/u0553130/pyBKB_v2/BB_downloads/HRRR_S3.py:364: RuntimeWarning: invalid value encountered in absolute\n",
      "  abslon = np.abs(H['lon']-lon)\n"
     ]
    },
    {
     "name": "stdout",
     "output_type": "stream",
     "text": [
      "\n",
      "------------------------------------!\n",
      " !> ERROR in pluck_hrrr_point(): nan 38.735086 -122.837058\n",
      "------------------------------------!\n",
      "\n",
      " _______________________________________________________________\n",
      " !!   Run Date Requested : 2017-10-29 20:00:00 F00\n",
      " !! Valid Date Requested : 2017-10-29 20:00:00\n",
      " !!     Current UTC time : 2018-04-27 16:18:53.123232\n",
      " !! ------------------------------------------------------------\n",
      " !! ERROR downloading GRIB2: https://pando-rgw01.chpc.utah.edu/hrrr/sfc/20171029/hrrr.t20z.wrfsfcf00.grib2\n",
      " !! Is the variable right? TMP:2 m\n",
      " _______________________________________________________________\n",
      " _______________________________________________________________\n",
      " !!   Run Date Requested : 2017-12-31 23:00:00 F00\n",
      " !! Does the .idx file exist? https://pando-rgw01.chpc.utah.edu/hrrr/sfc/20171029/hrrr.t20z.wrfsfcf00.grib2.idx\n",
      " !!   Run Date Requested : 2017-12-06 17:00:00 F00\n",
      " !! Valid Date Requested : 2017-12-31 23:00:00\n",
      " !! Valid Date Requested : 2017-12-06 17:00:00\n",
      " ---------------------------------------------------------------\n",
      " !!     Current UTC time : 2018-04-27 16:18:53.137939\n",
      " !!     Current UTC time : 2018-04-27 16:18:53.138979\n",
      " !! ------------------------------------------------------------\n",
      " !! ------------------------------------------------------------\n",
      " !! ERROR downloading GRIB2: https://pando-rgw01.chpc.utah.edu/hrrr/sfc/20171206/hrrr.t17z.wrfsfcf00.grib2\n",
      " !! ERROR downloading GRIB2: https://pando-rgw01.chpc.utah.edu/hrrr/sfc/20171231/hrrr.t23z.wrfsfcf00.grib2\n",
      " !! Is the variable right? TMP:2 m\n",
      " !! Is the variable right? TMP:2 m\n",
      " !! Does the .idx file exist? https://pando-rgw01.chpc.utah.edu/hrrr/sfc/20171206/hrrr.t17z.wrfsfcf00.grib2.idx\n",
      " ---------------------------------------------------------------\n",
      " !! Does the .idx file exist? https://pando-rgw01.chpc.utah.edu/hrrr/sfc/20171231/hrrr.t23z.wrfsfcf00.grib2.idx\n",
      " ---------------------------------------------------------------\n"
     ]
    },
    {
     "name": "stderr",
     "output_type": "stream",
     "text": [
      "/uufs/chpc.utah.edu/common/home/u0553130/pyBKB_v2/BB_downloads/HRRR_S3.py:363: RuntimeWarning: invalid value encountered in absolute\n",
      "  abslat = np.abs(H['lat']-lat)\n"
     ]
    },
    {
     "name": "stdout",
     "output_type": "stream",
     "text": [
      " _______________________________________________________________\n"
     ]
    },
    {
     "name": "stderr",
     "output_type": "stream",
     "text": [
      "/uufs/chpc.utah.edu/common/home/u0553130/pyBKB_v2/BB_downloads/HRRR_S3.py:364: RuntimeWarning: invalid value encountered in absolute\n",
      "  abslon = np.abs(H['lon']-lon)\n"
     ]
    },
    {
     "name": "stdout",
     "output_type": "stream",
     "text": [
      "\n",
      "------------------------------------! !!   Run Date Requested : 2017-10-17 05:00:00 F00\n",
      "\n",
      " !! Valid Date Requested : 2017-10-17 05:00:00\n",
      " !> ERROR in pluck_hrrr_point(): nan 38.735086 -122.837058\n",
      " !!     Current UTC time : 2018-04-27 16:18:53.163463\n",
      "------------------------------------!\n",
      " !! ------------------------------------------------------------\n"
     ]
    },
    {
     "name": "stderr",
     "output_type": "stream",
     "text": [
      "/uufs/chpc.utah.edu/common/home/u0553130/pyBKB_v2/BB_downloads/HRRR_S3.py:363: RuntimeWarning: invalid value encountered in absolute\n",
      "  abslat = np.abs(H['lat']-lat)\n"
     ]
    },
    {
     "name": "stdout",
     "output_type": "stream",
     "text": [
      " !! ERROR downloading GRIB2: https://pando-rgw01.chpc.utah.edu/hrrr/sfc/20171017/hrrr.t05z.wrfsfcf00.grib2\n",
      "\n"
     ]
    },
    {
     "name": "stderr",
     "output_type": "stream",
     "text": [
      "/uufs/chpc.utah.edu/common/home/u0553130/pyBKB_v2/BB_downloads/HRRR_S3.py:364: RuntimeWarning: invalid value encountered in absolute\n",
      "  abslon = np.abs(H['lon']-lon)\n"
     ]
    },
    {
     "name": "stdout",
     "output_type": "stream",
     "text": [
      "\n",
      "------------------------------------!"
     ]
    },
    {
     "name": "stderr",
     "output_type": "stream",
     "text": [
      "/uufs/chpc.utah.edu/common/home/u0553130/pyBKB_v2/BB_downloads/HRRR_S3.py:363: RuntimeWarning: invalid value encountered in absolute\n",
      "  abslat = np.abs(H['lat']-lat)\n"
     ]
    },
    {
     "name": "stdout",
     "output_type": "stream",
     "text": [
      " !! Is the variable right? TMP:2 m\n",
      "\n"
     ]
    },
    {
     "name": "stderr",
     "output_type": "stream",
     "text": [
      "/uufs/chpc.utah.edu/common/home/u0553130/pyBKB_v2/BB_downloads/HRRR_S3.py:364: RuntimeWarning: invalid value encountered in absolute\n",
      "  abslon = np.abs(H['lon']-lon)\n"
     ]
    },
    {
     "name": "stdout",
     "output_type": "stream",
     "text": [
      " !! Does the .idx file exist? https://pando-rgw01.chpc.utah.edu/hrrr/sfc/20171017/hrrr.t05z.wrfsfcf00.grib2.idx\n",
      " !> ERROR in pluck_hrrr_point(): nan 38.735086 -122.837058\n",
      "\n",
      "------------------------------------! ---------------------------------------------------------------\n",
      "\n",
      "------------------------------------!\n",
      " !> ERROR in pluck_hrrr_point(): nan 38.735086 -122.837058\n",
      "\n",
      "------------------------------------!\n",
      "\n"
     ]
    },
    {
     "name": "stderr",
     "output_type": "stream",
     "text": [
      "/uufs/chpc.utah.edu/common/home/u0553130/pyBKB_v2/BB_downloads/HRRR_S3.py:363: RuntimeWarning: invalid value encountered in absolute\n",
      "  abslat = np.abs(H['lat']-lat)\n",
      "/uufs/chpc.utah.edu/common/home/u0553130/pyBKB_v2/BB_downloads/HRRR_S3.py:364: RuntimeWarning: invalid value encountered in absolute\n",
      "  abslon = np.abs(H['lon']-lon)\n"
     ]
    },
    {
     "name": "stdout",
     "output_type": "stream",
     "text": [
      "\n",
      "------------------------------------!\n",
      " !> ERROR in pluck_hrrr_point(): nan 38.735086 -122.837058\n",
      "------------------------------------!\n",
      "\n",
      " _______________________________________________________________\n",
      " !!   Run Date Requested : 2017-11-07 06:00:00 F00\n",
      " !! Valid Date Requested : 2017-11-07 06:00:00\n",
      " !!     Current UTC time : 2018-04-27 16:18:53.324461\n",
      " !! ------------------------------------------------------------\n",
      " !! ERROR downloading GRIB2: https://pando-rgw01.chpc.utah.edu/hrrr/sfc/20171107/hrrr.t06z.wrfsfcf00.grib2\n",
      " !! Is the variable right? TMP:2 m\n",
      " !! Does the .idx file exist? https://pando-rgw01.chpc.utah.edu/hrrr/sfc/20171107/hrrr.t06z.wrfsfcf00.grib2.idx\n",
      " ---------------------------------------------------------------\n"
     ]
    },
    {
     "name": "stderr",
     "output_type": "stream",
     "text": [
      "/uufs/chpc.utah.edu/common/home/u0553130/pyBKB_v2/BB_downloads/HRRR_S3.py:363: RuntimeWarning: invalid value encountered in absolute\n",
      "  abslat = np.abs(H['lat']-lat)\n",
      "/uufs/chpc.utah.edu/common/home/u0553130/pyBKB_v2/BB_downloads/HRRR_S3.py:364: RuntimeWarning: invalid value encountered in absolute\n",
      "  abslon = np.abs(H['lon']-lon)\n"
     ]
    },
    {
     "name": "stdout",
     "output_type": "stream",
     "text": [
      "\n",
      "------------------------------------!\n",
      " !> ERROR in pluck_hrrr_point(): nan 38.735086 -122.837058\n",
      "------------------------------------!\n",
      "\n",
      " _______________________________________________________________\n",
      "\n",
      "------------------------------------!\n",
      "------------------------------------! !!   Run Date Requested : 2017-11-12 04:00:00 F00\n",
      " _______________________________________________________________\n",
      "\n",
      "\n",
      " !! Valid Date Requested : 2017-11-12 04:00:00\n",
      " _______________________________________________________________\n",
      " _______________________________________________________________\n",
      " !> ERROR in pluck_hrrr_point(): 1:2 metre temperature:K (instant):lambert:heightAboveGround:level 2 m:fcst time 0 hrs:from 201712192300 38.735086 -122.837058\n",
      " !> ERROR in pluck_hrrr_point(): 1:2 metre temperature:K (instant):lambert:heightAboveGround:level 2 m:fcst time 0 hrs:from 201801011500 38.735086 -122.837058\n",
      " _______________________________________________________________\n",
      " _______________________________________________________________\n",
      " _______________________________________________________________\n",
      " !!   Run Date Requested : 2017-12-28 09:00:00 F00\n",
      " !!     Current UTC time : 2018-04-27 16:19:22.648271\n",
      "------------------------------------!\n",
      " _______________________________________________________________\n",
      "------------------------------------!\n",
      " !!   Run Date Requested : 2017-11-16 10:00:00 F00\n",
      " !!   Run Date Requested : 2017-10-17 21:00:00 F00\n",
      " !!   Run Date Requested : 2017-10-22 02:00:00 F00\n",
      " !!   Run Date Requested : 2017-12-24 06:00:00 F00\n",
      " !!   Run Date Requested : 2017-10-26 09:00:00 F00\n",
      " !! Valid Date Requested : 2017-10-17 21:00:00\n",
      " !! Valid Date Requested : 2017-12-28 09:00:00\n",
      " !! ------------------------------------------------------------\n",
      "\n",
      "\n",
      " !! Valid Date Requested : 2017-10-26 09:00:00\n",
      " !! Valid Date Requested : 2017-12-24 06:00:00\n"
     ]
    },
    {
     "name": "stderr",
     "output_type": "stream",
     "text": [
      "Process PoolWorker-12:\n"
     ]
    },
    {
     "name": "stdout",
     "output_type": "stream",
     "text": [
      " !!     Current UTC time : 2018-04-27 16:19:22.653814\n",
      " !! Valid Date Requested : 2017-11-16 10:00:00\n",
      " !!   Run Date Requested : 2017-11-07 22:00:00 F00\n",
      " !!     Current UTC time : 2018-04-27 16:19:22.656736\n",
      " !! Valid Date Requested : 2017-10-22 02:00:00\n",
      " !!     Current UTC time : 2018-04-27 16:19:22.656926\n",
      "\n",
      "------------------------------------! !! Valid Date Requested : 2017-11-07 22:00:00\n"
     ]
    },
    {
     "name": "stderr",
     "output_type": "stream",
     "text": [
      "Traceback (most recent call last):\n"
     ]
    },
    {
     "name": "stdout",
     "output_type": "stream",
     "text": [
      " _______________________________________________________________\n",
      " !! ERROR downloading GRIB2: https://pando-rgw01.chpc.utah.edu/hrrr/sfc/20171112/hrrr.t04z.wrfsfcf00.grib2\n",
      " !!     Current UTC time : 2018-04-27 16:19:22.658947\n",
      " !!     Current UTC time : 2018-04-27 16:19:22.659037\n",
      " !! ------------------------------------------------------------\n",
      " !!     Current UTC time : 2018-04-27 16:19:22.660449\n"
     ]
    },
    {
     "name": "stderr",
     "output_type": "stream",
     "text": [
      "  File \"/uufs/chpc.utah.edu/sys/installdir/python/2.7.11-c7/lib/python2.7/multiprocessing/process.py\", line 258, in _bootstrap\n"
     ]
    },
    {
     "name": "stdout",
     "output_type": "stream",
     "text": [
      " !!     Current UTC time : 2018-04-27 16:19:22.661849\n",
      " !! ------------------------------------------------------------\n",
      " !! Is the variable right? TMP:2 m\n",
      " !! ------------------------------------------------------------\n",
      " !!   Run Date Requested : 2017-12-07 09:00:00 F00\n",
      " !! ERROR downloading GRIB2: https://pando-rgw01.chpc.utah.edu/hrrr/sfc/20171116/hrrr.t10z.wrfsfcf00.grib2\n",
      " !! ------------------------------------------------------------\n",
      " !! ------------------------------------------------------------\n",
      " !! ERROR downloading GRIB2: https://pando-rgw01.chpc.utah.edu/hrrr/sfc/20171026/hrrr.t09z.wrfsfcf00.grib2\n",
      " !! Valid Date Requested : 2017-12-07 09:00:00\n",
      " !! ERROR downloading GRIB2: https://pando-rgw01.chpc.utah.edu/hrrr/sfc/20171107/hrrr.t22z.wrfsfcf00.grib2\n",
      " !! Does the .idx file exist? https://pando-rgw01.chpc.utah.edu/hrrr/sfc/20171112/hrrr.t04z.wrfsfcf00.grib2.idx\n",
      " !! Is the variable right? TMP:2 m\n",
      " !!     Current UTC time : 2018-04-27 16:19:22.668244\n",
      " !! Is the variable right? TMP:2 m\n",
      " !! ERROR downloading GRIB2: https://pando-rgw01.chpc.utah.edu/hrrr/sfc/20171224/hrrr.t06z.wrfsfcf00.grib2\n",
      " !! ERROR downloading GRIB2: https://pando-rgw01.chpc.utah.edu/hrrr/sfc/20171228/hrrr.t09z.wrfsfcf00.grib2\n",
      " !! ------------------------------------------------------------\n",
      "\n",
      " !! ------------------------------------------------------------\n",
      " !! Is the variable right? TMP:2 m\n",
      " ---------------------------------------------------------------\n"
     ]
    },
    {
     "name": "stderr",
     "output_type": "stream",
     "text": [
      "    self.run()\n"
     ]
    },
    {
     "name": "stdout",
     "output_type": "stream",
     "text": [
      " !! ------------------------------------------------------------\n",
      " !! Does the .idx file exist? https://pando-rgw01.chpc.utah.edu/hrrr/sfc/20171026/hrrr.t09z.wrfsfcf00.grib2.idx\n",
      " !! Is the variable right? TMP:2 m\n",
      " !! Does the .idx file exist? https://pando-rgw01.chpc.utah.edu/hrrr/sfc/20171116/hrrr.t10z.wrfsfcf00.grib2.idx\n",
      " !! ERROR downloading GRIB2: https://pando-rgw01.chpc.utah.edu/hrrr/sfc/20171022/hrrr.t02z.wrfsfcf00.grib2\n"
     ]
    },
    {
     "name": "stderr",
     "output_type": "stream",
     "text": [
      "  File \"/uufs/chpc.utah.edu/sys/installdir/python/2.7.11-c7/lib/python2.7/multiprocessing/process.py\", line 114, in run\n"
     ]
    },
    {
     "name": "stdout",
     "output_type": "stream",
     "text": [
      " ---------------------------------------------------------------\n",
      "\n",
      "------------------------------------! !! ERROR downloading GRIB2: https://pando-rgw01.chpc.utah.edu/hrrr/sfc/20171207/hrrr.t09z.wrfsfcf00.grib2\n",
      " !! Is the variable right? TMP:2 m\n",
      " !! Does the .idx file exist? https://pando-rgw01.chpc.utah.edu/hrrr/sfc/20171107/hrrr.t22z.wrfsfcf00.grib2.idx\n",
      " !> ERROR in pluck_hrrr_point(): 1:2 metre temperature:K (instant):lambert:heightAboveGround:level 2 m:fcst time 0 hrs:from 201712111400 38.735086 -122.837058\n",
      " !! ERROR downloading GRIB2: https://pando-rgw01.chpc.utah.edu/hrrr/sfc/20171017/hrrr.t21z.wrfsfcf00.grib2\n",
      "\n",
      "\n",
      "------------------------------------! !! Is the variable right? TMP:2 m\n",
      " ---------------------------------------------------------------\n",
      " !! Does the .idx file exist? https://pando-rgw01.chpc.utah.edu/hrrr/sfc/20171224/hrrr.t06z.wrfsfcf00.grib2.idx\n",
      " !> ERROR in pluck_hrrr_point(): nan 38.735086 -122.837058\n",
      "------------------------------------!\n",
      " !! Is the variable right? TMP:2 m\n",
      " !! Does the .idx file exist? https://pando-rgw01.chpc.utah.edu/hrrr/sfc/20171228/hrrr.t09z.wrfsfcf00.grib2.idx\n",
      "\n",
      " !! Does the .idx file exist? https://pando-rgw01.chpc.utah.edu/hrrr/sfc/20171022/hrrr.t02z.wrfsfcf00.grib2.idx\n"
     ]
    },
    {
     "name": "stderr",
     "output_type": "stream",
     "text": [
      "    self._target(*self._args, **self._kwargs)\n"
     ]
    },
    {
     "name": "stdout",
     "output_type": "stream",
     "text": [
      " ---------------------------------------------------------------\n",
      " !! Does the .idx file exist? https://pando-rgw01.chpc.utah.edu/hrrr/sfc/20171017/hrrr.t21z.wrfsfcf00.grib2.idx\n",
      "------------------------------------!\n",
      " ---------------------------------------------------------------\n",
      "\n",
      "\n"
     ]
    },
    {
     "name": "stderr",
     "output_type": "stream",
     "text": [
      "  File \"/uufs/chpc.utah.edu/sys/installdir/python/2.7.11-c7/lib/python2.7/multiprocessing/pool.py\", line 113, in worker\n"
     ]
    },
    {
     "name": "stdout",
     "output_type": "stream",
     "text": [
      "\n",
      "------------------------------------! ---------------------------------------------------------------\n",
      " !! Is the variable right? TMP:2 m\n",
      "\n",
      " !! Does the .idx file exist? https://pando-rgw01.chpc.utah.edu/hrrr/sfc/20171207/hrrr.t09z.wrfsfcf00.grib2.idx\n",
      "\n",
      "------------------------------------! !> ERROR in pluck_hrrr_point(): nan 38.735086 -122.837058\n",
      "\n",
      "------------------------------------!\n",
      " ---------------------------------------------------------------\n",
      " !> ERROR in pluck_hrrr_point(): nan 38.735086 -122.837058\n",
      "\n",
      "------------------------------------!\n",
      "\n",
      "------------------------------------! !> ERROR in pluck_hrrr_point(): nan 38.735086 -122.837058\n",
      "------------------------------------!\n"
     ]
    },
    {
     "name": "stderr",
     "output_type": "stream",
     "text": [
      "    result = (True, func(*args, **kwds))\n"
     ]
    },
    {
     "name": "stdout",
     "output_type": "stream",
     "text": [
      "------------------------------------!\n",
      " ---------------------------------------------------------------\n",
      " ---------------------------------------------------------------\n"
     ]
    },
    {
     "name": "stderr",
     "output_type": "stream",
     "text": [
      "  File \"/uufs/chpc.utah.edu/sys/installdir/python/2.7.11-c7/lib/python2.7/multiprocessing/pool.py\", line 65, in mapstar\n"
     ]
    },
    {
     "name": "stdout",
     "output_type": "stream",
     "text": [
      "\n",
      "\n",
      " _______________________________________________________________\n",
      "\n"
     ]
    },
    {
     "name": "stderr",
     "output_type": "stream",
     "text": [
      "    return map(*args)\n"
     ]
    },
    {
     "name": "stdout",
     "output_type": "stream",
     "text": [
      " !> ERROR in pluck_hrrr_point(): nan 38.735086 -122.837058\n",
      "\n",
      "------------------------------------!"
     ]
    },
    {
     "name": "stderr",
     "output_type": "stream",
     "text": [
      "  File \"/uufs/chpc.utah.edu/common/home/u0553130/pyBKB_v2/BB_downloads/HRRR_S3.py\", line 540, in pluck_LocDic_MultiPro\n"
     ]
    },
    {
     "name": "stdout",
     "output_type": "stream",
     "text": [
      "------------------------------------!\n",
      "\n",
      " !!   Run Date Requested : 2017-10-09 12:00:00 F00\n",
      "\n",
      "\n",
      " !> ERROR in pluck_hrrr_point(): nan 38.735086 -122.837058\n",
      " !! Valid Date Requested : 2017-10-09 12:00:00\n",
      " !> ERROR in pluck_hrrr_point(): nan 38.735086 -122.837058\n",
      "\n",
      "------------------------------------!\n",
      "------------------------------------!\n",
      " !> ERROR in pluck_hrrr_point(): nan 38.735086 -122.837058\n",
      " !!     Current UTC time : 2018-04-27 16:19:22.715240\n",
      "\n",
      "------------------------------------!\n",
      "------------------------------------!\n",
      " !! ------------------------------------------------------------\n",
      "\n",
      " !! ERROR downloading GRIB2: https://pando-rgw01.chpc.utah.edu/hrrr/sfc/20171009/hrrr.t12z.wrfsfcf00.grib2\n"
     ]
    },
    {
     "name": "stderr",
     "output_type": "stream",
     "text": [
      "    del H # does this help prevent multiprocessing from hanging??\n",
      "KeyboardInterrupt\n"
     ]
    },
    {
     "name": "stdout",
     "output_type": "stream",
     "text": [
      " !! Is the variable right? TMP:2 m\n",
      "\n",
      "\n",
      "------------------------------------! !! Does the .idx file exist? https://pando-rgw01.chpc.utah.edu/hrrr/sfc/20171009/hrrr.t12z.wrfsfcf00.grib2.idx\n",
      "\n",
      " ---------------------------------------------------------------\n",
      " !> ERROR in pluck_hrrr_point(): nan 38.735086 -122.837058\n",
      "\n",
      "------------------------------------!------------------------------------!\n",
      "\n",
      "\n",
      " !> ERROR in pluck_hrrr_point(): nan 38.735086 -122.837058\n",
      "------------------------------------!\n",
      "\n",
      " _______________________________________________________________\n",
      " !!   Run Date Requested : 2017-10-13 17:00:00 F00\n",
      " !! Valid Date Requested : 2017-10-13 17:00:00\n",
      " !!     Current UTC time : 2018-04-27 16:19:22.891088\n",
      " !! ------------------------------------------------------------\n",
      " !! ERROR downloading GRIB2: https://pando-rgw01.chpc.utah.edu/hrrr/sfc/20171013/hrrr.t17z.wrfsfcf00.grib2\n",
      " !! Is the variable right? TMP:2 m\n",
      " !! Does the .idx file exist? https://pando-rgw01.chpc.utah.edu/hrrr/sfc/20171013/hrrr.t17z.wrfsfcf00.grib2.idx\n",
      " ---------------------------------------------------------------\n",
      "\n",
      "------------------------------------!\n",
      " !> ERROR in pluck_hrrr_point(): nan 38.735086 -122.837058\n",
      "------------------------------------!\n",
      "\n",
      " _______________________________________________________________\n",
      " !!   Run Date Requested : 2017-12-03 05:00:00 F00\n",
      " !! Valid Date Requested : 2017-12-03 05:00:00\n",
      " !!     Current UTC time : 2018-04-27 16:19:23.065443\n",
      " !! ------------------------------------------------------------\n",
      " !! ERROR downloading GRIB2: https://pando-rgw01.chpc.utah.edu/hrrr/sfc/20171203/hrrr.t05z.wrfsfcf00.grib2\n",
      " !! Is the variable right? TMP:2 m\n",
      " !! Does the .idx file exist? https://pando-rgw01.chpc.utah.edu/hrrr/sfc/20171203/hrrr.t05z.wrfsfcf00.grib2.idx\n",
      " ---------------------------------------------------------------\n",
      " _______________________________________________________________\n",
      " !!   Run Date Requested : 2017-11-03 18:00:00 F00\n",
      " !! Valid Date Requested : 2017-11-03 18:00:00\n",
      " _______________________________________________________________\n",
      " !!     Current UTC time : 2018-04-27 16:19:23.089714\n",
      " !!   Run Date Requested : 2017-11-28 23:00:00 F00\n",
      " !! ------------------------------------------------------------\n",
      " !! Valid Date Requested : 2017-11-28 23:00:00\n",
      " !! ERROR downloading GRIB2: https://pando-rgw01.chpc.utah.edu/hrrr/sfc/20171103/hrrr.t18z.wrfsfcf00.grib2\n",
      " !!     Current UTC time : 2018-04-27 16:19:23.094732\n",
      " !! Is the variable right? TMP:2 m\n",
      "\n",
      "------------------------------------! !! ------------------------------------------------------------\n",
      "\n",
      " !! Does the .idx file exist? https://pando-rgw01.chpc.utah.edu/hrrr/sfc/20171103/hrrr.t18z.wrfsfcf00.grib2.idx\n",
      " !! ERROR downloading GRIB2: https://pando-rgw01.chpc.utah.edu/hrrr/sfc/20171128/hrrr.t23z.wrfsfcf00.grib2\n",
      " ---------------------------------------------------------------\n",
      " !> ERROR in pluck_hrrr_point(): nan 38.735086 -122.837058\n",
      " !! Is the variable right? TMP:2 m\n",
      "------------------------------------!\n",
      " !! Does the .idx file exist? https://pando-rgw01.chpc.utah.edu/hrrr/sfc/20171128/hrrr.t23z.wrfsfcf00.grib2.idx\n",
      "\n",
      " ---------------------------------------------------------------\n",
      "\n",
      "------------------------------------!\n",
      " !> ERROR in pluck_hrrr_point(): nan 38.735086 -122.837058\n",
      "\n",
      "------------------------------------!\n",
      "------------------------------------!\n",
      " !> ERROR in pluck_hrrr_point(): nan 38.735086 -122.837058\n",
      "\n",
      "------------------------------------!\n",
      "\n",
      " _______________________________________________________________\n",
      " _______________________________________________________________\n",
      " !!   Run Date Requested : 2017-10-30 12:00:00 F00\n",
      " !!   Run Date Requested : 2017-11-20 14:00:00 F00\n",
      " !! Valid Date Requested : 2017-10-30 12:00:00\n",
      " !! Valid Date Requested : 2017-11-20 14:00:00\n",
      " !!     Current UTC time : 2018-04-27 16:19:23.192118\n",
      " !!     Current UTC time : 2018-04-27 16:19:23.194063\n",
      " !! ------------------------------------------------------------\n",
      " !! ------------------------------------------------------------\n",
      " !! ERROR downloading GRIB2: https://pando-rgw01.chpc.utah.edu/hrrr/sfc/20171030/hrrr.t12z.wrfsfcf00.grib2\n",
      " !! ERROR downloading GRIB2: https://pando-rgw01.chpc.utah.edu/hrrr/sfc/20171120/hrrr.t14z.wrfsfcf00.grib2\n",
      " !! Is the variable right? TMP:2 m\n",
      " !! Is the variable right? TMP:2 m\n",
      " !! Does the .idx file exist? https://pando-rgw01.chpc.utah.edu/hrrr/sfc/20171120/hrrr.t14z.wrfsfcf00.grib2.idx\n",
      " !! Does the .idx file exist? https://pando-rgw01.chpc.utah.edu/hrrr/sfc/20171030/hrrr.t12z.wrfsfcf00.grib2.idx\n",
      " ---------------------------------------------------------------\n",
      " ---------------------------------------------------------------\n",
      "\n",
      "------------------------------------!\n",
      " !> ERROR in pluck_hrrr_point(): nan 38.735086 -122.837058\n",
      "------------------------------------!\n",
      "\n",
      "------------------------------------!\n",
      "\n",
      " !> ERROR in pluck_hrrr_point(): nan 38.735086 -122.837058\n",
      "------------------------------------!\n",
      "\n",
      " _______________________________________________________________\n",
      " !!   Run Date Requested : 2017-12-15 19:00:00 F00\n",
      " !! Valid Date Requested : 2017-12-15 19:00:00\n",
      " !!     Current UTC time : 2018-04-27 16:19:23.368932\n",
      " !! ------------------------------------------------------------\n",
      " !! ERROR downloading GRIB2: https://pando-rgw01.chpc.utah.edu/hrrr/sfc/20171215/hrrr.t19z.wrfsfcf00.grib2\n",
      " !! Is the variable right? TMP:2 m\n",
      " !! Does the .idx file exist? https://pando-rgw01.chpc.utah.edu/hrrr/sfc/20171215/hrrr.t19z.wrfsfcf00.grib2.idx\n",
      " ---------------------------------------------------------------\n",
      "\n",
      "------------------------------------!\n",
      " !> ERROR in pluck_hrrr_point(): nan 38.735086 -122.837058\n",
      "------------------------------------!\n",
      "\n"
     ]
    }
   ],
   "source": [
    "a = LocDic_hrrr_hovmoller(sDATE, eDATE, location_dic, variable=VAR, verbose=False)"
   ]
  },
  {
   "cell_type": "code",
   "execution_count": null,
   "metadata": {
    "collapsed": false
   },
   "outputs": [],
   "source": [
    "plt.pcolormesh(a['test'])"
   ]
  }
 ],
 "metadata": {
  "kernelspec": {
   "display_name": "Python 2",
   "language": "python",
   "name": "python2"
  },
  "language_info": {
   "codemirror_mode": {
    "name": "ipython",
    "version": 2
   },
   "file_extension": ".py",
   "mimetype": "text/x-python",
   "name": "python",
   "nbconvert_exporter": "python",
   "pygments_lexer": "ipython2",
   "version": "2.7.11"
  }
 },
 "nbformat": 4,
 "nbformat_minor": 0
}
