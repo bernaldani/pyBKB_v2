{
 "cells": [
  {
   "cell_type": "markdown",
   "metadata": {},
   "source": [
    "##### Figure 5\n",
    "# HRRR forecasts hovemoller and pollywogs"
   ]
  },
  {
   "cell_type": "code",
   "execution_count": 91,
   "metadata": {
    "collapsed": true
   },
   "outputs": [],
   "source": [
    "%matplotlib inline\n",
    "import h5py\n",
    "import matplotlib.pyplot as plt\n",
    "import matplotlib.dates as mdates\n",
    "import multiprocessing\n",
    "import numpy as np\n",
    "from collections import OrderedDict\n",
    "\n",
    "import sys\n",
    "sys.path.append('/uufs/chpc.utah.edu/common/home/u0553130/pyBKB_v2')\n",
    "from BB_downloads.HRRR_S3 import *\n",
    "from BB_wx_calcs.wind import wind_uv_to_spd\n",
    "from BB_basemap.draw_maps import draw_CONUS_HRRR_map\n",
    "from BB_MesoWest.MesoWest_STNinfo import get_MW_location_dict\n",
    "from BB_MesoWest.MesoWest_timeseries import get_mesowest_ts\n",
    "from BB_MesoWest.MesoWest_nearesttime import get_mesowest_nearesttime\n",
    "from BB_MesoWest.MesoWest_percentiles import get_mesowest_percentiles\n",
    "from BB_data.grid_manager import pluck_point_new\n",
    "from BB_wx_calcs.wind import wind_uv_to_spd, wind_spddir_to_uv"
   ]
  },
  {
   "cell_type": "code",
   "execution_count": 92,
   "metadata": {
    "collapsed": true
   },
   "outputs": [],
   "source": [
    "from matplotlib.dates import DateFormatter\n",
    "formatter = DateFormatter('%b-%d\\n%H:%M')\n",
    "\n",
    "import matplotlib as mpl \n",
    "two_column = 6.5\n",
    "one_column = 3.2\n",
    "twothird_column = 6.8\n",
    "mpl.rcParams['figure.figsize'] = [two_column, 3]\n",
    "mpl.rcParams['figure.titlesize'] = 12\n",
    "mpl.rcParams['figure.titleweight'] = 'bold'\n",
    "mpl.rcParams['xtick.labelsize'] = 8\n",
    "mpl.rcParams['ytick.labelsize'] = 8\n",
    "mpl.rcParams['axes.labelsize'] = 8\n",
    "mpl.rcParams['axes.titlesize'] = 10\n",
    "mpl.rcParams['lines.linewidth'] = 1.8\n",
    "mpl.rcParams['grid.linewidth'] = .2\n",
    "mpl.rcParams['grid.alpha'] = .8\n",
    "mpl.rcParams['figure.subplot.wspace'] = 0.03\n",
    "mpl.rcParams['figure.subplot.hspace'] = 0.05\n",
    "mpl.rcParams['legend.fontsize'] = 7\n",
    "mpl.rcParams['legend.framealpha'] = .75\n",
    "mpl.rcParams['legend.loc'] = 'best'\n",
    "mpl.rcParams['savefig.bbox'] = 'tight'\n",
    "    \n",
    "mpl.rcParams['savefig.dpi'] = 1000    # 600 for print"
   ]
  },
  {
   "cell_type": "markdown",
   "metadata": {},
   "source": [
    "AMS Journal Figure size chart.  \n",
    "_Note: Figsize parameter may differ from what is actually generated_\n",
    "\n",
    "| One Colulmn | 2/3 Page   | Two Columns   | More than 2 columns  |\n",
    "|---|---|---|---|\n",
    "| 3.2   | 4.5  | 5.5  | 6.5  |\n"
   ]
  },
  {
   "cell_type": "code",
   "execution_count": 93,
   "metadata": {
    "collapsed": true
   },
   "outputs": [],
   "source": [
    "# Get Lat/Lon Grid\n",
    "DIR = '/uufs/chpc.utah.edu/common/home/horel-group2/blaylock/HRRR_OSG/'\n",
    "latlon_file = h5py.File(DIR+'OSG_HRRR_latlon.h5', 'r')\n",
    "lat = latlon_file['latitude'].value\n",
    "lon = latlon_file['longitude'].value"
   ]
  },
  {
   "cell_type": "code",
   "execution_count": 94,
   "metadata": {
    "collapsed": false
   },
   "outputs": [],
   "source": [
    "stn = 'HWKC1'\n",
    "\n",
    "# Pluck point nearest MesoWest Station\n",
    "LD = get_MW_location_dict(stn)\n",
    "MWlat = LD[stn]['latitude']\n",
    "MWlon = LD[stn]['longitude']\n",
    "point = pluck_point_new(MWlat, MWlon, lat, lon)\n",
    "x = point[0][0]\n",
    "y = point[1][0]"
   ]
  },
  {
   "cell_type": "code",
   "execution_count": 95,
   "metadata": {
    "collapsed": true
   },
   "outputs": [],
   "source": [
    "def get_hrrr_point_UV(DATE):\n",
    "    Hu = get_hrrr_variable(DATE, 'UGRD:10 m', fxx=fxx, verbose=False)\n",
    "    Hv = get_hrrr_variable(DATE, 'VGRD:10 m', fxx=fxx, verbose=False)\n",
    "    \n",
    "    spd = wind_uv_to_spd(Hu['value'][x][y], Hv['value'][x][y])\n",
    "    \n",
    "    return spd"
   ]
  },
  {
   "cell_type": "code",
   "execution_count": 96,
   "metadata": {
    "collapsed": false
   },
   "outputs": [
    {
     "name": "stdout",
     "output_type": "stream",
     "text": [
      "finished 00: 0:00:11.124601\n",
      "finished 01: 0:00:11.535339\n",
      "finished 02: 0:00:11.592885\n",
      "finished 03: 0:00:15.487693\n",
      "finished 04: 0:00:21.345434\n",
      "finished 05: 0:00:20.460364\n",
      "finished 06: 0:00:15.987835\n",
      "finished 07: 0:00:21.015043\n",
      "finished 08: 0:00:22.141150\n",
      " _______________________________________________________________\n",
      " _______________________________________________________________\n",
      " _______________________________________________________________\n",
      " !!   Run Date Requested : 2017-10-08 05:00:00 F09\n",
      " !!   Run Date Requested : 2017-10-08 02:00:00 F09\n",
      " !!   Run Date Requested : 2017-10-07 23:00:00 F09\n",
      " !! Valid Date Requested : 2017-10-08 14:00:00\n",
      " !! Valid Date Requested : 2017-10-08 11:00:00\n",
      " !! Valid Date Requested : 2017-10-08 08:00:00\n",
      " !!     Current UTC time : 2018-04-06 19:20:23.076070\n",
      " !!     Current UTC time : 2018-04-06 19:20:23.076935\n",
      " !! ------------------------------------------------------------\n",
      " !!     Current UTC time : 2018-04-06 19:20:23.075198\n",
      " !! ------------------------------------------------------------\n",
      " !! ------------------------------------------------------------\n",
      " !! ERROR downloading from: https://pando-rgw01.chpc.utah.edu/hrrr/sfc/20171008/hrrr.t02z.wrfsfcf09.grib2\n",
      " !! ERROR downloading from: https://pando-rgw01.chpc.utah.edu/hrrr/sfc/20171007/hrrr.t23z.wrfsfcf09.grib2\n",
      " !! ERROR downloading from: https://pando-rgw01.chpc.utah.edu/hrrr/sfc/20171008/hrrr.t05z.wrfsfcf09.grib2\n",
      " !! Is the variable right? VGRD:10 m\n",
      " !! Is the variable right? VGRD:10 m\n",
      " !! Is the variable right? VGRD:10 m\n",
      " !! Does the .idx file exist? https://pando-rgw01.chpc.utah.edu/hrrr/sfc/20171007/hrrr.t23z.wrfsfcf09.grib2.idx\n",
      " !! Does the .idx file exist? https://pando-rgw01.chpc.utah.edu/hrrr/sfc/20171008/hrrr.t02z.wrfsfcf09.grib2.idx\n",
      " !! Does the .idx file exist? https://pando-rgw01.chpc.utah.edu/hrrr/sfc/20171008/hrrr.t05z.wrfsfcf09.grib2.idx\n",
      " ---------------------------------------------------------------\n",
      " ---------------------------------------------------------------\n",
      " ---------------------------------------------------------------\n"
     ]
    },
    {
     "ename": "TypeError",
     "evalue": "'float' object has no attribute '__getitem__'",
     "output_type": "error",
     "traceback": [
      "\u001b[0;31m---------------------------------------------------------------------------\u001b[0m",
      "\u001b[0;31mTypeError\u001b[0m                                 Traceback (most recent call last)",
      "\u001b[0;32m<ipython-input-96-48d1abbe998a>\u001b[0m in \u001b[0;36m<module>\u001b[0;34m()\u001b[0m\n\u001b[1;32m     14\u001b[0m     \u001b[0mtimer\u001b[0m \u001b[0;34m=\u001b[0m \u001b[0mdatetime\u001b[0m\u001b[0;34m.\u001b[0m\u001b[0mnow\u001b[0m\u001b[0;34m(\u001b[0m\u001b[0;34m)\u001b[0m\u001b[0;34m\u001b[0m\u001b[0m\n\u001b[1;32m     15\u001b[0m     \u001b[0mp\u001b[0m \u001b[0;34m=\u001b[0m \u001b[0mmultiprocessing\u001b[0m\u001b[0;34m.\u001b[0m\u001b[0mPool\u001b[0m\u001b[0;34m(\u001b[0m\u001b[0;36m15\u001b[0m\u001b[0;34m)\u001b[0m\u001b[0;34m\u001b[0m\u001b[0m\n\u001b[0;32m---> 16\u001b[0;31m     \u001b[0mresult\u001b[0m \u001b[0;34m=\u001b[0m \u001b[0mp\u001b[0m\u001b[0;34m.\u001b[0m\u001b[0mmap\u001b[0m\u001b[0;34m(\u001b[0m\u001b[0mget_hrrr_point_UV\u001b[0m\u001b[0;34m,\u001b[0m \u001b[0mINITDATES\u001b[0m\u001b[0;34m)\u001b[0m\u001b[0;34m\u001b[0m\u001b[0m\n\u001b[0m\u001b[1;32m     17\u001b[0m     \u001b[0mp\u001b[0m\u001b[0;34m.\u001b[0m\u001b[0mclose\u001b[0m\u001b[0;34m\u001b[0m\u001b[0m\n\u001b[1;32m     18\u001b[0m     \u001b[0;32mprint\u001b[0m \u001b[0;34m'finished %02d:'\u001b[0m \u001b[0;34m%\u001b[0m \u001b[0mfxx\u001b[0m\u001b[0;34m,\u001b[0m \u001b[0mdatetime\u001b[0m\u001b[0;34m.\u001b[0m\u001b[0mnow\u001b[0m\u001b[0;34m(\u001b[0m\u001b[0;34m)\u001b[0m\u001b[0;34m-\u001b[0m\u001b[0mtimer\u001b[0m\u001b[0;34m\u001b[0m\u001b[0m\n",
      "\u001b[0;32m/uufs/chpc.utah.edu/sys/installdir/python/2.7.11-c7/lib/python2.7/multiprocessing/pool.pyc\u001b[0m in \u001b[0;36mmap\u001b[0;34m(self, func, iterable, chunksize)\u001b[0m\n\u001b[1;32m    249\u001b[0m         '''\n\u001b[1;32m    250\u001b[0m         \u001b[0;32massert\u001b[0m \u001b[0mself\u001b[0m\u001b[0;34m.\u001b[0m\u001b[0m_state\u001b[0m \u001b[0;34m==\u001b[0m \u001b[0mRUN\u001b[0m\u001b[0;34m\u001b[0m\u001b[0m\n\u001b[0;32m--> 251\u001b[0;31m         \u001b[0;32mreturn\u001b[0m \u001b[0mself\u001b[0m\u001b[0;34m.\u001b[0m\u001b[0mmap_async\u001b[0m\u001b[0;34m(\u001b[0m\u001b[0mfunc\u001b[0m\u001b[0;34m,\u001b[0m \u001b[0miterable\u001b[0m\u001b[0;34m,\u001b[0m \u001b[0mchunksize\u001b[0m\u001b[0;34m)\u001b[0m\u001b[0;34m.\u001b[0m\u001b[0mget\u001b[0m\u001b[0;34m(\u001b[0m\u001b[0;34m)\u001b[0m\u001b[0;34m\u001b[0m\u001b[0m\n\u001b[0m\u001b[1;32m    252\u001b[0m \u001b[0;34m\u001b[0m\u001b[0m\n\u001b[1;32m    253\u001b[0m     \u001b[0;32mdef\u001b[0m \u001b[0mimap\u001b[0m\u001b[0;34m(\u001b[0m\u001b[0mself\u001b[0m\u001b[0;34m,\u001b[0m \u001b[0mfunc\u001b[0m\u001b[0;34m,\u001b[0m \u001b[0miterable\u001b[0m\u001b[0;34m,\u001b[0m \u001b[0mchunksize\u001b[0m\u001b[0;34m=\u001b[0m\u001b[0;36m1\u001b[0m\u001b[0;34m)\u001b[0m\u001b[0;34m:\u001b[0m\u001b[0;34m\u001b[0m\u001b[0m\n",
      "\u001b[0;32m/uufs/chpc.utah.edu/sys/installdir/python/2.7.11-c7/lib/python2.7/multiprocessing/pool.pyc\u001b[0m in \u001b[0;36mget\u001b[0;34m(self, timeout)\u001b[0m\n\u001b[1;32m    565\u001b[0m             \u001b[0;32mreturn\u001b[0m \u001b[0mself\u001b[0m\u001b[0;34m.\u001b[0m\u001b[0m_value\u001b[0m\u001b[0;34m\u001b[0m\u001b[0m\n\u001b[1;32m    566\u001b[0m         \u001b[0;32melse\u001b[0m\u001b[0;34m:\u001b[0m\u001b[0;34m\u001b[0m\u001b[0m\n\u001b[0;32m--> 567\u001b[0;31m             \u001b[0;32mraise\u001b[0m \u001b[0mself\u001b[0m\u001b[0;34m.\u001b[0m\u001b[0m_value\u001b[0m\u001b[0;34m\u001b[0m\u001b[0m\n\u001b[0m\u001b[1;32m    568\u001b[0m \u001b[0;34m\u001b[0m\u001b[0m\n\u001b[1;32m    569\u001b[0m     \u001b[0;32mdef\u001b[0m \u001b[0m_set\u001b[0m\u001b[0;34m(\u001b[0m\u001b[0mself\u001b[0m\u001b[0;34m,\u001b[0m \u001b[0mi\u001b[0m\u001b[0;34m,\u001b[0m \u001b[0mobj\u001b[0m\u001b[0;34m)\u001b[0m\u001b[0;34m:\u001b[0m\u001b[0;34m\u001b[0m\u001b[0m\n",
      "\u001b[0;31mTypeError\u001b[0m: 'float' object has no attribute '__getitem__'"
     ]
    }
   ],
   "source": [
    "# Date Rage of valid time\n",
    "sDATE = datetime(2017, 10, 8, 0)\n",
    "eDATE = datetime(2017, 10, 10, 0)\n",
    "hours = (eDATE-sDATE).days * 24 + (eDATE-sDATE).seconds /60/60\n",
    "\n",
    "# List of valid dates\n",
    "VALIDDATES = [sDATE+timedelta(hours=h) for h in range(hours+1)]\n",
    "\n",
    "# Get Data for Hovemoller\n",
    "data = {}\n",
    "for fxx in range(19):\n",
    "    # List of model initialized run\n",
    "    INITDATES = [V-timedelta(hours=fxx) for V in VALIDDATES]\n",
    "    timer = datetime.now()\n",
    "    p = multiprocessing.Pool(15)\n",
    "    result = p.map(get_hrrr_point_UV, INITDATES)\n",
    "    p.close\n",
    "    print 'finished %02d:' % fxx, datetime.now()-timer\n",
    "    \n",
    "    data[fxx] = result"
   ]
  },
  {
   "cell_type": "code",
   "execution_count": null,
   "metadata": {
    "collapsed": false
   },
   "outputs": [],
   "source": [
    "# Package HRRR hovemoller data for plotting\n",
    "num = len(VALIDDATES)\n",
    "dates = VALIDDATES\n",
    "hovmoller = {'fxx_2d':np.array([np.ones(num)*i for i in range(19)]),\n",
    "             'valid_2d':np.array([dates for i in range(19)]),\n",
    "             'fxx_1d+':range(20),\n",
    "             'valid_1d+':np.append(dates, dates[-1]+timedelta(hours=1)),\n",
    "             'DATA':np.array([data[f] for f in range(19)])}"
   ]
  },
  {
   "cell_type": "code",
   "execution_count": null,
   "metadata": {
    "collapsed": true
   },
   "outputs": [],
   "source": [
    "# Get mesowest observations\n",
    "a = get_mesowest_ts(stn, sDATE-timedelta(hours=1), eDATE+timedelta(hours=1))"
   ]
  },
  {
   "cell_type": "code",
   "execution_count": null,
   "metadata": {
    "collapsed": false
   },
   "outputs": [],
   "source": [
    "vmax = np.nanmax([np.nanmax(hovmoller['DATA']), np.nanmax(a['wind_speed'])])\n",
    "vmin = 0\n",
    "cmap = 'magma'\n",
    "\n",
    "fig = plt.figure(1)\n",
    "ax1 = plt.subplot2grid((8, 1), (0, 0), rowspan=7)\n",
    "ax2 = plt.subplot(8, 1, 8)\n",
    "\n",
    "hv = ax1.pcolormesh(hovmoller['valid_1d+'], hovmoller['fxx_1d+'], hovmoller['DATA'],\n",
    "                    cmap=cmap,\n",
    "                    vmax=vmax, vmin=vmin)\n",
    "mw = ax2.pcolormesh(a['DATETIME'], range(2), [a['wind_speed'], a['wind_speed']],\n",
    "                    cmap=cmap,\n",
    "                    vmax=vmax, vmin=vmin)\n",
    "\n",
    "ax1.axes.xaxis.set_ticklabels([])\n",
    "ax1.xaxis.set_major_locator(mdates.HourLocator(range(0, 24, 6)))\n",
    "ax1.xaxis.set_minor_locator(mdates.HourLocator(range(0, 24, 1)))\n",
    "ax2.xaxis.set_major_locator(mdates.HourLocator(range(0, 24, 6)))\n",
    "ax2.xaxis.set_minor_locator(mdates.HourLocator(range(0, 24, 1)))\n",
    "ax2.xaxis.set_major_formatter(formatter)\n",
    "\n",
    "ax1.set_ylim([0, 19])\n",
    "ax1.set_yticks(range(3,19,3))\n",
    "ax1.set_xlim([sDATE, eDATE])\n",
    "ax1.set_ylabel('Forecast Lead Time')\n",
    "\n",
    "ax2.set_yticks([])\n",
    "ax2.set_xlim([sDATE, eDATE])\n",
    "ax2.set_ylabel('Obs.', rotation=0, ha='right')\n",
    "\n",
    "ax1.set_title(stn + ' Wind Speed', fontweight='semibold')\n",
    "\n",
    "fig.subplots_adjust(hspace=0, right=0.8)\n",
    "cbar_ax = fig.add_axes([0.82, 0.15, 0.02, 0.7])\n",
    "cb = fig.colorbar(hv, cax=cbar_ax, ticks=range(0,25,5))\n",
    "cb.ax.set_ylabel(r'10 m Wind Speed (m s$\\mathregular{^{-1}}$)')\n",
    "\n",
    "plt.savefig('./figs/Fig_05a_%s_hovmoller' % stn)"
   ]
  },
  {
   "cell_type": "markdown",
   "metadata": {
    "collapsed": false
   },
   "source": [
    "##### testing"
   ]
  },
  {
   "cell_type": "code",
   "execution_count": null,
   "metadata": {
    "collapsed": false
   },
   "outputs": [],
   "source": [
    "# Testing\n",
    "for i in data:\n",
    "    if i==0:\n",
    "        plt.plot(VALIDDATES,data[i], label=i, linestyle='--')\n",
    "    else:\n",
    "        plt.plot(VALIDDATES,data[i], label=i)\n",
    "\n",
    "plt.legend()\n",
    "    \n",
    "plt.gca().xaxis.set_major_formatter(formatter)\n",
    "plt.gca().xaxis.set_major_locator(mdates.HourLocator(range(0, 24, 6)))\n",
    "plt.gca().xaxis.set_minor_locator(mdates.HourLocator(range(0, 24, 1)))\n",
    "\n",
    "plt.xlim([sDATE, eDATE])"
   ]
  },
  {
   "cell_type": "markdown",
   "metadata": {},
   "source": [
    "# HRRR Pollywog"
   ]
  },
  {
   "cell_type": "code",
   "execution_count": null,
   "metadata": {
    "collapsed": false
   },
   "outputs": [],
   "source": [
    "# Extract Pollywog from Hovmoller array\n",
    "hours_from_sDATE = range(0, 48, 3)\n",
    "pollywogs = {}\n",
    "for index in hours_from_sDATE:\n",
    "    validtime = []\n",
    "    pollywog = []\n",
    "    for f in range(19):\n",
    "        try:\n",
    "            pollywog.append(hovmoller['DATA'][f, f+index])\n",
    "            validtime.append(VALIDDATES[index]+timedelta(hours=f))\n",
    "        except:\n",
    "            # data out of range of what was retrieved\n",
    "            pass\n",
    "    pollywogs[index] = {'valid': validtime,\n",
    "                        'polly': pollywog}"
   ]
  },
  {
   "cell_type": "code",
   "execution_count": null,
   "metadata": {
    "collapsed": true
   },
   "outputs": [],
   "source": [
    "# Retrieve Percentiles\n",
    "def get_point_MP(inputs):\n",
    "    \"\"\"\n",
    "    Function for MultiProcessing:\n",
    "    Return the value from a point in the HDF5 file array\n",
    "    \"\"\"\n",
    "    FILE, STAT, ROW, COL = inputs\n",
    "    try:\n",
    "        with h5py.File(FILE, 'r') as f:\n",
    "            return f[STAT][x][y]\n",
    "    except:\n",
    "        #print \"COULD NOT GET\", FILE\n",
    "        return np.nan"
   ]
  },
  {
   "cell_type": "code",
   "execution_count": null,
   "metadata": {
    "collapsed": true
   },
   "outputs": [],
   "source": [
    "percentiles = [0, 1, 2, 3, 4, 5, 25, 50, 75, 95, 96, 97, 98, 99, 100]\n",
    "var = 'UVGRD:10 m'\n",
    "fxx = 0\n",
    "hours = range(24)\n",
    "\n",
    "variable = var.replace(':', '_').replace(' ', '_')\n",
    "DIR = '/uufs/chpc.utah.edu/common/home/horel-group2/blaylock/HRRR_OSG/hourly30/%s/' % (variable)\n",
    "\n",
    "HTS = OrderedDict()\n",
    "for i, pp in enumerate(percentiles):\n",
    "    # Multiprocessing :)\n",
    "    stat = 'p%02d' % pp\n",
    "    args = [[DIR+'OSG_HRRR_%s_m%02d_d%02d_h%02d_f00.h5' % \\\n",
    "            (variable, D.month, D.day, D.hour), stat, point[0][0], point[1][0]] for D in VALIDDATES]\n",
    "    timer = datetime.now()\n",
    "    num_proc = multiprocessing.cpu_count()\n",
    "    p = multiprocessing.Pool(num_proc)\n",
    "    HTS[stat] = np.array(p.map(get_point_MP, args))\n",
    "    p.close()"
   ]
  },
  {
   "cell_type": "code",
   "execution_count": null,
   "metadata": {
    "collapsed": false
   },
   "outputs": [],
   "source": [
    "fig = plt.figure()\n",
    "fig.subplots_adjust(hspace=0, right=0.8)\n",
    "# Background OSG Percentiles\n",
    "plt.fill_between(VALIDDATES,\n",
    "                 HTS['p95'], HTS['p05'],\n",
    "                 facecolor=[.8, .8, .8],\n",
    "                 linewidth=0,\n",
    "                 label='HRRR p05-p95')\n",
    "plt.fill_between(VALIDDATES,\n",
    "                 HTS['p75'], HTS['p25'],\n",
    "                 facecolor=[.5, .5, .5],\n",
    "                 linewidth=0,\n",
    "                 label='HRRR p25-p75')\n",
    "plt.plot(VALIDDATES,\n",
    "         HTS['p50'],\n",
    "         color=[.8, .8, .8],\n",
    "         lw=1,\n",
    "         label='HRRR p50',\n",
    "         zorder=1)\n",
    "for i in [1,2,3,4,96, 97, 98, 99]:\n",
    "    plt.plot(VALIDDATES,\n",
    "             HTS['p%02d' % i],\n",
    "             color=[.8, .8, .8],\n",
    "             lw=1,\n",
    "             linestyle='--', dashes=(5,3),\n",
    "             label='HRRR p%02d' % i,\n",
    "             zorder=1)\n",
    "\n",
    "\n",
    "# Cycle pollywogs through these colors.\n",
    "colors = ['red', 'darkblue', 'green', 'darkorchid', 'darkorange'] * 50\n",
    "color_count = 0\n",
    "for p in hours_from_sDATE:\n",
    "    plt.scatter(pollywogs[p]['valid'][0], pollywogs[p]['polly'][0],\n",
    "                s=60,\n",
    "                lw=0,\n",
    "                c=colors[color_count],\n",
    "                zorder=2)\n",
    "    plt.plot(pollywogs[p]['valid'], pollywogs[p]['polly'],\n",
    "             c=colors[color_count],\n",
    "             zorder=1)\n",
    "    color_count += 1\n",
    "\n",
    "plt.scatter(VALIDDATES, hovmoller['DATA'][0],\n",
    "            c=[.2, .2, .2],\n",
    "            s=25,\n",
    "            lw=0,\n",
    "            zorder=3)\n",
    "\n",
    "plt.plot(a['DATETIME'], a['wind_speed'],\n",
    "         color='k',\n",
    "         linestyle='--', dashes=(5, 3),\n",
    "         zorder=5)\n",
    "\n",
    "plt.gca().xaxis.set_major_formatter(formatter)\n",
    "plt.gca().xaxis.set_major_locator(mdates.HourLocator(range(0, 24, 6)))\n",
    "plt.gca().xaxis.set_minor_locator(mdates.HourLocator(range(0, 24, 1)))\n",
    "\n",
    "plt.xlim([sDATE, eDATE])\n",
    "plt.ylim([0,25])\n",
    "\n",
    "plt.ylabel(r'10 m Wind Speed (m s$\\mathregular{^{-1}}$)')\n",
    "\n",
    "#plt.title(stn + ' Wind Speed', fontweight='semibold')\n",
    "plt.savefig('./figs/Fig_05b_%s_timeseries_pollywog_percentiles_mesowest' % (stn))"
   ]
  },
  {
   "cell_type": "code",
   "execution_count": null,
   "metadata": {
    "collapsed": true
   },
   "outputs": [],
   "source": []
  },
  {
   "cell_type": "code",
   "execution_count": null,
   "metadata": {
    "collapsed": true
   },
   "outputs": [],
   "source": []
  }
 ],
 "metadata": {
  "kernelspec": {
   "display_name": "Python 2",
   "language": "python",
   "name": "python2"
  },
  "language_info": {
   "codemirror_mode": {
    "name": "ipython",
    "version": 2
   },
   "file_extension": ".py",
   "mimetype": "text/x-python",
   "name": "python",
   "nbconvert_exporter": "python",
   "pygments_lexer": "ipython2",
   "version": "2.7.11"
  }
 },
 "nbformat": 4,
 "nbformat_minor": 0
}
