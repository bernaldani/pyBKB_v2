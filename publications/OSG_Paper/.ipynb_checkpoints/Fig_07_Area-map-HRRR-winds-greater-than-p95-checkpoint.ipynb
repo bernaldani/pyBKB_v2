{
 "cells": [
  {
   "cell_type": "markdown",
   "metadata": {},
   "source": [
    "##### Figure 7\n",
    "# Map of 10-m HRRR winds surrounding HWKC1 that are greater than 90th and 99th percentile"
   ]
  },
  {
   "cell_type": "code",
   "execution_count": 1,
   "metadata": {
    "collapsed": true
   },
   "outputs": [],
   "source": [
    "%matplotlib inline\n",
    "import h5py\n",
    "import matplotlib.pyplot as plt\n",
    "import multiprocessing\n",
    "import numpy as np\n",
    "from mpl_toolkits.basemap import Basemap\n",
    "\n",
    "import sys\n",
    "sys.path.append('/uufs/chpc.utah.edu/common/home/u0553130/pyBKB_v2')\n",
    "from BB_downloads.HRRR_S3 import *\n",
    "from BB_wx_calcs.wind import wind_uv_to_spd\n",
    "from BB_basemap.draw_maps import draw_CONUS_HRRR_map\n",
    "from BB_MesoWest.MesoWest_STNinfo import get_MW_location_dict\n",
    "from BB_MesoWest.MesoWest_timeseries import get_mesowest_ts\n",
    "from BB_MesoWest.MesoWest_nearesttime import get_mesowest_nearesttime\n",
    "from BB_MesoWest.MesoWest_percentiles import get_mesowest_percentiles\n",
    "from BB_data.grid_manager import pluck_point_new\n",
    "from BB_wx_calcs.wind import wind_uv_to_spd"
   ]
  },
  {
   "cell_type": "code",
   "execution_count": 2,
   "metadata": {
    "collapsed": true
   },
   "outputs": [],
   "source": [
    "from matplotlib.dates import DateFormatter\n",
    "formatter = DateFormatter('%b')\n",
    "\n",
    "import matplotlib as mpl \n",
    "two_column = 5.5\n",
    "one_column = 3.2\n",
    "twothird_column = 6.8\n",
    "mpl.rcParams['figure.figsize'] = [twothird_column, twothird_column]\n",
    "mpl.rcParams['figure.titlesize'] = 12\n",
    "mpl.rcParams['figure.titleweight'] = 'bold'\n",
    "mpl.rcParams['xtick.labelsize'] = 8\n",
    "mpl.rcParams['ytick.labelsize'] = 8\n",
    "mpl.rcParams['axes.labelsize'] = 8\n",
    "mpl.rcParams['axes.titlesize'] = 10\n",
    "mpl.rcParams['lines.linewidth'] = 1.8\n",
    "mpl.rcParams['grid.linewidth'] = .25\n",
    "mpl.rcParams['figure.subplot.wspace'] = 0.03\n",
    "mpl.rcParams['figure.subplot.hspace'] = 0.05\n",
    "mpl.rcParams['legend.fontsize'] = 7\n",
    "mpl.rcParams['legend.framealpha'] = .75\n",
    "mpl.rcParams['legend.loc'] = 'best'\n",
    "mpl.rcParams['savefig.bbox'] = 'tight'\n",
    "    \n",
    "mpl.rcParams['savefig.dpi'] = 600    # 600 for print"
   ]
  },
  {
   "cell_type": "markdown",
   "metadata": {},
   "source": [
    "AMS Journal Figure size chart.  \n",
    "_Note: Figsize parameter may differ from what is actually generated_\n",
    "\n",
    "| One Colulmn | 2/3 Page   | Two Columns   | More than 2 columns  |\n",
    "|---|---|---|---|\n",
    "| 3.2   | 4.5  | 5.5  | 6.5  |\n"
   ]
  },
  {
   "cell_type": "markdown",
   "metadata": {},
   "source": [
    "---"
   ]
  },
  {
   "cell_type": "markdown",
   "metadata": {},
   "source": [
    "## Create Map Object"
   ]
  },
  {
   "cell_type": "code",
   "execution_count": 3,
   "metadata": {
    "collapsed": true
   },
   "outputs": [],
   "source": [
    "# Map Center Location, a MesoWest station ID\n",
    "stn = 'HWKC1'"
   ]
  },
  {
   "cell_type": "code",
   "execution_count": 4,
   "metadata": {
    "collapsed": false
   },
   "outputs": [],
   "source": [
    "# HRRR lat/lon grid\n",
    "DIR = '/uufs/chpc.utah.edu/common/home/horel-group2/blaylock/HRRR_OSG/'\n",
    "latlon_file = h5py.File(DIR+'OSG_HRRR_latlon.h5', 'r')\n",
    "lat = latlon_file['latitude'].value\n",
    "lon = latlon_file['longitude'].value"
   ]
  },
  {
   "cell_type": "code",
   "execution_count": 5,
   "metadata": {
    "collapsed": true
   },
   "outputs": [],
   "source": [
    "# Pluck point nearest MesoWest Station\n",
    "LD = get_MW_location_dict(stn)\n",
    "MWlat = LD[stn]['latitude']\n",
    "MWlon = LD[stn]['longitude']\n",
    "point = pluck_point_new(MWlat, MWlon, lat, lon)\n",
    "x = point[0][0]\n",
    "y = point[1][0]"
   ]
  },
  {
   "cell_type": "code",
   "execution_count": 6,
   "metadata": {
    "collapsed": false
   },
   "outputs": [],
   "source": [
    "# Create Map Object\n",
    "m = Basemap(projection='cyl', resolution='f', area_thresh=1000,\n",
    "            llcrnrlon=MWlon-.3,  urcrnrlon=MWlon+.3,\n",
    "            llcrnrlat=MWlat-.3, urcrnrlat=MWlat+.3)"
   ]
  },
  {
   "cell_type": "markdown",
   "metadata": {},
   "source": [
    "## Retrieve HRRR data"
   ]
  },
  {
   "cell_type": "code",
   "execution_count": 7,
   "metadata": {
    "collapsed": false
   },
   "outputs": [],
   "source": [
    "# valid Date of model forecast time\n",
    "DATE = datetime(2017, 10, 9, 6)\n",
    "\n",
    "# Forecast\n",
    "fxx = 6\n",
    "\n",
    "# model run date\n",
    "RUNDATE = DATE-timedelta(hours=fxx)\n",
    "\n",
    "# Retreive HRRR model analysis\n",
    "Hu = get_hrrr_variable(RUNDATE, 'UGRD:10 m', fxx=fxx, verbose=False)\n",
    "Hv = get_hrrr_variable(RUNDATE, 'VGRD:10 m', fxx=fxx, verbose=False)\n",
    "\n",
    "# Convert U and V to wind speed\n",
    "speed = wind_uv_to_spd(Hu['value'], Hv['value'])"
   ]
  },
  {
   "cell_type": "code",
   "execution_count": 8,
   "metadata": {
    "collapsed": false
   },
   "outputs": [
    {
     "name": "stdout",
     "output_type": "stream",
     "text": [
      "HRRR run\t:\t 2017-10-09 00:00:00\n",
      "HRRR valid\t:\t 2017-10-09 06:00:00\n",
      "\n"
     ]
    }
   ],
   "source": [
    "# Print some info to confirm the data we are retrieving\n",
    "print 'HRRR run\\t:\\t %s' % Hu['anlys']\n",
    "print 'HRRR valid\\t:\\t %s' % Hu['valid']\n",
    "print ''"
   ]
  },
  {
   "cell_type": "markdown",
   "metadata": {},
   "source": [
    "## Retrieve HRRR Percentile Grids"
   ]
  },
  {
   "cell_type": "code",
   "execution_count": 9,
   "metadata": {
    "collapsed": true
   },
   "outputs": [],
   "source": [
    "def get_percentile(DATE, var, p=95):\n",
    "    '''\n",
    "    DATE - a datetime object\n",
    "    var  - the variable you want to retreive (ex. UVGRD:10, TMP:2 m, DPT:2 m, UVGRD:80 m)\n",
    "    p    - the percentile you want to retrieve from the data\n",
    "    \n",
    "    returns a grid for the HRRR domain of the requested percentile and data\n",
    "    '''\n",
    "    variable = var.replace(':', '_').replace(' ', '_')\n",
    "    FILE = 'hourly30/%s/OSG_HRRR_%s_m%02d_d%02d_h%02d_f00.h5' % ((variable, variable, DATE.month, DATE.day, DATE.hour))\n",
    "    \n",
    "    with h5py.File(DIR+FILE, 'r') as f:\n",
    "        PP = f[\"p%02d\" % p][:]\n",
    "    \n",
    "    # Convert Units\n",
    "    if var == 'TMP:2 m' or var == 'DPT:2 m':\n",
    "        PP -= 273.15\n",
    "    \n",
    "    return PP"
   ]
  },
  {
   "cell_type": "code",
   "execution_count": 11,
   "metadata": {
    "collapsed": false
   },
   "outputs": [],
   "source": [
    "var = 'UVGRD:10 m'\n",
    "p95 = get_percentile(DATE, var, p=95)"
   ]
  },
  {
   "cell_type": "markdown",
   "metadata": {},
   "source": [
    "## Create Figure"
   ]
  },
  {
   "cell_type": "code",
   "execution_count": null,
   "metadata": {
    "collapsed": false
   },
   "outputs": [],
   "source": [
    "add_cities = True\n",
    "add_fireperim = True\n",
    "\n",
    "# Add basemap background\n",
    "m.arcgisimage(service='World_Shaded_Relief', dpi=1000)\n",
    "\n",
    "\n",
    "# Plot contour where speed is greater than the 95th percentile\n",
    "m.contourf(lon, lat, speed-p95,\n",
    "                    levels=[0,100],\n",
    "                    colors=('peru'),\n",
    "                    alpha=.4,\n",
    "                    zorder=1,\n",
    "                    latlon=True)\n",
    "\n",
    "\n",
    "# Wind barbs\n",
    "# Cut box for plotting barbs\n",
    "bfr=15\n",
    "thin=1\n",
    "Cgridlat = lat[x-bfr:x+bfr, y-bfr:y+bfr]\n",
    "Cgridlon = lon[x-bfr:x+bfr, y-bfr:y+bfr]\n",
    "CHu = Hu['value'][x-bfr:x+bfr, y-bfr:y+bfr]\n",
    "CHv = Hv['value'][x-bfr:x+bfr, y-bfr:y+bfr]\n",
    "m.barbs(Cgridlon[::thin,::thin], Cgridlat[::thin,::thin],\n",
    "        CHu[::thin,::thin], CHv[::thin,::thin],\n",
    "        zorder=2, length=4.5, linewidth=.65,\n",
    "        barb_increments={'half':2.5, 'full':5,'flag':25},\n",
    "        latlon=True)\n",
    "\n",
    "# Point of MesoWest station (map center)\n",
    "m.scatter(MWlon, MWlat, latlon=True, c='w', s=200, zorder=3)\n",
    "\n",
    "# Add county lines\n",
    "m.drawcounties(linewidth=.25)\n",
    "\n",
    "#plt.title(DATE.strftime('%Y-%b-%d %H:%M UTC'), loc='left')\n",
    "#plt.title(stn, fontweight='bold', loc='right')\n",
    "\n",
    "if add_cities:\n",
    "    cities = {'Geyserville': (38.700078, -122.883772),\n",
    "              'Santa Rosa': (38.452214, -122.717661),\n",
    "              'Healdsburg': (38.606396, -122.869722),\n",
    "              'Cloverdale': (38.794959, -123.006450),\n",
    "              'Middletown': (38.750411, -122.615162),\n",
    "              'Clearlake': (38.950727, -122.620816),\n",
    "              'Calistoga': (38.580932, -122.580472)}\n",
    "\n",
    "    import matplotlib.patheffects as path_effects\n",
    "    for c in cities:\n",
    "        text = plt.text(cities[c][1], cities[c][0], c,\n",
    "                        color='white', ha='center', va='center')\n",
    "        text.set_path_effects([path_effects.Stroke(linewidth=2, foreground='black'),\n",
    "                               path_effects.Normal()])\n",
    "\n",
    "\n",
    "if add_fireperim:\n",
    "    pocket = '/uufs/chpc.utah.edu/common/home/u0553130/oper/HRRR_fires/fire_shapefiles/2017_pocket/ca_pocket_20171025_2130_dd83'\n",
    "    m.readshapefile(pocket, 'pocket', drawbounds=False)\n",
    "    \n",
    "    tubbs = '/uufs/chpc.utah.edu/common/home/u0553130/oper/HRRR_fires/fire_shapefiles/2017_tubbs/ca_tubbs_20171025_2130_dd83'\n",
    "    m.readshapefile(tubbs, 'tubbs', drawbounds=False)\n",
    "    \n",
    "    nuns = '/uufs/chpc.utah.edu/common/home/u0553130/oper/HRRR_fires/fire_shapefiles/2017_nuns/ca_nuns_20171025_2130_dd83'\n",
    "    m.readshapefile(nuns, 'nuns', drawbounds=False)\n",
    "\n",
    "    for info, shape in zip(m.pocket, m.pocket):\n",
    "        fire_x, fir_y = zip(*shape) \n",
    "        m.plot(fire_x, fir_y, marker=None, color='darkred')\n",
    "    for info, shape in zip(m.tubbs, m.tubbs):\n",
    "        fire_x, fir_y = zip(*shape) \n",
    "        m.plot(fire_x, fir_y, marker=None, color='darkred')\n",
    "    for info, shape in zip(m.nuns, m.nuns):\n",
    "        fire_x, fir_y = zip(*shape) \n",
    "        m.plot(fire_x, fir_y, marker=None, color='darkred')\n",
    "   \n",
    "\n",
    "plt.savefig('./figs/Fig_06_Area-map-HRRR-winds_greater_than_p95p100')"
   ]
  },
  {
   "cell_type": "markdown",
   "metadata": {
    "collapsed": false
   },
   "source": [
    "## Thumbnail image of larger area for inset"
   ]
  },
  {
   "cell_type": "code",
   "execution_count": 30,
   "metadata": {
    "collapsed": true
   },
   "outputs": [],
   "source": [
    "# Create Map Object\n",
    "M = Basemap(projection='cyl', resolution='f', area_thresh=1000,\n",
    "            llcrnrlon=MWlon-2.3,  urcrnrlon=MWlon+4,\n",
    "            llcrnrlat=MWlat-5.3, urcrnrlat=MWlat+4)"
   ]
  },
  {
   "cell_type": "code",
   "execution_count": 118,
   "metadata": {
    "collapsed": false
   },
   "outputs": [
    {
     "data": {
      "image/png": "[encoded data removed]",
      "text/plain": [
       "<matplotlib.figure.Figure at 0x2aeb67812290>"
      ]
     },
     "metadata": {},
     "output_type": "display_data"
    }
   ],
   "source": [
    "# Thumbnail for inset\n",
    "plt.figure(figsize=[2,1.8])\n",
    "M.drawstates(linewidth=.5)\n",
    "M.drawcoastlines(linewidth=.5)\n",
    "M.arcgisimage(service='World_Shaded_Relief', dpi=1000)\n",
    "\n",
    "M.scatter(MWlon, MWlat, latlon=True, c='w', s=100, zorder=500)\n",
    "plt.savefig('./figs/california', transparent=True)"
   ]
  }
 ],
 "metadata": {
  "kernelspec": {
   "display_name": "Python 2",
   "language": "python",
   "name": "python2"
  },
  "language_info": {
   "codemirror_mode": {
    "name": "ipython",
    "version": 2
   },
   "file_extension": ".py",
   "mimetype": "text/x-python",
   "name": "python",
   "nbconvert_exporter": "python",
   "pygments_lexer": "ipython2",
   "version": "2.7.11"
  }
 },
 "nbformat": 4,
 "nbformat_minor": 0
}
