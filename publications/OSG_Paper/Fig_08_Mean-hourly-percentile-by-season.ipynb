{
 "cells": [
  {
   "cell_type": "markdown",
   "metadata": {},
   "source": [
    "##### Figure 8\n",
    "# Mean hourly Percentiles by Season"
   ]
  },
  {
   "cell_type": "code",
   "execution_count": 1,
   "metadata": {
    "collapsed": true
   },
   "outputs": [],
   "source": [
    "%matplotlib inline\n",
    "import h5py\n",
    "import matplotlib.pyplot as plt\n",
    "import multiprocessing\n",
    "import numpy as np\n",
    "from mpl_toolkits.basemap import Basemap\n",
    "\n",
    "import sys\n",
    "sys.path.append('/uufs/chpc.utah.edu/common/home/u0553130/pyBKB_v2')\n",
    "from BB_downloads.HRRR_S3 import *\n",
    "from BB_wx_calcs.wind import wind_uv_to_spd\n",
    "from BB_basemap.draw_maps import draw_CONUS_HRRR_map\n",
    "from BB_MesoWest.MesoWest_STNinfo import get_MW_location_dict\n",
    "from BB_MesoWest.MesoWest_timeseries import get_mesowest_ts\n",
    "from BB_MesoWest.MesoWest_nearesttime import get_mesowest_nearesttime\n",
    "from BB_MesoWest.MesoWest_percentiles import get_mesowest_percentiles\n",
    "from BB_data.grid_manager import pluck_point_new\n",
    "from BB_wx_calcs.wind import wind_uv_to_spd"
   ]
  },
  {
   "cell_type": "code",
   "execution_count": 2,
   "metadata": {
    "collapsed": true
   },
   "outputs": [],
   "source": [
    "from matplotlib.dates import DateFormatter\n",
    "formatter = DateFormatter('%b')\n",
    "\n",
    "import matplotlib as mpl \n",
    "two_column = 5.5\n",
    "one_column = 3.2\n",
    "twothird_column = 6.8\n",
    "mpl.rcParams['figure.figsize'] = [one_column, 2.8]\n",
    "mpl.rcParams['figure.titlesize'] = 12\n",
    "mpl.rcParams['figure.titleweight'] = 'bold'\n",
    "mpl.rcParams['xtick.labelsize'] = 8\n",
    "mpl.rcParams['ytick.labelsize'] = 8\n",
    "mpl.rcParams['axes.labelsize'] = 8\n",
    "mpl.rcParams['axes.titlesize'] = 10\n",
    "mpl.rcParams['lines.linewidth'] = 1.8\n",
    "mpl.rcParams['grid.linewidth'] = .25\n",
    "mpl.rcParams['figure.subplot.wspace'] = 0.03\n",
    "mpl.rcParams['figure.subplot.hspace'] = 0.00\n",
    "mpl.rcParams['legend.fontsize'] = 7\n",
    "mpl.rcParams['legend.framealpha'] = .75\n",
    "mpl.rcParams['legend.loc'] = 'best'\n",
    "mpl.rcParams['savefig.bbox'] = 'tight'\n",
    "    \n",
    "mpl.rcParams['savefig.dpi'] = 1000    # 600 for print"
   ]
  },
  {
   "cell_type": "markdown",
   "metadata": {},
   "source": [
    "| One Colulmn | 2/3 Page   | Two Columns   | More than 2 columns  |\n",
    "|---|---|---|---|\n",
    "| 3.2   | 4.5  | 5.5  | 6.5  |"
   ]
  },
  {
   "cell_type": "code",
   "execution_count": 3,
   "metadata": {
    "collapsed": true
   },
   "outputs": [],
   "source": [
    "# Load Lat/Lon Grid\n",
    "DIR = '/uufs/chpc.utah.edu/common/home/horel-group2/blaylock/HRRR_OSG/'\n",
    "latlon_file = h5py.File(DIR+'OSG_HRRR_latlon.h5', 'r')\n",
    "lat = latlon_file['latitude'].value\n",
    "lon = latlon_file['longitude'].value"
   ]
  },
  {
   "cell_type": "code",
   "execution_count": 4,
   "metadata": {
    "collapsed": true
   },
   "outputs": [],
   "source": [
    "stn = 'HWKC1'\n",
    "\n",
    "var = 'UVGRD:10 m'\n",
    "\n",
    "# MesoWest Station Info\n",
    "LD = get_MW_location_dict(stn)\n",
    "MWlat = LD[stn]['latitude']\n",
    "MWlon = LD[stn]['longitude']"
   ]
  },
  {
   "cell_type": "code",
   "execution_count": 5,
   "metadata": {
    "collapsed": false
   },
   "outputs": [
    {
     "name": "stdout",
     "output_type": "stream",
     "text": [
      "38.73599 38.735086 and -122.83093 -122.837058\n"
     ]
    }
   ],
   "source": [
    "# Pluck point\n",
    "point = pluck_point_new(MWlat, MWlon, lat, lon)\n",
    "x = point[0][0]\n",
    "y = point[1][0]\n",
    "\n",
    "print lat[x,y], MWlat, 'and',lon[x,y], MWlon"
   ]
  },
  {
   "cell_type": "code",
   "execution_count": 72,
   "metadata": {
    "collapsed": true
   },
   "outputs": [],
   "source": [
    "if var == 'TMP:2 m':\n",
    "    ylabel = '2 m Temperature (C)'\n",
    "elif var == 'DPT:2 m':\n",
    "    ylabel = '2 m Dew Point (C)'\n",
    "elif var == 'UVGRD:10 m':\n",
    "    ylabel = r'10 m Wind Speed (m s$\\mathregular{^{-1}}$)'\n",
    "    MWvar = 'wind_speed'\n",
    "elif var == 'UVGRD:80 m':\n",
    "    ylabel = r'80 m Wind Speed (m s$\\mathregular{^{-1}}$)'\n",
    "elif var == 'REFC:entire':\n",
    "    ylabel = 'Simulated Composite Reflecivity (dBZ)'\n",
    "elif var == 'HGT:500':\n",
    "    ylabel = 'Geopotential Height (m)'"
   ]
  },
  {
   "cell_type": "markdown",
   "metadata": {},
   "source": [
    "## Get OSG Percentiles for a Point"
   ]
  },
  {
   "cell_type": "code",
   "execution_count": 54,
   "metadata": {
    "collapsed": false
   },
   "outputs": [],
   "source": [
    "variable = var.replace(':', '_').replace(' ', '_')\n",
    "DIR = '/uufs/chpc.utah.edu/common/home/horel-group2/blaylock/HRRR_OSG/hourly30/%s/' % (variable)\n",
    "\n",
    "percentiles = [0,1,2,3,4,5,10,25,33,50,66,75,90,95,96,97,98,99,100]\n",
    "\n",
    "def seasonal_percentile(p):\n",
    "    months = {'DJF': [],\n",
    "              'MAM': [],\n",
    "              'JJA': [],\n",
    "              'SON': []}\n",
    "\n",
    "    for m in months:\n",
    "        for hour in range(24):\n",
    "            three_values = []\n",
    "            if m == 'DJF':\n",
    "                month_num = [12,1,2]\n",
    "            elif m == 'MAM':\n",
    "                month_num = [3,4,5]\n",
    "            elif m == 'JJA':\n",
    "                month_num = [6,7,8]\n",
    "            elif m == 'SON':\n",
    "                month_num = [9,10,11]\n",
    "\n",
    "            for mn in month_num:\n",
    "                FILE = 'OSG_HRRR_%s_m%02d_d%02d_h%02d_f00.h5' % ((variable, mn, 15, hour))\n",
    "                with h5py.File(DIR+FILE, 'r') as ff:\n",
    "                    pp = ff['p%02d' % p][x][y]\n",
    "                    three_values.append(pp)\n",
    "            months[m].append(np.mean(three_values))\n",
    "    \n",
    "    return months"
   ]
  },
  {
   "cell_type": "markdown",
   "metadata": {
    "collapsed": false
   },
   "source": [
    "## Get MesoWest Percentils for a Station"
   ]
  },
  {
   "cell_type": "code",
   "execution_count": 86,
   "metadata": {
    "collapsed": true
   },
   "outputs": [],
   "source": [
    "def seasonal_percentile_MW(p):\n",
    "    months = {'DJF': [],\n",
    "              'MAM': [],\n",
    "              'JJA': [],\n",
    "              'SON': []}\n",
    "\n",
    "    for m in months:\n",
    "        for hour in range(24):\n",
    "            three_values = []\n",
    "            if m == 'DJF':\n",
    "                month_num = [12,1,2]\n",
    "            elif m == 'MAM':\n",
    "                month_num = [3,4,5]\n",
    "            elif m == 'JJA':\n",
    "                month_num = [6,7,8]\n",
    "            elif m == 'SON':\n",
    "                month_num = [9,10,11]\n",
    "\n",
    "            for mn in month_num:\n",
    "                start = '%02d%02d%02d' % (mn, 15, hour)\n",
    "                end = start\n",
    "                MW_per = get_mesowest_percentiles(stn, variable=MWvar, start=start, end=end, percentiles=[p], v=False)\n",
    "                three_values.append(MW_per['p%02d' % p])\n",
    "            months[m].append(np.mean(three_values))\n",
    "    \n",
    "    return months"
   ]
  },
  {
   "cell_type": "markdown",
   "metadata": {},
   "source": [
    "-----"
   ]
  },
  {
   "cell_type": "code",
   "execution_count": null,
   "metadata": {
    "collapsed": true
   },
   "outputs": [],
   "source": [
    "p = 95\n",
    "months_p95 = seasonal_percentile(p)"
   ]
  },
  {
   "cell_type": "code",
   "execution_count": 94,
   "metadata": {
    "collapsed": false
   },
   "outputs": [
    {
     "data": {
      "image/png": "[encoded data removed]",
      "text/plain": [
       "<matplotlib.figure.Figure at 0x2b8d8dc06550>"
      ]
     },
     "metadata": {},
     "output_type": "display_data"
    }
   ],
   "source": [
    "colors = ['darkblue', 'crimson', 'green', 'darkorange']\n",
    "\n",
    "for i, month in enumerate(['DJF', 'MAM', 'JJA', 'SON']):\n",
    "    plt.plot(range(24), months_p95[month],\n",
    "             color=colors[i],\n",
    "             label=month)\n",
    "plt.legend()\n",
    "\n",
    "plt.xlim([0,23])\n",
    "plt.xticks(range(0,23,3))\n",
    "plt.ylim([3,10])\n",
    "\n",
    "plt.xlabel('Hour of Day (UTC)')\n",
    "plt.ylabel(r'HRRR 10 m Wind Speed (m s$\\mathregular{^{-1}}$)')\n",
    "\n",
    "plt.title(stn, loc='right', fontweight='semibold')\n",
    "plt.title('Mean %02dth percentile' % p, loc='left')\n",
    "\n",
    "legend = plt.gca().legend(frameon=True, framealpha=.8)\n",
    "legend.get_frame().set_linewidth(0)\n",
    "\n",
    "plt.savefig('./figs/Fig_08a_%s_mean_%02dth_wind_by_season' % (stn,p))"
   ]
  },
  {
   "cell_type": "markdown",
   "metadata": {},
   "source": [
    "## MesoWest Observations"
   ]
  },
  {
   "cell_type": "code",
   "execution_count": 87,
   "metadata": {
    "collapsed": false
   },
   "outputs": [],
   "source": [
    "aa = seasonal_percentile_MW(95)"
   ]
  },
  {
   "cell_type": "code",
   "execution_count": 96,
   "metadata": {
    "collapsed": false
   },
   "outputs": [
    {
     "data": {
      "image/png": "[encoded data removed]",
      "text/plain": [
       "<matplotlib.figure.Figure at 0x2b8d8df4cb90>"
      ]
     },
     "metadata": {},
     "output_type": "display_data"
    }
   ],
   "source": [
    "colors = ['darkblue', 'crimson', 'green', 'darkorange']\n",
    "\n",
    "for i, month in enumerate(['DJF', 'MAM', 'JJA', 'SON']):\n",
    "    plt.plot(range(24), aa[month],\n",
    "             color=colors[i],\n",
    "             label=month)\n",
    "plt.legend()\n",
    "\n",
    "plt.xlim([0,23])\n",
    "plt.xticks(range(0,23,3))\n",
    "plt.ylim([3,10])\n",
    "\n",
    "plt.xlabel('Hour of Day (UTC)')\n",
    "plt.ylabel(r'Observed Wind Speed (m s$\\mathregular{^{-1}}$)')\n",
    "\n",
    "plt.title(stn, loc='right', fontweight='semibold')\n",
    "plt.title('Mean %02dth percentile' % p, loc='left')\n",
    "\n",
    "legend = plt.gca().legend(frameon=True, framealpha=.8)\n",
    "legend.get_frame().set_linewidth(0)\n",
    "\n",
    "plt.savefig('./figs/Fig_08b_%s_mean_%02dth_wind_by_season' % (stn,p))"
   ]
  },
  {
   "cell_type": "code",
   "execution_count": null,
   "metadata": {
    "collapsed": true
   },
   "outputs": [],
   "source": []
  }
 ],
 "metadata": {
  "kernelspec": {
   "display_name": "Python 2",
   "language": "python",
   "name": "python2"
  },
  "language_info": {
   "codemirror_mode": {
    "name": "ipython",
    "version": 2
   },
   "file_extension": ".py",
   "mimetype": "text/x-python",
   "name": "python",
   "nbconvert_exporter": "python",
   "pygments_lexer": "ipython2",
   "version": "2.7.11"
  }
 },
 "nbformat": 4,
 "nbformat_minor": 0
}
