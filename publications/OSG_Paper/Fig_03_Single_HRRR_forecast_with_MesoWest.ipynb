{
 "cells": [
  {
   "cell_type": "markdown",
   "metadata": {},
   "source": [
    "##### Figure 3\n",
    "\n",
    "# HRRR forecast (single) with MesoWest Observations"
   ]
  },
  {
   "cell_type": "code",
   "execution_count": 1,
   "metadata": {
    "collapsed": true
   },
   "outputs": [],
   "source": [
    "%matplotlib inline\n",
    "import h5py\n",
    "import matplotlib.pyplot as plt\n",
    "import matplotlib.dates as mdates\n",
    "import multiprocessing\n",
    "import numpy as np\n",
    "\n",
    "import sys\n",
    "sys.path.append('/uufs/chpc.utah.edu/common/home/u0553130/pyBKB_v2')\n",
    "from BB_downloads.HRRR_S3 import *\n",
    "from BB_wx_calcs.wind import wind_uv_to_spd\n",
    "from BB_basemap.draw_maps import draw_CONUS_HRRR_map\n",
    "from BB_MesoWest.MesoWest_STNinfo import get_MW_location_dict\n",
    "from BB_MesoWest.MesoWest_timeseries import get_mesowest_ts\n",
    "from BB_MesoWest.MesoWest_nearesttime import get_mesowest_nearesttime\n",
    "from BB_MesoWest.MesoWest_percentiles import get_mesowest_percentiles\n",
    "from BB_data.grid_manager import pluck_point_new\n",
    "from BB_wx_calcs.wind import wind_uv_to_spd, wind_spddir_to_uv"
   ]
  },
  {
   "cell_type": "code",
   "execution_count": 2,
   "metadata": {
    "collapsed": true
   },
   "outputs": [],
   "source": [
    "from matplotlib.dates import DateFormatter\n",
    "formatter = DateFormatter('%b-%d\\n%H:%M')\n",
    "\n",
    "import matplotlib as mpl \n",
    "two_column = 5.5\n",
    "one_column = 3.2\n",
    "twothird_column = 6.8\n",
    "mpl.rcParams['figure.figsize'] = [two_column, 4]\n",
    "mpl.rcParams['figure.titlesize'] = 12\n",
    "mpl.rcParams['figure.titleweight'] = 'bold'\n",
    "mpl.rcParams['xtick.labelsize'] = 8\n",
    "mpl.rcParams['ytick.labelsize'] = 8\n",
    "mpl.rcParams['axes.labelsize'] = 8\n",
    "mpl.rcParams['axes.titlesize'] = 10\n",
    "mpl.rcParams['lines.linewidth'] = 1.8\n",
    "mpl.rcParams['grid.linewidth'] = .2\n",
    "mpl.rcParams['grid.alpha'] = .8\n",
    "mpl.rcParams['figure.subplot.wspace'] = 0.03\n",
    "mpl.rcParams['figure.subplot.hspace'] = 0.05\n",
    "mpl.rcParams['legend.fontsize'] = 7\n",
    "mpl.rcParams['legend.framealpha'] = .75\n",
    "mpl.rcParams['legend.loc'] = 'best'\n",
    "mpl.rcParams['savefig.bbox'] = 'tight'\n",
    "    \n",
    "mpl.rcParams['savefig.dpi'] = 600    # 600 for print"
   ]
  },
  {
   "cell_type": "markdown",
   "metadata": {},
   "source": [
    "AMS Journal Figure size chart.  \n",
    "_Note: Figsize parameter may differ from what is actually generated_\n",
    "\n",
    "| One Colulmn | 2/3 Page   | Two Columns   | More than 2 columns  |\n",
    "|---|---|---|---|\n",
    "| 3.2   | 4.5  | 5.5  | 6.5  |\n"
   ]
  },
  {
   "cell_type": "markdown",
   "metadata": {},
   "source": [
    "## Initial Setup\n",
    "Station ID, lat/lon grid, pluck HRRR point"
   ]
  },
  {
   "cell_type": "code",
   "execution_count": 3,
   "metadata": {
    "collapsed": true
   },
   "outputs": [],
   "source": [
    "# Get Lat/Lon Grid\n",
    "DIR = '/uufs/chpc.utah.edu/common/home/horel-group2/blaylock/HRRR_OSG/'\n",
    "latlon_file = h5py.File(DIR+'OSG_HRRR_latlon.h5', 'r')\n",
    "lat = latlon_file['latitude'].value\n",
    "lon = latlon_file['longitude'].value"
   ]
  },
  {
   "cell_type": "code",
   "execution_count": 4,
   "metadata": {
    "collapsed": true
   },
   "outputs": [],
   "source": [
    "stn = 'HWKC1'\n",
    "\n",
    "# Pluck point nearest MesoWest Station\n",
    "LD = get_MW_location_dict(stn)\n",
    "MWlat = LD[stn]['latitude']\n",
    "MWlon = LD[stn]['longitude']\n",
    "point = pluck_point_new(MWlat, MWlon, lat, lon)\n",
    "x = point[0][0]\n",
    "y = point[1][0]"
   ]
  },
  {
   "cell_type": "markdown",
   "metadata": {
    "collapsed": true
   },
   "source": [
    "## Retrieve HRRR forecasts data"
   ]
  },
  {
   "cell_type": "code",
   "execution_count": 5,
   "metadata": {
    "collapsed": false
   },
   "outputs": [],
   "source": [
    "def get_forecasts(fxx):\n",
    "    H = get_hrrr_variable(DATE, var, fxx=fxx, verbose=False)\n",
    "    \n",
    "    point_value = H['value'][x][y]\n",
    "    point_valid = H['valid']\n",
    "    \n",
    "    # Convert Units\n",
    "    if var in ['TMP:2 m', 'DPT:2 m']:\n",
    "        point_value -= 273.15\n",
    "    \n",
    "    return point_valid, point_value\n",
    "    "
   ]
  },
  {
   "cell_type": "code",
   "execution_count": 6,
   "metadata": {
    "collapsed": false
   },
   "outputs": [
    {
     "name": "stdout",
     "output_type": "stream",
     "text": [
      "Finished 01/06 in 2 seconds \t TMP:2 m\n",
      "Finished 02/06 in 2 seconds \t RH:2 m\n",
      "Finished 03/06 in 2 seconds \t UGRD:10 m\n",
      "Finished 04/06 in 2 seconds \t VGRD:10 m\n",
      "Finished 05/06 in 2 seconds \t UGRD:80 m\n",
      "Finished 06/06 in 2 seconds \t VGRD:80 m\n"
     ]
    }
   ],
   "source": [
    "# Model run time\n",
    "DATE = datetime(2017, 10, 9, 0)\n",
    "\n",
    "# Get HRRR Forecast. \n",
    "#Pluck point from each forecasted grid using multiprocessing for faster retrieval.\n",
    "num_proc = multiprocessing.cpu_count()\n",
    "\n",
    "# Store values in a \"pollywog\"\n",
    "variables = ['TMP:2 m', 'RH:2 m', 'UGRD:10 m', 'VGRD:10 m', 'UGRD:80 m', 'VGRD:80 m']\n",
    "pollywogs = {}\n",
    "for i, var in enumerate(variables):\n",
    "    timer = datetime.now()\n",
    "    p = multiprocessing.Pool(num_proc)\n",
    "    pollywogs[var] = np.array(p.map(get_forecasts, range(19)))\n",
    "    p.close()\n",
    "    print 'Finished %02d/%02d in %s seconds \\t %s' % (i+1, len(variables), (datetime.now()-timer).seconds, var)"
   ]
  },
  {
   "cell_type": "markdown",
   "metadata": {},
   "source": [
    "## Retrieve Observational data from MesoWest"
   ]
  },
  {
   "cell_type": "code",
   "execution_count": 7,
   "metadata": {
    "collapsed": true
   },
   "outputs": [],
   "source": [
    "# Get Mesowest Observed Value\n",
    "a = get_mesowest_ts(stn, DATE-timedelta(hours=1), DATE+timedelta(hours=18))\n",
    "\n",
    "# Use wind speed and direction to derive U and V values\n",
    "MWu, MWv = wind_spddir_to_uv(a['wind_speed'], a['wind_direction'])"
   ]
  },
  {
   "cell_type": "markdown",
   "metadata": {},
   "source": [
    "## Create Figure"
   ]
  },
  {
   "cell_type": "code",
   "execution_count": 11,
   "metadata": {
    "collapsed": false
   },
   "outputs": [
    {
     "data": {
      "image/png": "[encoded data removed]",
      "text/plain": [
       "<matplotlib.figure.Figure at 0x2b9b1ab92210>"
      ]
     },
     "metadata": {},
     "output_type": "display_data"
    }
   ],
   "source": [
    "fig, (ax1, ax2) = plt.subplots(2, 1, sharex=True)\n",
    "\n",
    "# Temperature\n",
    "ax1.plot(pollywogs['TMP:2 m'][:,0], pollywogs['TMP:2 m'][:,1], color='red')\n",
    "ax1.plot(a['DATETIME'], a['air_temp'], linestyle='--', dashes=(5, 3), color='k')\n",
    "ax1.set_ylabel('2 m Temperature (C)')\n",
    "#ax1.xaxis.grid()\n",
    "ax1.set_ylim([15,25])\n",
    "ax1.set_yticks(range(15,26,2))\n",
    "\n",
    "# Relative Humidity\n",
    "ax1b = ax1.twinx()\n",
    "ax1b.plot(pollywogs['RH:2 m'][:,0], pollywogs['RH:2 m'][:,1], color='green')\n",
    "ax1b.set_ylim([0,100])\n",
    "ax1b.set_ylabel('2 m Relative Humidity (%)')\n",
    "ax1b.plot(a['DATETIME'], a['relative_humidity'], linestyle='--', dashes=(5, 3), color='k')\n",
    "\n",
    "# Wind Speed\n",
    "spd10 = wind_uv_to_spd(pollywogs['UGRD:10 m'][:,1], pollywogs['VGRD:10 m'][:,1])\n",
    "spd80 = wind_uv_to_spd(pollywogs['UGRD:80 m'][:,1], pollywogs['VGRD:80 m'][:,1])\n",
    "\n",
    "ax2.plot(pollywogs['UGRD:80 m'][:,0], spd80, color='saddlebrown', label='80 m')\n",
    "ax2.plot(pollywogs['UGRD:10 m'][:,0], spd10, color='darkorange', label='10 m')\n",
    "ax2.plot(a['DATETIME'], a['wind_speed'], linestyle='--', dashes=(5, 3), color='k')\n",
    "\n",
    "# 10 m Wind Barbs\n",
    "# Barbs can not take a datetime object, so find the date indexes\n",
    "idx = mpl.dates.date2num(pollywogs['UGRD:10 m'][:,0])\n",
    "for i, d in enumerate(idx):\n",
    "    ax2.barbs(d, spd10[i], pollywogs['UGRD:10 m'][:,1][i], pollywogs['VGRD:10 m'][:,1][i],\n",
    "              length=6.5, linewidth=.65, zorder=10,\n",
    "              barb_increments=dict(half=2.5, full=5, flag=25), color=[.15,.15,.15])\n",
    "\n",
    "# 80 m Wind Barbs\n",
    "# Barbs can not take a datetime object, so find the date indexes\n",
    "idx = mpl.dates.date2num(pollywogs['UGRD:80 m'][:,0])\n",
    "for i, d in enumerate(idx):\n",
    "    ax2.barbs(d, spd80[i], pollywogs['UGRD:80 m'][:,1][i], pollywogs['VGRD:80 m'][:,1][i],\n",
    "              length=6.5, linewidth=.65, zorder=10,\n",
    "              barb_increments=dict(half=2.5, full=5, flag=25), color=[.15,.15,.15])\n",
    "\n",
    "# MesoWest Wind Barbs\n",
    "# Barbs can not take a datetime object, so find the date indexes\n",
    "idx = mpl.dates.date2num(a['DATETIME'])\n",
    "for i, d in enumerate(idx):\n",
    "    ax2.barbs(d, 0, MWu[i], MWv[i],\n",
    "              length=6, linewidth=.85, zorder=10,\n",
    "              barb_increments=dict(half=2.5, full=5, flag=25), color=[.15,.15,.15])\n",
    "\n",
    "    \n",
    "#ax2.xaxis.grid()\n",
    "ax2.set_ylim([0,35])\n",
    "ax2.set_yticks(range(0,40,10))\n",
    "ax2.set_ylabel(r'Wind Speed (m s$\\mathregular{^{-1}}$)')\n",
    "ax2.xaxis.set_major_formatter(formatter)\n",
    "ax2.xaxis.set_major_locator(mdates.HourLocator(range(0, 24, 3)))\n",
    "ax2.xaxis.set_minor_locator(mdates.HourLocator(range(0, 24, 1)))\n",
    "\n",
    "legend = ax2.legend(frameon=True, framealpha=.8, loc='best')\n",
    "legend.get_frame().set_linewidth(0)\n",
    "\n",
    "ax2.set_xlim([DATE, DATE+timedelta(hours=18)])\n",
    "\n",
    "#ax1.set_title('%s HRRR forecast initialized %s' % (stn, DATE.strftime('%Y-%b-%d %H:%M UTC')))\n",
    "\n",
    "plt.savefig('./figs/Fig_03_%s_forecast_initialized_%s' % (stn, DATE.strftime('%Y%m%d_%H%M_UTC')))"
   ]
  },
  {
   "cell_type": "markdown",
   "metadata": {},
   "source": [
    "## Print values of each point "
   ]
  },
  {
   "cell_type": "code",
   "execution_count": 9,
   "metadata": {
    "collapsed": false
   },
   "outputs": [
    {
     "name": "stdout",
     "output_type": "stream",
     "text": [
      "Observed: HWKC1\n",
      "4.02\t2017-10-08 23:56:00\n",
      "6.26\t2017-10-09 00:56:00\n",
      "8.94\t2017-10-09 01:56:00\n",
      "15.64\t2017-10-09 02:56:00\n",
      "11.62\t2017-10-09 03:56:00\n",
      "13.41\t2017-10-09 04:56:00\n",
      "18.78\t2017-10-09 05:56:00\n",
      "21.46\t2017-10-09 06:56:00\n",
      "16.99\t2017-10-09 07:56:00\n",
      "19.22\t2017-10-09 08:56:00\n",
      "20.11\t2017-10-09 09:56:00\n",
      "16.09\t2017-10-09 10:56:00\n",
      "4.02\t2017-10-09 11:56:00\n",
      "2.23\t2017-10-09 12:56:00\n",
      "0.45\t2017-10-09 13:56:00\n",
      "0.0\t2017-10-09 14:56:00\n",
      "4.02\t2017-10-09 15:56:00\n",
      "6.7\t2017-10-09 16:56:00\n",
      "4.02\t2017-10-09 17:56:00\n"
     ]
    }
   ],
   "source": [
    "print \"Observed: HWKC1\"\n",
    "for i, D in enumerate(a['DATETIME']):\n",
    "    print '%s\\t%s' % (a['wind_speed'][i], D)"
   ]
  },
  {
   "cell_type": "code",
   "execution_count": 10,
   "metadata": {
    "collapsed": false
   },
   "outputs": [
    {
     "name": "stdout",
     "output_type": "stream",
     "text": [
      "HRRR: HWKC1\n",
      "7.4449128467\t2017-10-09 00:00:00\n",
      "9.03805211915\t2017-10-09 01:00:00\n",
      "8.8914745173\t2017-10-09 02:00:00\n",
      "12.5871358688\t2017-10-09 03:00:00\n",
      "14.5131150489\t2017-10-09 04:00:00\n",
      "15.7435100445\t2017-10-09 05:00:00\n",
      "16.5594622435\t2017-10-09 06:00:00\n",
      "16.540483229\t2017-10-09 07:00:00\n",
      "16.4962274111\t2017-10-09 08:00:00\n",
      "16.2753811324\t2017-10-09 09:00:00\n",
      "15.7846303813\t2017-10-09 10:00:00\n",
      "15.1464610785\t2017-10-09 11:00:00\n",
      "14.760543934\t2017-10-09 12:00:00\n",
      "14.5952863844\t2017-10-09 13:00:00\n",
      "13.9954156182\t2017-10-09 14:00:00\n",
      "13.0610800523\t2017-10-09 15:00:00\n",
      "11.7129510392\t2017-10-09 16:00:00\n",
      "10.2066104188\t2017-10-09 17:00:00\n",
      "8.11927100456\t2017-10-09 18:00:00\n"
     ]
    }
   ],
   "source": [
    "print \"HRRR: HWKC1\"\n",
    "for i, D in enumerate(pollywogs['UGRD:10 m'][:,0]):\n",
    "    print '%s\\t%s' % (spd10[i], D)"
   ]
  },
  {
   "cell_type": "code",
   "execution_count": null,
   "metadata": {
    "collapsed": true
   },
   "outputs": [],
   "source": []
  },
  {
   "cell_type": "code",
   "execution_count": null,
   "metadata": {
    "collapsed": true
   },
   "outputs": [],
   "source": []
  }
 ],
 "metadata": {
  "kernelspec": {
   "display_name": "Python 2",
   "language": "python",
   "name": "python2"
  },
  "language_info": {
   "codemirror_mode": {
    "name": "ipython",
    "version": 2
   },
   "file_extension": ".py",
   "mimetype": "text/x-python",
   "name": "python",
   "nbconvert_exporter": "python",
   "pygments_lexer": "ipython2",
   "version": "2.7.11"
  }
 },
 "nbformat": 4,
 "nbformat_minor": 0
}
