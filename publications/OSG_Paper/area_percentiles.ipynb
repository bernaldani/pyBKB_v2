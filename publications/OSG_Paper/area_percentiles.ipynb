{
 "cells": [
  {
   "cell_type": "code",
   "execution_count": 72,
   "metadata": {
    "collapsed": true
   },
   "outputs": [],
   "source": [
    "%matplotlib inline\n",
    "import h5py\n",
    "import matplotlib.pyplot as plt\n",
    "import multiprocessing\n",
    "import numpy as np\n",
    "from mpl_toolkits.basemap import Basemap\n",
    "\n",
    "import sys\n",
    "sys.path.append('/uufs/chpc.utah.edu/common/home/u0553130/pyBKB_v2')\n",
    "from BB_downloads.HRRR_S3 import *\n",
    "from BB_wx_calcs.wind import wind_uv_to_spd\n",
    "from BB_basemap.draw_maps import draw_CONUS_HRRR_map\n",
    "from BB_MesoWest.MesoWest_STNinfo import get_MW_location_dict\n",
    "from BB_MesoWest.MesoWest_timeseries import get_mesowest_ts\n",
    "from BB_MesoWest.MesoWest_nearesttime import get_mesowest_nearesttime\n",
    "from BB_MesoWest.MesoWest_percentiles import get_mesowest_percentiles\n",
    "from BB_data.grid_manager import pluck_point_new\n",
    "from BB_wx_calcs.wind import wind_uv_to_spd"
   ]
  },
  {
   "cell_type": "code",
   "execution_count": 73,
   "metadata": {
    "collapsed": true
   },
   "outputs": [],
   "source": [
    "from matplotlib.dates import DateFormatter\n",
    "formatter = DateFormatter('%b')\n",
    "\n",
    "import matplotlib as mpl \n",
    "two_column = 5.5\n",
    "one_column = 3.2\n",
    "twothird_column = 6.8\n",
    "mpl.rcParams['figure.figsize'] = [one_column, 2.8]\n",
    "mpl.rcParams['figure.titlesize'] = 12\n",
    "mpl.rcParams['figure.titleweight'] = 'bold'\n",
    "mpl.rcParams['xtick.labelsize'] = 8\n",
    "mpl.rcParams['ytick.labelsize'] = 8\n",
    "mpl.rcParams['axes.labelsize'] = 8\n",
    "mpl.rcParams['axes.titlesize'] = 10\n",
    "mpl.rcParams['lines.linewidth'] = 1.8\n",
    "mpl.rcParams['grid.linewidth'] = .25\n",
    "mpl.rcParams['figure.subplot.wspace'] = 0.03\n",
    "mpl.rcParams['figure.subplot.hspace'] = 0.00\n",
    "mpl.rcParams['legend.fontsize'] = 7\n",
    "mpl.rcParams['legend.framealpha'] = .75\n",
    "mpl.rcParams['legend.loc'] = 'best'\n",
    "mpl.rcParams['savefig.bbox'] = 'tight'\n",
    "    \n",
    "mpl.rcParams['savefig.dpi'] = 1000    # 600 for print"
   ]
  },
  {
   "cell_type": "markdown",
   "metadata": {},
   "source": [
    "| One Colulmn | 2/3 Page   | Two Columns   | More than 2 columns  |\n",
    "|---|---|---|---|\n",
    "| 3.2   | 4.5  | 5.5  | 6.5  |"
   ]
  },
  {
   "cell_type": "code",
   "execution_count": 74,
   "metadata": {
    "collapsed": true
   },
   "outputs": [],
   "source": [
    "# Load Lat/Lon Grid\n",
    "DIR = '/uufs/chpc.utah.edu/common/home/horel-group2/blaylock/HRRR_OSG/'\n",
    "latlon_file = h5py.File(DIR+'OSG_HRRR_latlon.h5', 'r')\n",
    "lat = latlon_file['latitude'].value\n",
    "lon = latlon_file['longitude'].value"
   ]
  },
  {
   "cell_type": "code",
   "execution_count": 75,
   "metadata": {
    "collapsed": true
   },
   "outputs": [],
   "source": [
    "DATE = datetime(2017, 10, 9, 6)\n",
    "fxx = 0\n",
    "stn = 'HWKC1'\n",
    "\n",
    "var = 'UVGRD:10 m'\n",
    "\n",
    "# MesoWest Station Info\n",
    "LD = get_MW_location_dict(stn)\n",
    "MWlat = LD[stn]['latitude']\n",
    "MWlon = LD[stn]['longitude']"
   ]
  },
  {
   "cell_type": "code",
   "execution_count": 76,
   "metadata": {
    "collapsed": false
   },
   "outputs": [
    {
     "name": "stdout",
     "output_type": "stream",
     "text": [
      "38.73599 38.735086 and -122.83093 -122.837058\n"
     ]
    }
   ],
   "source": [
    "# Pluck point\n",
    "point = pluck_point_new(MWlat, MWlon, lat, lon)\n",
    "x = point[0][0]\n",
    "y = point[1][0]\n",
    "\n",
    "print lat[x,y], MWlat, 'and',lon[x,y], MWlon"
   ]
  },
  {
   "cell_type": "code",
   "execution_count": 77,
   "metadata": {
    "collapsed": true
   },
   "outputs": [],
   "source": [
    "if var == 'TMP:2 m':\n",
    "    ylabel = '2 m Temperature (C)'\n",
    "elif var == 'DPT:2 m':\n",
    "    ylabel = '2 m Dew Point (C)'\n",
    "elif var == 'UVGRD:10 m':\n",
    "    ylabel = r'10 m Wind Speed (m s$\\mathregular{^{-1}}$)'\n",
    "elif var == 'UVGRD:80 m':\n",
    "    ylabel = r'80 m Wind Speed (m s$\\mathregular{^{-1}}$)'\n",
    "elif var == 'REFC:entire':\n",
    "    ylabel = 'Simulated Composite Reflecivity (dBZ)'\n",
    "elif var == 'HGT:500':\n",
    "    ylabel = 'Geopotential Height (m)'"
   ]
  },
  {
   "cell_type": "markdown",
   "metadata": {},
   "source": [
    "## Get OSG Percentiles for a Point"
   ]
  },
  {
   "cell_type": "code",
   "execution_count": 86,
   "metadata": {
    "collapsed": false
   },
   "outputs": [
    {
     "name": "stdout",
     "output_type": "stream",
     "text": [
      "/uufs/chpc.utah.edu/common/home/horel-group2/blaylock/HRRR_OSG/hourly30/UVGRD_10_m/OSG_HRRR_UVGRD_10_m_m10_d09_h06_f00.h5\n",
      "Station: (99.999913961830742, 16.417688)\n"
     ]
    },
    {
     "data": {
      "image/png": "[encoded data removed]",
      "text/plain": [
       "<matplotlib.figure.Figure at 0x2b890be396d0>"
      ]
     },
     "metadata": {},
     "output_type": "display_data"
    }
   ],
   "source": [
    "variable = var.replace(':', '_').replace(' ', '_')\n",
    "DIR = '/uufs/chpc.utah.edu/common/home/horel-group2/blaylock/HRRR_OSG/hourly30/%s/' % (variable)\n",
    "FILE = 'OSG_HRRR_%s_m%02d_d%02d_h%02d_f00.h5' % ((variable, DATE.month, DATE.day, DATE.hour))\n",
    "print DIR+FILE\n",
    "\n",
    "percentiles = [0,1,2,3,4,5,10,25,33,50,66,75,90,95,96,97,98,99,100]\n",
    "box_radius = 5\n",
    "\n",
    "with h5py.File(DIR+FILE, 'r') as ff:\n",
    "    for i in percentiles:\n",
    "        pp = ff[\"p%02d\" % i][x-box_radius:x+box_radius+1,y-box_radius:y+box_radius+1]\n",
    "        if i == 0:\n",
    "            PP = pp\n",
    "        else:\n",
    "            PP = np.dstack([PP, pp])\n",
    "\n",
    "## Convert Units\n",
    "if var == 'TMP:2 m' or var == 'DPT:2 m':\n",
    "    PP -= 273.15\n",
    "\n",
    "## Clalculate area percentiles for each percentile from the OSG percentiles\n",
    "for i, percentile in enumerate(percentiles):\n",
    "    p = np.percentile(PP[:,:,i], [0, 1, 2, 3, 4, 5, 25, 50, 75, 95, 96, 97, 98, 99, 100])\n",
    "    if i == 0:\n",
    "        area_P = p\n",
    "    else:\n",
    "        area_P = np.dstack([area_P, p])\n",
    "\n",
    "## HRRR Model Run date\n",
    "RUN = DATE-timedelta(hours=fxx)\n",
    "\n",
    "## Get HRRR data for this run\n",
    "if var.split(':')[0] == 'UVGRD':\n",
    "    # Calculate wind speed from U and V components\n",
    "    level = var.split(':')[1]\n",
    "    HU = get_hrrr_variable(RUN, 'UGRD:'+level, fxx=fxx, value_only=True, verbose=False)    \n",
    "    HV = get_hrrr_variable(RUN, 'VGRD:'+level, fxx=fxx, value_only=True, verbose=False)\n",
    "    speed = wind_uv_to_spd(HU['value'], HV['value'])\n",
    "    H = HU.copy()\n",
    "    H['value'] = speed\n",
    "else:\n",
    "    H = get_hrrr_variable(RUN, var, fxx=f, verbose=False)\n",
    "\n",
    "\n",
    "## Convert units and get values in bounding box area\n",
    "if var == 'TMP:2 m' or var == 'DPT:2 m':\n",
    "    Hpoint = H['value'][x,y]-273.15\n",
    "    Harea = H['value'][x-box_radius:x+box_radius+1,y-box_radius:y+box_radius+1]-273.15    \n",
    "else:\n",
    "    Hpoint = H['value'][x,y]\n",
    "    Harea = H['value'][x-box_radius:x+box_radius+1,y-box_radius:y+box_radius+1]\n",
    "\n",
    "\n",
    "## --- Plot OSG percentiles ---------------------------------------\n",
    "plt.fill_between(percentiles, area_P[0][5], area_P[0][-6],\n",
    "                 label='p05-p95',\n",
    "                 facecolor=[.8, .8, .8],\n",
    "                 linewidth=0,\n",
    "                 zorder=1)\n",
    "plt.fill_between(percentiles, area_P[0][6], area_P[0][-7],\n",
    "                 facecolor=[.5, .5, .5],\n",
    "                 linewidth=0,\n",
    "                 label='p25-p75',\n",
    "                 zorder=1)\n",
    "\n",
    "plt.plot(percentiles, area_P[0][7],\n",
    "         color=[.8, .8, .8],\n",
    "         linewidth=1,\n",
    "         zorder=10)\n",
    "\n",
    "for per in [0, -1]:\n",
    "    plt.plot(percentiles, area_P[0][per],\n",
    "             color=[.8, .8, .8],\n",
    "             linestyle='--', dashes=(5,3),\n",
    "             linewidth=1,\n",
    "             zorder=10)\n",
    "\n",
    "## Plot OSG percentiles for the single grid box nearest the station of interest\n",
    "plt.plot(percentiles, PP[box_radius,box_radius,:],\n",
    "         color='k',\n",
    "         label='%s OSG Percentiles' % stn,\n",
    "         zorder=100)\n",
    "\n",
    "\n",
    "\n",
    "## Plot value from current HRRR run for every grid box\n",
    "#for i in range(box_radius*2+1):\n",
    "#    for j in range(box_radius*2+1):\n",
    "#        plt.axhline(Harea[i,j], linewidth=.1)\n",
    "\n",
    "## Plot HRRR value for stn grid box for urrent HRRR run\n",
    "# Linear interpolation to find the percentile for the value\n",
    "stnPP = PP[box_radius,box_radius,:]\n",
    "if Hpoint > np.max(stnPP):\n",
    "    Y = Hpoint\n",
    "    X = 100\n",
    "    print \"station Hpoint > PP, exceeds p100\", D, f\n",
    "elif Hpoint < np.min(stnPP):\n",
    "    Y = Hpoint\n",
    "    X = 0\n",
    "    print \"station Hpoint < PP, exceeds p00\", D, f\n",
    "else:\n",
    "    y1 = np.min(filter(lambda x: x>=Hpoint, stnPP))\n",
    "    y1_idx = np.where(stnPP==y1)[0][0]\n",
    "    x1 = percentiles[y1_idx]\n",
    "    y2 = stnPP[y1_idx-1]\n",
    "    x2 = percentiles[y1_idx-1]\n",
    "    m = (y2-y1)/(x2-x1)\n",
    "    b = 0-m*x1+y1\n",
    "    Y = Hpoint\n",
    "    X = (Y-b)/m\n",
    "    print 'Station:', (X, Y)\n",
    "\n",
    "\n",
    "## --- Other Plot Elements --------------------------------------\n",
    "plt.title('%sx%s km box centered at' % (np.shape(PP)[0]*3, np.shape(PP)[0]*3), loc='left')\n",
    "plt.title('%s' % (stn), fontweight='semibold', loc='right')\n",
    "tick_labels = [0,'','','','','', 10, 25, 33, 50, 66, 75, 90, '', '', '', '','',100]\n",
    "plt.xticks(percentiles, tick_labels)\n",
    "plt.xlim([0,100])\n",
    "plt.ylabel(ylabel)\n",
    "plt.xlabel('Percentile')\n",
    "\n",
    "plt.savefig('./figs/area_percentiles_%s' % stn)"
   ]
  },
  {
   "cell_type": "code",
   "execution_count": 83,
   "metadata": {
    "collapsed": false
   },
   "outputs": [
    {
     "name": "stdout",
     "output_type": "stream",
     "text": [
      "-122.61779 -123.04462\n",
      "38.56945 38.9024\n"
     ]
    }
   ],
   "source": [
    "LATS_BOX = lat[x-box_radius:x+box_radius+1,y-box_radius:y+box_radius+1]\n",
    "LONS_BOX = lon[x-box_radius:x+box_radius+1,y-box_radius:y+box_radius+1]\n",
    "\n",
    "top_right_lat = LATS_BOX.max()\n",
    "top_right_lon = LONS_BOX.min()\n",
    "\n",
    "bot_left_lat = LATS_BOX.min()\n",
    "bot_left_lon = LONS_BOX.max()\n",
    "\n",
    "print bot_left_lon, top_right_lon\n",
    "print bot_left_lat, top_right_lat\n",
    "\n",
    "m = Basemap(llcrnrlon=MWlon-.3,  urcrnrlon=MWlon+.3,\n",
    "            llcrnrlat=MWlat-.3, urcrnrlat=MWlat+.3)"
   ]
  },
  {
   "cell_type": "code",
   "execution_count": 85,
   "metadata": {
    "collapsed": false
   },
   "outputs": [
    {
     "data": {
      "image/png": "[encoded data removed]",
      "text/plain": [
       "<matplotlib.figure.Figure at 0x2b890bcc6dd0>"
      ]
     },
     "metadata": {},
     "output_type": "display_data"
    }
   ],
   "source": [
    "plt.figure(figsize=[1.5, 1.5])\n",
    "m.drawcounties()\n",
    "m.arcgisimage(service='World_Shaded_Relief', dpi=1000)\n",
    "\n",
    "#m.pcolormesh(LONS_BOX, LATS_BOX, np.ones_like(LONS_BOX), alpha=.4)\n",
    "m.scatter(MWlon, MWlat, color='white', edgecolor='k')\n",
    "\n",
    "# Bottom Boundary\n",
    "m.drawgreatcircle(LONS_BOX[0,-1], LATS_BOX[0,-1],\n",
    "                  LONS_BOX[0,0], LATS_BOX[0,0],\n",
    "                  color='crimson',\n",
    "                  linewidth=.8)\n",
    "\n",
    "# Left Boundary\n",
    "m.drawgreatcircle(LONS_BOX[0,0], LATS_BOX[0,0],\n",
    "                  LONS_BOX[-1,0], LATS_BOX[-1,0],\n",
    "                  color='crimson',\n",
    "                  linewidth=.8)\n",
    "\n",
    "# Top Boundary\n",
    "m.drawgreatcircle(LONS_BOX[-1,-1], LATS_BOX[-1,-1],\n",
    "                  LONS_BOX[-1,0], LATS_BOX[-1,0],\n",
    "                  color='crimson',\n",
    "                  linewidth=.8)\n",
    "\n",
    "# Right Boundary\n",
    "m.drawgreatcircle(LONS_BOX[-1,-1], LATS_BOX[-1,-1],\n",
    "                  LONS_BOX[0,-1], LATS_BOX[0,-1],\n",
    "                  color='crimson',\n",
    "                  linewidth=.8)\n",
    "\n",
    "plt.savefig('./figs/area_percentiles_%s_map' % stn, transparent=True)"
   ]
  },
  {
   "cell_type": "code",
   "execution_count": null,
   "metadata": {
    "collapsed": true
   },
   "outputs": [],
   "source": []
  }
 ],
 "metadata": {
  "kernelspec": {
   "display_name": "Python 2",
   "language": "python",
   "name": "python2"
  },
  "language_info": {
   "codemirror_mode": {
    "name": "ipython",
    "version": 2
   },
   "file_extension": ".py",
   "mimetype": "text/x-python",
   "name": "python",
   "nbconvert_exporter": "python",
   "pygments_lexer": "ipython2",
   "version": "2.7.11"
  }
 },
 "nbformat": 4,
 "nbformat_minor": 0
}
